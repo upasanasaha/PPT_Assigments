{
 "cells": [
  {
   "cell_type": "markdown",
   "id": "a0b7d1f2",
   "metadata": {},
   "source": [
    "**Question 10** -\n",
    "\n",
    "Write a program to count the number of verbs, nouns, pronouns, and adjectives in a given particular phrase or\n",
    "paragraph, and return their respective count as a dictionary.\n",
    "\n",
    "**Note** -\n",
    "\n",
    "1. Write code comments wherever required for code\n",
    "\n",
    "2. You have to write at least 2 additional test cases in which your program will run successfully and provide an explanation for the same"
   ]
  },
  {
   "cell_type": "code",
   "execution_count": 1,
   "id": "03110417",
   "metadata": {},
   "outputs": [],
   "source": [
    "import spacy\n",
    "nlp = spacy.load('en_core_web_sm')"
   ]
  },
  {
   "cell_type": "code",
   "execution_count": 2,
   "id": "44797a45",
   "metadata": {},
   "outputs": [],
   "source": [
    "def POS(string):\n",
    "    doc = nlp(string)\n",
    "    pos_list=[]\n",
    "    for token in doc:\n",
    "        pos_list.append(token.pos_)\n",
    "    count={'nouns':0,'pronouns':0,'verbs':0,'adjectives':0}\n",
    "    for i in pos_list:\n",
    "        if i=='NOUN':\n",
    "            count['nouns']+=1\n",
    "        elif i=='PRON':\n",
    "            count['pronouns']+=1\n",
    "        elif i=='ADJ':\n",
    "            count['adjectives']+=1\n",
    "        elif i=='VERB':\n",
    "            count['verbs']+=1\n",
    "    return count"
   ]
  },
  {
   "cell_type": "code",
   "execution_count": 3,
   "id": "e23afcda",
   "metadata": {},
   "outputs": [
    {
     "data": {
      "text/plain": [
       "{'nouns': 2, 'pronouns': 0, 'verbs': 1, 'adjectives': 3}"
      ]
     },
     "execution_count": 3,
     "metadata": {},
     "output_type": "execute_result"
    }
   ],
   "source": [
    "POS('The quick brown fox jumped over the lazy dog')"
   ]
  },
  {
   "cell_type": "code",
   "execution_count": 4,
   "id": "1346ca7e",
   "metadata": {},
   "outputs": [
    {
     "data": {
      "text/plain": [
       "{'nouns': 2, 'pronouns': 1, 'verbs': 2, 'adjectives': 1}"
      ]
     },
     "execution_count": 4,
     "metadata": {},
     "output_type": "execute_result"
    }
   ],
   "source": [
    "POS('Ram does not want to go to school. He is a lazy boy.')"
   ]
  },
  {
   "cell_type": "code",
   "execution_count": 5,
   "id": "ecaa132a",
   "metadata": {},
   "outputs": [
    {
     "data": {
      "text/plain": [
       "{'nouns': 3, 'pronouns': 1, 'verbs': 1, 'adjectives': 1}"
      ]
     },
     "execution_count": 5,
     "metadata": {},
     "output_type": "execute_result"
    }
   ],
   "source": [
    "POS('They are playing football in the ground on a rainy day.')"
   ]
  },
  {
   "cell_type": "code",
   "execution_count": null,
   "id": "769be223",
   "metadata": {},
   "outputs": [],
   "source": []
  }
 ],
 "metadata": {
  "kernelspec": {
   "display_name": "Python 3 (ipykernel)",
   "language": "python",
   "name": "python3"
  },
  "language_info": {
   "codemirror_mode": {
    "name": "ipython",
    "version": 3
   },
   "file_extension": ".py",
   "mimetype": "text/x-python",
   "name": "python",
   "nbconvert_exporter": "python",
   "pygments_lexer": "ipython3",
   "version": "3.8.11"
  }
 },
 "nbformat": 4,
 "nbformat_minor": 5
}
