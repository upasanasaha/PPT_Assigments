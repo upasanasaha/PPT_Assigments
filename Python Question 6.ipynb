{
 "cells": [
  {
   "cell_type": "markdown",
   "id": "a35537ae",
   "metadata": {},
   "source": [
    "**Question 6**-\n",
    "Using the data from Question 3, write code to analyze the data and answer the following questions.\n",
    "\n",
    "1.Draw plots to demonstrate the analysis for the following questions for better visualizations.\n",
    "\n",
    "2.Write code comments wherever required for code understanding\n",
    "\n",
    "Insights to be drawn -\n",
    "* Get all Pokemons whose spawn rate is less than 5%\n",
    "* Get all Pokemons that have less than 4 weaknesses\n",
    "* Get all Pokemons that have no multipliers at all\n",
    "* Get all Pokemons that do not have more than 2 evolutions\n",
    "* Get all Pokemons whose spawn time is less than 300 seconds.\n",
    "Note - spawn time format is \"05:32”, so assume “minute: second” format and perform the analysis.\n",
    "* Get all Pokemon who have more than two types of capabilities"
   ]
  },
  {
   "cell_type": "code",
   "execution_count": 1,
   "id": "15c3b8ee",
   "metadata": {},
   "outputs": [],
   "source": [
    "import pandas as pd\n",
    "#Loading the json data\n",
    "data=pd.read_json('https://raw.githubusercontent.com/Biuni/PokemonGO-Pokedex/master/pokedex.json')"
   ]
  },
  {
   "cell_type": "code",
   "execution_count": 2,
   "id": "917f688c",
   "metadata": {
    "scrolled": true
   },
   "outputs": [
    {
     "name": "stderr",
     "output_type": "stream",
     "text": [
      "C:\\Users\\Upasana\\AppData\\Local\\Temp/ipykernel_17436/4103419672.py:3: FutureWarning: pandas.io.json.json_normalize is deprecated, use pandas.json_normalize instead\n",
      "  pokemon_data = json_normalize(data['pokemon'])\n"
     ]
    }
   ],
   "source": [
    "#Changing nested json to dataframe\n",
    "from pandas.io.json import json_normalize\n",
    "pokemon_data = json_normalize(data['pokemon'])"
   ]
  },
  {
   "cell_type": "code",
   "execution_count": 3,
   "id": "d3129d04",
   "metadata": {},
   "outputs": [],
   "source": [
    "#Formatting height, weight and egg\n",
    "pokemon_data['height']=pokemon_data.height.str.rstrip(' m')\n",
    "pokemon_data['weight']=pokemon_data.weight.str.rstrip(' kg')\n",
    "pokemon_data['egg']=pokemon_data.egg.str.rstrip(' km')"
   ]
  },
  {
   "cell_type": "code",
   "execution_count": 4,
   "id": "02d398dc",
   "metadata": {},
   "outputs": [
    {
     "data": {
      "text/plain": [
       "id                  int64\n",
       "num                object\n",
       "name               object\n",
       "img                object\n",
       "type               object\n",
       "height             object\n",
       "weight             object\n",
       "candy              object\n",
       "candy_count       float64\n",
       "egg                object\n",
       "spawn_chance      float64\n",
       "avg_spawns        float64\n",
       "spawn_time         object\n",
       "multipliers        object\n",
       "weaknesses         object\n",
       "next_evolution     object\n",
       "prev_evolution     object\n",
       "dtype: object"
      ]
     },
     "execution_count": 4,
     "metadata": {},
     "output_type": "execute_result"
    }
   ],
   "source": [
    "#Checking dataypes of columns\n",
    "pokemon_data.dtypes"
   ]
  },
  {
   "cell_type": "code",
   "execution_count": 5,
   "id": "9a61484e",
   "metadata": {},
   "outputs": [
    {
     "data": {
      "text/plain": [
       "id                 0\n",
       "num                0\n",
       "name               0\n",
       "img                0\n",
       "type               0\n",
       "height             0\n",
       "weight             0\n",
       "candy              0\n",
       "candy_count       81\n",
       "egg                0\n",
       "spawn_chance       0\n",
       "avg_spawns         0\n",
       "spawn_time         0\n",
       "multipliers       81\n",
       "weaknesses         0\n",
       "next_evolution    81\n",
       "prev_evolution    79\n",
       "dtype: int64"
      ]
     },
     "execution_count": 5,
     "metadata": {},
     "output_type": "execute_result"
    }
   ],
   "source": [
    "#Checking nulls in different columns\n",
    "pokemon_data.isna().sum()"
   ]
  },
  {
   "cell_type": "code",
   "execution_count": 6,
   "id": "be0de46b",
   "metadata": {},
   "outputs": [],
   "source": [
    "#Changing dtype acording to data description given in question\n",
    "pokemon_data['height']=pokemon_data['height'].astype('float')\n",
    "pokemon_data['weight']=pokemon_data['weight'].astype('float')\n",
    "pokemon_data['candy_count']=pokemon_data['candy_count'].fillna(0).astype('int')\n",
    "pokemon_data['egg']=pokemon_data['egg'].replace(['Not in Eggs','Omanyte Candy'],0).astype('float')\n",
    "pokemon_data['avg_spawns']=pokemon_data['avg_spawns'].astype('int')"
   ]
  },
  {
   "cell_type": "code",
   "execution_count": 7,
   "id": "696d8e4d",
   "metadata": {},
   "outputs": [],
   "source": [
    "def float_to_int(x):\n",
    "    x=[round(i) for i in x]\n",
    "    return x"
   ]
  },
  {
   "cell_type": "code",
   "execution_count": 8,
   "id": "e577614c",
   "metadata": {},
   "outputs": [],
   "source": [
    "#Changing list of floats to list of ints\n",
    "pokemon_data['multipliers']=pokemon_data['multipliers'].fillna(\"\").apply(list)\n",
    "pokemon_data['multipliers']=pokemon_data['multipliers'].apply(float_to_int)"
   ]
  },
  {
   "cell_type": "code",
   "execution_count": 9,
   "id": "e9dcd6a3",
   "metadata": {},
   "outputs": [
    {
     "data": {
      "text/html": [
       "<div>\n",
       "<style scoped>\n",
       "    .dataframe tbody tr th:only-of-type {\n",
       "        vertical-align: middle;\n",
       "    }\n",
       "\n",
       "    .dataframe tbody tr th {\n",
       "        vertical-align: top;\n",
       "    }\n",
       "\n",
       "    .dataframe thead th {\n",
       "        text-align: right;\n",
       "    }\n",
       "</style>\n",
       "<table border=\"1\" class=\"dataframe\">\n",
       "  <thead>\n",
       "    <tr style=\"text-align: right;\">\n",
       "      <th></th>\n",
       "      <th>id</th>\n",
       "      <th>num</th>\n",
       "      <th>name</th>\n",
       "      <th>img</th>\n",
       "      <th>type</th>\n",
       "      <th>height</th>\n",
       "      <th>weight</th>\n",
       "      <th>candy</th>\n",
       "      <th>candy_count</th>\n",
       "      <th>egg</th>\n",
       "      <th>spawn_chance</th>\n",
       "      <th>avg_spawns</th>\n",
       "      <th>spawn_time</th>\n",
       "      <th>multipliers</th>\n",
       "      <th>weaknesses</th>\n",
       "      <th>next_evolution</th>\n",
       "      <th>prev_evolution</th>\n",
       "    </tr>\n",
       "  </thead>\n",
       "  <tbody>\n",
       "    <tr>\n",
       "      <th>0</th>\n",
       "      <td>1</td>\n",
       "      <td>001</td>\n",
       "      <td>Bulbasaur</td>\n",
       "      <td>http://www.serebii.net/pokemongo/pokemon/001.png</td>\n",
       "      <td>[Grass, Poison]</td>\n",
       "      <td>0.71</td>\n",
       "      <td>6.9</td>\n",
       "      <td>Bulbasaur Candy</td>\n",
       "      <td>25</td>\n",
       "      <td>2.0</td>\n",
       "      <td>0.690</td>\n",
       "      <td>69</td>\n",
       "      <td>20:00</td>\n",
       "      <td>[2]</td>\n",
       "      <td>[Fire, Ice, Flying, Psychic]</td>\n",
       "      <td>[{'num': '002', 'name': 'Ivysaur'}, {'num': '0...</td>\n",
       "      <td>NaN</td>\n",
       "    </tr>\n",
       "    <tr>\n",
       "      <th>1</th>\n",
       "      <td>2</td>\n",
       "      <td>002</td>\n",
       "      <td>Ivysaur</td>\n",
       "      <td>http://www.serebii.net/pokemongo/pokemon/002.png</td>\n",
       "      <td>[Grass, Poison]</td>\n",
       "      <td>0.99</td>\n",
       "      <td>13.0</td>\n",
       "      <td>Bulbasaur Candy</td>\n",
       "      <td>100</td>\n",
       "      <td>0.0</td>\n",
       "      <td>0.042</td>\n",
       "      <td>4</td>\n",
       "      <td>07:00</td>\n",
       "      <td>[1, 2]</td>\n",
       "      <td>[Fire, Ice, Flying, Psychic]</td>\n",
       "      <td>[{'num': '003', 'name': 'Venusaur'}]</td>\n",
       "      <td>[{'num': '001', 'name': 'Bulbasaur'}]</td>\n",
       "    </tr>\n",
       "    <tr>\n",
       "      <th>2</th>\n",
       "      <td>3</td>\n",
       "      <td>003</td>\n",
       "      <td>Venusaur</td>\n",
       "      <td>http://www.serebii.net/pokemongo/pokemon/003.png</td>\n",
       "      <td>[Grass, Poison]</td>\n",
       "      <td>2.01</td>\n",
       "      <td>100.0</td>\n",
       "      <td>Bulbasaur Candy</td>\n",
       "      <td>0</td>\n",
       "      <td>0.0</td>\n",
       "      <td>0.017</td>\n",
       "      <td>1</td>\n",
       "      <td>11:30</td>\n",
       "      <td>[]</td>\n",
       "      <td>[Fire, Ice, Flying, Psychic]</td>\n",
       "      <td>NaN</td>\n",
       "      <td>[{'num': '001', 'name': 'Bulbasaur'}, {'num': ...</td>\n",
       "    </tr>\n",
       "    <tr>\n",
       "      <th>3</th>\n",
       "      <td>4</td>\n",
       "      <td>004</td>\n",
       "      <td>Charmander</td>\n",
       "      <td>http://www.serebii.net/pokemongo/pokemon/004.png</td>\n",
       "      <td>[Fire]</td>\n",
       "      <td>0.61</td>\n",
       "      <td>8.5</td>\n",
       "      <td>Charmander Candy</td>\n",
       "      <td>25</td>\n",
       "      <td>2.0</td>\n",
       "      <td>0.253</td>\n",
       "      <td>25</td>\n",
       "      <td>08:45</td>\n",
       "      <td>[2]</td>\n",
       "      <td>[Water, Ground, Rock]</td>\n",
       "      <td>[{'num': '005', 'name': 'Charmeleon'}, {'num':...</td>\n",
       "      <td>NaN</td>\n",
       "    </tr>\n",
       "    <tr>\n",
       "      <th>4</th>\n",
       "      <td>5</td>\n",
       "      <td>005</td>\n",
       "      <td>Charmeleon</td>\n",
       "      <td>http://www.serebii.net/pokemongo/pokemon/005.png</td>\n",
       "      <td>[Fire]</td>\n",
       "      <td>1.09</td>\n",
       "      <td>19.0</td>\n",
       "      <td>Charmander Candy</td>\n",
       "      <td>100</td>\n",
       "      <td>0.0</td>\n",
       "      <td>0.012</td>\n",
       "      <td>1</td>\n",
       "      <td>19:00</td>\n",
       "      <td>[2]</td>\n",
       "      <td>[Water, Ground, Rock]</td>\n",
       "      <td>[{'num': '006', 'name': 'Charizard'}]</td>\n",
       "      <td>[{'num': '004', 'name': 'Charmander'}]</td>\n",
       "    </tr>\n",
       "  </tbody>\n",
       "</table>\n",
       "</div>"
      ],
      "text/plain": [
       "   id  num        name                                               img  \\\n",
       "0   1  001   Bulbasaur  http://www.serebii.net/pokemongo/pokemon/001.png   \n",
       "1   2  002     Ivysaur  http://www.serebii.net/pokemongo/pokemon/002.png   \n",
       "2   3  003    Venusaur  http://www.serebii.net/pokemongo/pokemon/003.png   \n",
       "3   4  004  Charmander  http://www.serebii.net/pokemongo/pokemon/004.png   \n",
       "4   5  005  Charmeleon  http://www.serebii.net/pokemongo/pokemon/005.png   \n",
       "\n",
       "              type  height  weight             candy  candy_count  egg  \\\n",
       "0  [Grass, Poison]    0.71     6.9   Bulbasaur Candy           25  2.0   \n",
       "1  [Grass, Poison]    0.99    13.0   Bulbasaur Candy          100  0.0   \n",
       "2  [Grass, Poison]    2.01   100.0   Bulbasaur Candy            0  0.0   \n",
       "3           [Fire]    0.61     8.5  Charmander Candy           25  2.0   \n",
       "4           [Fire]    1.09    19.0  Charmander Candy          100  0.0   \n",
       "\n",
       "   spawn_chance  avg_spawns spawn_time multipliers  \\\n",
       "0         0.690          69      20:00         [2]   \n",
       "1         0.042           4      07:00      [1, 2]   \n",
       "2         0.017           1      11:30          []   \n",
       "3         0.253          25      08:45         [2]   \n",
       "4         0.012           1      19:00         [2]   \n",
       "\n",
       "                     weaknesses  \\\n",
       "0  [Fire, Ice, Flying, Psychic]   \n",
       "1  [Fire, Ice, Flying, Psychic]   \n",
       "2  [Fire, Ice, Flying, Psychic]   \n",
       "3         [Water, Ground, Rock]   \n",
       "4         [Water, Ground, Rock]   \n",
       "\n",
       "                                      next_evolution  \\\n",
       "0  [{'num': '002', 'name': 'Ivysaur'}, {'num': '0...   \n",
       "1               [{'num': '003', 'name': 'Venusaur'}]   \n",
       "2                                                NaN   \n",
       "3  [{'num': '005', 'name': 'Charmeleon'}, {'num':...   \n",
       "4              [{'num': '006', 'name': 'Charizard'}]   \n",
       "\n",
       "                                      prev_evolution  \n",
       "0                                                NaN  \n",
       "1              [{'num': '001', 'name': 'Bulbasaur'}]  \n",
       "2  [{'num': '001', 'name': 'Bulbasaur'}, {'num': ...  \n",
       "3                                                NaN  \n",
       "4             [{'num': '004', 'name': 'Charmander'}]  "
      ]
     },
     "execution_count": 9,
     "metadata": {},
     "output_type": "execute_result"
    }
   ],
   "source": [
    "pokemon_data.head()"
   ]
  },
  {
   "cell_type": "markdown",
   "id": "72a5725d",
   "metadata": {},
   "source": [
    "**Get all Pokemons whose spawn rate is less than 5%**\n",
    "\n",
    "spawn_chance=spawn rate=avg_spawns/10000"
   ]
  },
  {
   "cell_type": "code",
   "execution_count": 10,
   "id": "dbaeb20e",
   "metadata": {},
   "outputs": [],
   "source": [
    "pokemon_spawn_rate_less_than_5=list(pokemon_data[pokemon_data.spawn_chance<5.0].name.unique())"
   ]
  },
  {
   "cell_type": "code",
   "execution_count": 11,
   "id": "de46900c",
   "metadata": {},
   "outputs": [
    {
     "data": {
      "text/plain": [
       "['Bulbasaur',\n",
       " 'Ivysaur',\n",
       " 'Venusaur',\n",
       " 'Charmander',\n",
       " 'Charmeleon',\n",
       " 'Charizard',\n",
       " 'Squirtle',\n",
       " 'Wartortle',\n",
       " 'Blastoise',\n",
       " 'Caterpie',\n",
       " 'Metapod',\n",
       " 'Butterfree',\n",
       " 'Kakuna',\n",
       " 'Beedrill',\n",
       " 'Pidgeotto',\n",
       " 'Pidgeot',\n",
       " 'Raticate',\n",
       " 'Spearow',\n",
       " 'Fearow',\n",
       " 'Ekans',\n",
       " 'Arbok',\n",
       " 'Pikachu',\n",
       " 'Raichu',\n",
       " 'Sandshrew',\n",
       " 'Sandslash',\n",
       " 'Nidoran ♀ (Female)',\n",
       " 'Nidorina',\n",
       " 'Nidoqueen',\n",
       " 'Nidoran ♂ (Male)',\n",
       " 'Nidorino',\n",
       " 'Nidoking',\n",
       " 'Clefairy',\n",
       " 'Clefable',\n",
       " 'Vulpix',\n",
       " 'Ninetales',\n",
       " 'Jigglypuff',\n",
       " 'Wigglytuff',\n",
       " 'Golbat',\n",
       " 'Oddish',\n",
       " 'Gloom',\n",
       " 'Vileplume',\n",
       " 'Paras',\n",
       " 'Parasect',\n",
       " 'Venonat',\n",
       " 'Venomoth',\n",
       " 'Diglett',\n",
       " 'Dugtrio',\n",
       " 'Meowth',\n",
       " 'Persian',\n",
       " 'Psyduck',\n",
       " 'Golduck',\n",
       " 'Mankey',\n",
       " 'Primeape',\n",
       " 'Growlithe',\n",
       " 'Arcanine',\n",
       " 'Poliwag',\n",
       " 'Poliwhirl',\n",
       " 'Poliwrath',\n",
       " 'Abra',\n",
       " 'Kadabra',\n",
       " 'Alakazam',\n",
       " 'Machop',\n",
       " 'Machoke',\n",
       " 'Machamp',\n",
       " 'Bellsprout',\n",
       " 'Weepinbell',\n",
       " 'Victreebel',\n",
       " 'Tentacool',\n",
       " 'Tentacruel',\n",
       " 'Geodude',\n",
       " 'Graveler',\n",
       " 'Golem',\n",
       " 'Ponyta',\n",
       " 'Rapidash',\n",
       " 'Slowpoke',\n",
       " 'Slowbro',\n",
       " 'Magnemite',\n",
       " 'Magneton',\n",
       " \"Farfetch'd\",\n",
       " 'Doduo',\n",
       " 'Dodrio',\n",
       " 'Seel',\n",
       " 'Dewgong',\n",
       " 'Grimer',\n",
       " 'Muk',\n",
       " 'Shellder',\n",
       " 'Cloyster',\n",
       " 'Gastly',\n",
       " 'Haunter',\n",
       " 'Gengar',\n",
       " 'Onix',\n",
       " 'Drowzee',\n",
       " 'Hypno',\n",
       " 'Krabby',\n",
       " 'Kingler',\n",
       " 'Voltorb',\n",
       " 'Electrode',\n",
       " 'Exeggcute',\n",
       " 'Exeggutor',\n",
       " 'Cubone',\n",
       " 'Marowak',\n",
       " 'Hitmonlee',\n",
       " 'Hitmonchan',\n",
       " 'Lickitung',\n",
       " 'Koffing',\n",
       " 'Weezing',\n",
       " 'Rhyhorn',\n",
       " 'Rhydon',\n",
       " 'Chansey',\n",
       " 'Tangela',\n",
       " 'Kangaskhan',\n",
       " 'Horsea',\n",
       " 'Seadra',\n",
       " 'Goldeen',\n",
       " 'Seaking',\n",
       " 'Staryu',\n",
       " 'Starmie',\n",
       " 'Mr. Mime',\n",
       " 'Scyther',\n",
       " 'Jynx',\n",
       " 'Electabuzz',\n",
       " 'Magmar',\n",
       " 'Pinsir',\n",
       " 'Tauros',\n",
       " 'Magikarp',\n",
       " 'Gyarados',\n",
       " 'Lapras',\n",
       " 'Ditto',\n",
       " 'Eevee',\n",
       " 'Vaporeon',\n",
       " 'Jolteon',\n",
       " 'Flareon',\n",
       " 'Porygon',\n",
       " 'Omanyte',\n",
       " 'Omastar',\n",
       " 'Kabuto',\n",
       " 'Kabutops',\n",
       " 'Aerodactyl',\n",
       " 'Snorlax',\n",
       " 'Articuno',\n",
       " 'Zapdos',\n",
       " 'Moltres',\n",
       " 'Dratini',\n",
       " 'Dragonair',\n",
       " 'Dragonite',\n",
       " 'Mewtwo',\n",
       " 'Mew']"
      ]
     },
     "execution_count": 11,
     "metadata": {},
     "output_type": "execute_result"
    }
   ],
   "source": [
    "pokemon_spawn_rate_less_than_5"
   ]
  },
  {
   "cell_type": "code",
   "execution_count": 12,
   "id": "561ba22d",
   "metadata": {},
   "outputs": [
    {
     "data": {
      "text/plain": [
       "147"
      ]
     },
     "execution_count": 12,
     "metadata": {},
     "output_type": "execute_result"
    }
   ],
   "source": [
    "len(pokemon_spawn_rate_less_than_5)           #147 pokemons have less than 5% spawn rate"
   ]
  },
  {
   "cell_type": "code",
   "execution_count": 16,
   "id": "ec405424",
   "metadata": {},
   "outputs": [],
   "source": [
    "import seaborn as sns\n",
    "import matplotlib.pyplot as plt\n",
    "import numpy as np"
   ]
  },
  {
   "cell_type": "code",
   "execution_count": 14,
   "id": "850f1681",
   "metadata": {},
   "outputs": [
    {
     "data": {
      "text/plain": [
       "15.98"
      ]
     },
     "execution_count": 14,
     "metadata": {},
     "output_type": "execute_result"
    }
   ],
   "source": [
    "pokemon_data['spawn_chance'].max()"
   ]
  },
  {
   "cell_type": "code",
   "execution_count": 17,
   "id": "e8a651b7",
   "metadata": {},
   "outputs": [
    {
     "data": {
      "text/plain": [
       "<AxesSubplot:xlabel='spawn_chance', ylabel='Count'>"
      ]
     },
     "execution_count": 17,
     "metadata": {},
     "output_type": "execute_result"
    },
    {
     "data": {
      "image/png": "[encoded data removed]",
      "text/plain": [
       "<Figure size 864x576 with 1 Axes>"
      ]
     },
     "metadata": {
      "needs_background": "light"
     },
     "output_type": "display_data"
    }
   ],
   "source": [
    "bins=np.arange(0,17)\n",
    "plt.figure(figsize=(12,8))\n",
    "sns.histplot(data=pokemon_data, x=\"spawn_chance\",bins=bins)\n",
    "#A large nuumber of data has spawn_chance<1"
   ]
  },
  {
   "cell_type": "code",
   "execution_count": 18,
   "id": "f016cd59",
   "metadata": {},
   "outputs": [
    {
     "data": {
      "text/plain": [
       "Text(0, 0.5, 'Percentage')"
      ]
     },
     "execution_count": 18,
     "metadata": {},
     "output_type": "execute_result"
    },
    {
     "data": {
      "image/png": "[encoded data removed]",
      "text/plain": [
       "<Figure size 864x576 with 1 Axes>"
      ]
     },
     "metadata": {
      "needs_background": "light"
     },
     "output_type": "display_data"
    }
   ],
   "source": [
    "plt.figure(figsize=(12,8))\n",
    "sns.ecdfplot(data=pokemon_data, x=\"spawn_chance\")\n",
    "plt.title('Percentage of cumulative data')\n",
    "plt.ylabel('Percentage')"
   ]
  },
  {
   "cell_type": "markdown",
   "id": "4a6273cd",
   "metadata": {},
   "source": [
    "**Get all Pokemons that have less than 4 weaknesses**"
   ]
  },
  {
   "cell_type": "code",
   "execution_count": 19,
   "id": "3da3f6cd",
   "metadata": {},
   "outputs": [],
   "source": [
    "#Creating a column counting the number of weaknesses of each pokemon\n",
    "pokemon_data['weakness_count']=pokemon_data['weaknesses'].apply(lambda x: len(x))"
   ]
  },
  {
   "cell_type": "code",
   "execution_count": 20,
   "id": "9e9cc935",
   "metadata": {},
   "outputs": [],
   "source": [
    "pokemon_weakness_less_than_4=list(pokemon_data[pokemon_data.weakness_count<4].name.unique())"
   ]
  },
  {
   "cell_type": "code",
   "execution_count": 21,
   "id": "e3d730eb",
   "metadata": {
    "scrolled": false
   },
   "outputs": [
    {
     "data": {
      "text/plain": [
       "['Charmander',\n",
       " 'Charmeleon',\n",
       " 'Charizard',\n",
       " 'Squirtle',\n",
       " 'Wartortle',\n",
       " 'Blastoise',\n",
       " 'Caterpie',\n",
       " 'Metapod',\n",
       " 'Pidgey',\n",
       " 'Pidgeotto',\n",
       " 'Pidgeot',\n",
       " 'Rattata',\n",
       " 'Raticate',\n",
       " 'Spearow',\n",
       " 'Fearow',\n",
       " 'Ekans',\n",
       " 'Arbok',\n",
       " 'Pikachu',\n",
       " 'Raichu',\n",
       " 'Sandshrew',\n",
       " 'Sandslash',\n",
       " 'Nidoran ♀ (Female)',\n",
       " 'Nidorina',\n",
       " 'Nidoran ♂ (Male)',\n",
       " 'Nidorino',\n",
       " 'Clefairy',\n",
       " 'Clefable',\n",
       " 'Vulpix',\n",
       " 'Ninetales',\n",
       " 'Jigglypuff',\n",
       " 'Wigglytuff',\n",
       " 'Diglett',\n",
       " 'Dugtrio',\n",
       " 'Meowth',\n",
       " 'Persian',\n",
       " 'Psyduck',\n",
       " 'Golduck',\n",
       " 'Mankey',\n",
       " 'Primeape',\n",
       " 'Growlithe',\n",
       " 'Arcanine',\n",
       " 'Poliwag',\n",
       " 'Poliwhirl',\n",
       " 'Abra',\n",
       " 'Kadabra',\n",
       " 'Alakazam',\n",
       " 'Machop',\n",
       " 'Machoke',\n",
       " 'Machamp',\n",
       " 'Tentacool',\n",
       " 'Tentacruel',\n",
       " 'Ponyta',\n",
       " 'Rapidash',\n",
       " 'Magnemite',\n",
       " 'Magneton',\n",
       " \"Farfetch'd\",\n",
       " 'Doduo',\n",
       " 'Dodrio',\n",
       " 'Seel',\n",
       " 'Grimer',\n",
       " 'Muk',\n",
       " 'Shellder',\n",
       " 'Drowzee',\n",
       " 'Hypno',\n",
       " 'Krabby',\n",
       " 'Kingler',\n",
       " 'Voltorb',\n",
       " 'Electrode',\n",
       " 'Cubone',\n",
       " 'Marowak',\n",
       " 'Hitmonlee',\n",
       " 'Hitmonchan',\n",
       " 'Lickitung',\n",
       " 'Koffing',\n",
       " 'Weezing',\n",
       " 'Chansey',\n",
       " 'Kangaskhan',\n",
       " 'Horsea',\n",
       " 'Seadra',\n",
       " 'Goldeen',\n",
       " 'Seaking',\n",
       " 'Staryu',\n",
       " 'Mr. Mime',\n",
       " 'Electabuzz',\n",
       " 'Magmar',\n",
       " 'Pinsir',\n",
       " 'Tauros',\n",
       " 'Magikarp',\n",
       " 'Gyarados',\n",
       " 'Ditto',\n",
       " 'Eevee',\n",
       " 'Vaporeon',\n",
       " 'Jolteon',\n",
       " 'Flareon',\n",
       " 'Porygon',\n",
       " 'Snorlax',\n",
       " 'Zapdos',\n",
       " 'Moltres',\n",
       " 'Dratini',\n",
       " 'Dragonair',\n",
       " 'Mewtwo',\n",
       " 'Mew']"
      ]
     },
     "execution_count": 21,
     "metadata": {},
     "output_type": "execute_result"
    }
   ],
   "source": [
    "pokemon_weakness_less_than_4"
   ]
  },
  {
   "cell_type": "code",
   "execution_count": 22,
   "id": "a706fe91",
   "metadata": {},
   "outputs": [
    {
     "data": {
      "text/plain": [
       "102"
      ]
     },
     "execution_count": 22,
     "metadata": {},
     "output_type": "execute_result"
    }
   ],
   "source": [
    "len(pokemon_weakness_less_than_4)                #102 pokemons have less than 4 weaknesses"
   ]
  },
  {
   "cell_type": "code",
   "execution_count": 23,
   "id": "e5e70913",
   "metadata": {},
   "outputs": [
    {
     "data": {
      "text/plain": [
       "7"
      ]
     },
     "execution_count": 23,
     "metadata": {},
     "output_type": "execute_result"
    }
   ],
   "source": [
    "pokemon_data['weakness_count'].max()"
   ]
  },
  {
   "cell_type": "code",
   "execution_count": 24,
   "id": "90e7bd07",
   "metadata": {},
   "outputs": [
    {
     "data": {
      "text/plain": [
       "<AxesSubplot:xlabel='weakness_count', ylabel='count'>"
      ]
     },
     "execution_count": 24,
     "metadata": {},
     "output_type": "execute_result"
    },
    {
     "data": {
      "image/png": "[encoded data removed]",
      "text/plain": [
       "<Figure size 864x576 with 1 Axes>"
      ]
     },
     "metadata": {
      "needs_background": "light"
     },
     "output_type": "display_data"
    }
   ],
   "source": [
    "plt.figure(figsize=(12,8))\n",
    "sns.countplot(data=pokemon_data, x=\"weakness_count\")\n",
    "#A large nuumber of data has spawn_chance<1"
   ]
  },
  {
   "cell_type": "code",
   "execution_count": 25,
   "id": "86876141",
   "metadata": {},
   "outputs": [
    {
     "data": {
      "text/plain": [
       "Text(0, 0.5, 'Percentage')"
      ]
     },
     "execution_count": 25,
     "metadata": {},
     "output_type": "execute_result"
    },
    {
     "data": {
      "image/png": "[encoded data removed]",
      "text/plain": [
       "<Figure size 864x576 with 1 Axes>"
      ]
     },
     "metadata": {
      "needs_background": "light"
     },
     "output_type": "display_data"
    }
   ],
   "source": [
    "plt.figure(figsize=(12,8))\n",
    "sns.ecdfplot(data=pokemon_data, x=\"weakness_count\")\n",
    "plt.title('Percentage of cumulative data')\n",
    "plt.ylabel('Percentage')"
   ]
  },
  {
   "cell_type": "markdown",
   "id": "fda669f2",
   "metadata": {},
   "source": [
    "**Get all Pokemons that have no multipliers at all.**"
   ]
  },
  {
   "cell_type": "code",
   "execution_count": 26,
   "id": "4cc427e3",
   "metadata": {},
   "outputs": [],
   "source": [
    "#Changing multipliers type from string to list and creating a column that contains True if Pokemon has no multiplier\n",
    "pokemon_data['multiplier_count']=pokemon_data['multipliers'].apply(lambda x: len(x))"
   ]
  },
  {
   "cell_type": "code",
   "execution_count": 27,
   "id": "af862e1e",
   "metadata": {},
   "outputs": [],
   "source": [
    "pokemon_no_multiplier=list(pokemon_data[pokemon_data.multiplier_count==0].name.unique())"
   ]
  },
  {
   "cell_type": "code",
   "execution_count": 28,
   "id": "07a968fb",
   "metadata": {},
   "outputs": [
    {
     "data": {
      "text/plain": [
       "['Venusaur',\n",
       " 'Charizard',\n",
       " 'Blastoise',\n",
       " 'Butterfree',\n",
       " 'Beedrill',\n",
       " 'Pidgeot',\n",
       " 'Raticate',\n",
       " 'Fearow',\n",
       " 'Arbok',\n",
       " 'Raichu',\n",
       " 'Sandslash',\n",
       " 'Nidoqueen',\n",
       " 'Nidoking',\n",
       " 'Clefable',\n",
       " 'Ninetales',\n",
       " 'Wigglytuff',\n",
       " 'Golbat',\n",
       " 'Vileplume',\n",
       " 'Parasect',\n",
       " 'Venomoth',\n",
       " 'Dugtrio',\n",
       " 'Persian',\n",
       " 'Golduck',\n",
       " 'Primeape',\n",
       " 'Arcanine',\n",
       " 'Poliwrath',\n",
       " 'Alakazam',\n",
       " 'Machamp',\n",
       " 'Victreebel',\n",
       " 'Tentacruel',\n",
       " 'Golem',\n",
       " 'Rapidash',\n",
       " 'Slowbro',\n",
       " 'Magneton',\n",
       " \"Farfetch'd\",\n",
       " 'Dodrio',\n",
       " 'Dewgong',\n",
       " 'Muk',\n",
       " 'Cloyster',\n",
       " 'Gengar',\n",
       " 'Onix',\n",
       " 'Hypno',\n",
       " 'Kingler',\n",
       " 'Electrode',\n",
       " 'Exeggutor',\n",
       " 'Marowak',\n",
       " 'Hitmonlee',\n",
       " 'Hitmonchan',\n",
       " 'Lickitung',\n",
       " 'Weezing',\n",
       " 'Rhydon',\n",
       " 'Chansey',\n",
       " 'Tangela',\n",
       " 'Kangaskhan',\n",
       " 'Seadra',\n",
       " 'Seaking',\n",
       " 'Starmie',\n",
       " 'Mr. Mime',\n",
       " 'Scyther',\n",
       " 'Jynx',\n",
       " 'Electabuzz',\n",
       " 'Magmar',\n",
       " 'Pinsir',\n",
       " 'Tauros',\n",
       " 'Gyarados',\n",
       " 'Lapras',\n",
       " 'Ditto',\n",
       " 'Vaporeon',\n",
       " 'Jolteon',\n",
       " 'Flareon',\n",
       " 'Porygon',\n",
       " 'Omastar',\n",
       " 'Kabutops',\n",
       " 'Aerodactyl',\n",
       " 'Snorlax',\n",
       " 'Articuno',\n",
       " 'Zapdos',\n",
       " 'Moltres',\n",
       " 'Dragonite',\n",
       " 'Mewtwo',\n",
       " 'Mew']"
      ]
     },
     "execution_count": 28,
     "metadata": {},
     "output_type": "execute_result"
    }
   ],
   "source": [
    "pokemon_no_multiplier"
   ]
  },
  {
   "cell_type": "code",
   "execution_count": 29,
   "id": "c61bbd4f",
   "metadata": {},
   "outputs": [
    {
     "data": {
      "text/plain": [
       "81"
      ]
     },
     "execution_count": 29,
     "metadata": {},
     "output_type": "execute_result"
    }
   ],
   "source": [
    "len(pokemon_no_multiplier)               #81 Pokemons have no multipliers"
   ]
  },
  {
   "cell_type": "code",
   "execution_count": 30,
   "id": "e7d4164a",
   "metadata": {},
   "outputs": [
    {
     "data": {
      "text/plain": [
       "<AxesSubplot:xlabel='multiplier_count', ylabel='count'>"
      ]
     },
     "execution_count": 30,
     "metadata": {},
     "output_type": "execute_result"
    },
    {
     "data": {
      "image/png": "[encoded data removed]",
      "text/plain": [
       "<Figure size 864x576 with 1 Axes>"
      ]
     },
     "metadata": {
      "needs_background": "light"
     },
     "output_type": "display_data"
    }
   ],
   "source": [
    "plt.figure(figsize=(12,8))\n",
    "sns.countplot(data=pokemon_data, x=\"multiplier_count\")\n",
    "#There are more pokemons with no multipliers than pokemons with multipliers"
   ]
  },
  {
   "cell_type": "markdown",
   "id": "af2d5477",
   "metadata": {},
   "source": [
    "**Get all Pokemons that do not have more than 2 evolutions**"
   ]
  },
  {
   "cell_type": "code",
   "execution_count": 31,
   "id": "d897c522",
   "metadata": {},
   "outputs": [],
   "source": [
    "#Creating a column to keep count of number of evolutions\n",
    "pokemon_data['evolution_count']=pokemon_data['next_evolution'].fillna(\"\").apply(list).apply(lambda x: len(x) )"
   ]
  },
  {
   "cell_type": "code",
   "execution_count": 32,
   "id": "447f3afa",
   "metadata": {},
   "outputs": [],
   "source": [
    "pokemon_less_than_3_evolutions=list(pokemon_data[pokemon_data['evolution_count']<=2].name.unique())"
   ]
  },
  {
   "cell_type": "code",
   "execution_count": 33,
   "id": "7218f80f",
   "metadata": {},
   "outputs": [
    {
     "data": {
      "text/plain": [
       "['Bulbasaur',\n",
       " 'Ivysaur',\n",
       " 'Venusaur',\n",
       " 'Charmander',\n",
       " 'Charmeleon',\n",
       " 'Charizard',\n",
       " 'Squirtle',\n",
       " 'Wartortle',\n",
       " 'Blastoise',\n",
       " 'Caterpie',\n",
       " 'Metapod',\n",
       " 'Butterfree',\n",
       " 'Weedle',\n",
       " 'Kakuna',\n",
       " 'Beedrill',\n",
       " 'Pidgey',\n",
       " 'Pidgeotto',\n",
       " 'Pidgeot',\n",
       " 'Rattata',\n",
       " 'Raticate',\n",
       " 'Spearow',\n",
       " 'Fearow',\n",
       " 'Ekans',\n",
       " 'Arbok',\n",
       " 'Pikachu',\n",
       " 'Raichu',\n",
       " 'Sandshrew',\n",
       " 'Sandslash',\n",
       " 'Nidoran ♀ (Female)',\n",
       " 'Nidorina',\n",
       " 'Nidoqueen',\n",
       " 'Nidoran ♂ (Male)',\n",
       " 'Nidorino',\n",
       " 'Nidoking',\n",
       " 'Clefairy',\n",
       " 'Clefable',\n",
       " 'Vulpix',\n",
       " 'Ninetales',\n",
       " 'Jigglypuff',\n",
       " 'Wigglytuff',\n",
       " 'Zubat',\n",
       " 'Golbat',\n",
       " 'Oddish',\n",
       " 'Gloom',\n",
       " 'Vileplume',\n",
       " 'Paras',\n",
       " 'Parasect',\n",
       " 'Venonat',\n",
       " 'Venomoth',\n",
       " 'Diglett',\n",
       " 'Dugtrio',\n",
       " 'Meowth',\n",
       " 'Persian',\n",
       " 'Psyduck',\n",
       " 'Golduck',\n",
       " 'Mankey',\n",
       " 'Primeape',\n",
       " 'Growlithe',\n",
       " 'Arcanine',\n",
       " 'Poliwag',\n",
       " 'Poliwhirl',\n",
       " 'Poliwrath',\n",
       " 'Abra',\n",
       " 'Kadabra',\n",
       " 'Alakazam',\n",
       " 'Machop',\n",
       " 'Machoke',\n",
       " 'Machamp',\n",
       " 'Bellsprout',\n",
       " 'Weepinbell',\n",
       " 'Victreebel',\n",
       " 'Tentacool',\n",
       " 'Tentacruel',\n",
       " 'Geodude',\n",
       " 'Graveler',\n",
       " 'Golem',\n",
       " 'Ponyta',\n",
       " 'Rapidash',\n",
       " 'Slowpoke',\n",
       " 'Slowbro',\n",
       " 'Magnemite',\n",
       " 'Magneton',\n",
       " \"Farfetch'd\",\n",
       " 'Doduo',\n",
       " 'Dodrio',\n",
       " 'Seel',\n",
       " 'Dewgong',\n",
       " 'Grimer',\n",
       " 'Muk',\n",
       " 'Shellder',\n",
       " 'Cloyster',\n",
       " 'Gastly',\n",
       " 'Haunter',\n",
       " 'Gengar',\n",
       " 'Onix',\n",
       " 'Drowzee',\n",
       " 'Hypno',\n",
       " 'Krabby',\n",
       " 'Kingler',\n",
       " 'Voltorb',\n",
       " 'Electrode',\n",
       " 'Exeggcute',\n",
       " 'Exeggutor',\n",
       " 'Cubone',\n",
       " 'Marowak',\n",
       " 'Hitmonlee',\n",
       " 'Hitmonchan',\n",
       " 'Lickitung',\n",
       " 'Koffing',\n",
       " 'Weezing',\n",
       " 'Rhyhorn',\n",
       " 'Rhydon',\n",
       " 'Chansey',\n",
       " 'Tangela',\n",
       " 'Kangaskhan',\n",
       " 'Horsea',\n",
       " 'Seadra',\n",
       " 'Goldeen',\n",
       " 'Seaking',\n",
       " 'Staryu',\n",
       " 'Starmie',\n",
       " 'Mr. Mime',\n",
       " 'Scyther',\n",
       " 'Jynx',\n",
       " 'Electabuzz',\n",
       " 'Magmar',\n",
       " 'Pinsir',\n",
       " 'Tauros',\n",
       " 'Magikarp',\n",
       " 'Gyarados',\n",
       " 'Lapras',\n",
       " 'Ditto',\n",
       " 'Vaporeon',\n",
       " 'Jolteon',\n",
       " 'Flareon',\n",
       " 'Porygon',\n",
       " 'Omanyte',\n",
       " 'Omastar',\n",
       " 'Kabuto',\n",
       " 'Kabutops',\n",
       " 'Aerodactyl',\n",
       " 'Snorlax',\n",
       " 'Articuno',\n",
       " 'Zapdos',\n",
       " 'Moltres',\n",
       " 'Dratini',\n",
       " 'Dragonair',\n",
       " 'Dragonite',\n",
       " 'Mewtwo',\n",
       " 'Mew']"
      ]
     },
     "execution_count": 33,
     "metadata": {},
     "output_type": "execute_result"
    }
   ],
   "source": [
    "pokemon_less_than_3_evolutions"
   ]
  },
  {
   "cell_type": "code",
   "execution_count": 34,
   "id": "fae26f4e",
   "metadata": {},
   "outputs": [
    {
     "data": {
      "text/plain": [
       "150"
      ]
     },
     "execution_count": 34,
     "metadata": {},
     "output_type": "execute_result"
    }
   ],
   "source": [
    "len(pokemon_less_than_3_evolutions)              #150 pokemons have no more than 2 evolutions ie less than 3 evolutions "
   ]
  },
  {
   "cell_type": "code",
   "execution_count": 35,
   "id": "982dff03",
   "metadata": {},
   "outputs": [
    {
     "data": {
      "text/plain": [
       "<AxesSubplot:xlabel='evolution_count', ylabel='count'>"
      ]
     },
     "execution_count": 35,
     "metadata": {},
     "output_type": "execute_result"
    },
    {
     "data": {
      "image/png": "[encoded data removed]",
      "text/plain": [
       "<Figure size 864x576 with 1 Axes>"
      ]
     },
     "metadata": {
      "needs_background": "light"
     },
     "output_type": "display_data"
    }
   ],
   "source": [
    "plt.figure(figsize=(12,8))\n",
    "sns.countplot(data=pokemon_data, x=\"evolution_count\")\n",
    "#There are very few pokemons with more than 2 evolutions"
   ]
  },
  {
   "cell_type": "markdown",
   "id": "36dadcc7",
   "metadata": {},
   "source": [
    "**Get all Pokemons whose spawn time is less than 300 seconds. Note - spawn time format is \"05:32”, so assume “minute: second” format and perform the analysis.**"
   ]
  },
  {
   "cell_type": "code",
   "execution_count": 36,
   "id": "3d84598e",
   "metadata": {},
   "outputs": [],
   "source": [
    "def minToSec(value):\n",
    "    m,s=value.split(':')\n",
    "    return int(m)*60+int(s)"
   ]
  },
  {
   "cell_type": "code",
   "execution_count": 37,
   "id": "91a522c6",
   "metadata": {
    "scrolled": true
   },
   "outputs": [],
   "source": [
    "#Replacing nulls and creating a coulmn to store spawn_time values in second.\n",
    "pokemon_data['spawn_time']=pokemon_data['spawn_time'].replace('N/A','00:00')\n",
    "pokemon_data['spawn_time_sec']=pokemon_data['spawn_time'].apply(minToSec) "
   ]
  },
  {
   "cell_type": "code",
   "execution_count": 38,
   "id": "efaf2bde",
   "metadata": {},
   "outputs": [],
   "source": [
    "pokemon_spawn_less_than_300=list(pokemon_data[pokemon_data.spawn_time_sec<300].name.unique())"
   ]
  },
  {
   "cell_type": "code",
   "execution_count": 39,
   "id": "a2ae0d37",
   "metadata": {
    "scrolled": true
   },
   "outputs": [
    {
     "data": {
      "text/plain": [
       "['Squirtle',\n",
       " 'Blastoise',\n",
       " 'Metapod',\n",
       " 'Weedle',\n",
       " 'Kakuna',\n",
       " 'Beedrill',\n",
       " 'Pidgey',\n",
       " 'Pidgeotto',\n",
       " 'Pidgeot',\n",
       " 'Rattata',\n",
       " 'Raticate',\n",
       " 'Fearow',\n",
       " 'Arbok',\n",
       " 'Pikachu',\n",
       " 'Sandshrew',\n",
       " 'Nidoran ♀ (Female)',\n",
       " 'Nidoran ♂ (Male)',\n",
       " 'Clefairy',\n",
       " 'Clefable',\n",
       " 'Ninetales',\n",
       " 'Golbat',\n",
       " 'Oddish',\n",
       " 'Paras',\n",
       " 'Parasect',\n",
       " 'Venonat',\n",
       " 'Diglett',\n",
       " 'Meowth',\n",
       " 'Persian',\n",
       " 'Psyduck',\n",
       " 'Growlithe',\n",
       " 'Arcanine',\n",
       " 'Poliwag',\n",
       " 'Poliwrath',\n",
       " 'Abra',\n",
       " 'Machop',\n",
       " 'Machamp',\n",
       " 'Bellsprout',\n",
       " 'Tentacool',\n",
       " 'Graveler',\n",
       " 'Ponyta',\n",
       " 'Rapidash',\n",
       " 'Slowbro',\n",
       " 'Magnemite',\n",
       " \"Farfetch'd\",\n",
       " 'Dodrio',\n",
       " 'Muk',\n",
       " 'Cloyster',\n",
       " 'Gastly',\n",
       " 'Haunter',\n",
       " 'Gengar',\n",
       " 'Onix',\n",
       " 'Drowzee',\n",
       " 'Hypno',\n",
       " 'Krabby',\n",
       " 'Kingler',\n",
       " 'Voltorb',\n",
       " 'Electrode',\n",
       " 'Cubone',\n",
       " 'Marowak',\n",
       " 'Hitmonlee',\n",
       " 'Lickitung',\n",
       " 'Rhyhorn',\n",
       " 'Chansey',\n",
       " 'Kangaskhan',\n",
       " 'Horsea',\n",
       " 'Seadra',\n",
       " 'Goldeen',\n",
       " 'Mr. Mime',\n",
       " 'Electabuzz',\n",
       " 'Pinsir',\n",
       " 'Tauros',\n",
       " 'Gyarados',\n",
       " 'Ditto',\n",
       " 'Jolteon',\n",
       " 'Porygon',\n",
       " 'Kabuto',\n",
       " 'Articuno',\n",
       " 'Zapdos',\n",
       " 'Moltres',\n",
       " 'Mewtwo',\n",
       " 'Mew']"
      ]
     },
     "execution_count": 39,
     "metadata": {},
     "output_type": "execute_result"
    }
   ],
   "source": [
    "pokemon_spawn_less_than_300"
   ]
  },
  {
   "cell_type": "code",
   "execution_count": 40,
   "id": "2dfbe4b0",
   "metadata": {},
   "outputs": [
    {
     "data": {
      "text/plain": [
       "81"
      ]
     },
     "execution_count": 40,
     "metadata": {},
     "output_type": "execute_result"
    }
   ],
   "source": [
    "len(pokemon_spawn_less_than_300)            #81 pokemons have spawn time less than 300 seconds"
   ]
  },
  {
   "cell_type": "code",
   "execution_count": 41,
   "id": "e5b9453e",
   "metadata": {},
   "outputs": [
    {
     "data": {
      "text/plain": [
       "1438"
      ]
     },
     "execution_count": 41,
     "metadata": {},
     "output_type": "execute_result"
    }
   ],
   "source": [
    "pokemon_data.spawn_time_sec.max()"
   ]
  },
  {
   "cell_type": "code",
   "execution_count": 42,
   "id": "bdf9fd5a",
   "metadata": {},
   "outputs": [
    {
     "data": {
      "text/plain": [
       "Text(0.5, 1.0, 'Count of pokemons with different spawn time in seconds')"
      ]
     },
     "execution_count": 42,
     "metadata": {},
     "output_type": "execute_result"
    },
    {
     "data": {
      "image/png": "[encoded data removed]",
      "text/plain": [
       "<Figure size 864x576 with 1 Axes>"
      ]
     },
     "metadata": {
      "needs_background": "light"
     },
     "output_type": "display_data"
    }
   ],
   "source": [
    "bins=range(0,1501,100)\n",
    "plt.figure(figsize=(12,8))\n",
    "sns.histplot(data=pokemon_data, x=\"spawn_time_sec\",bins=bins)\n",
    "plt.title('Count of pokemons with different spawn time in seconds')"
   ]
  },
  {
   "cell_type": "markdown",
   "id": "129431a2",
   "metadata": {},
   "source": [
    "**Get all Pokemon who have more than two types of capabilities**"
   ]
  },
  {
   "cell_type": "code",
   "execution_count": 43,
   "id": "acf0800b",
   "metadata": {
    "scrolled": true
   },
   "outputs": [
    {
     "data": {
      "text/html": [
       "<div>\n",
       "<style scoped>\n",
       "    .dataframe tbody tr th:only-of-type {\n",
       "        vertical-align: middle;\n",
       "    }\n",
       "\n",
       "    .dataframe tbody tr th {\n",
       "        vertical-align: top;\n",
       "    }\n",
       "\n",
       "    .dataframe thead th {\n",
       "        text-align: right;\n",
       "    }\n",
       "</style>\n",
       "<table border=\"1\" class=\"dataframe\">\n",
       "  <thead>\n",
       "    <tr style=\"text-align: right;\">\n",
       "      <th></th>\n",
       "      <th>id</th>\n",
       "      <th>num</th>\n",
       "      <th>name</th>\n",
       "      <th>img</th>\n",
       "      <th>type</th>\n",
       "      <th>height</th>\n",
       "      <th>weight</th>\n",
       "      <th>candy</th>\n",
       "      <th>candy_count</th>\n",
       "      <th>egg</th>\n",
       "      <th>...</th>\n",
       "      <th>avg_spawns</th>\n",
       "      <th>spawn_time</th>\n",
       "      <th>multipliers</th>\n",
       "      <th>weaknesses</th>\n",
       "      <th>next_evolution</th>\n",
       "      <th>prev_evolution</th>\n",
       "      <th>weakness_count</th>\n",
       "      <th>multiplier_count</th>\n",
       "      <th>evolution_count</th>\n",
       "      <th>spawn_time_sec</th>\n",
       "    </tr>\n",
       "  </thead>\n",
       "  <tbody>\n",
       "    <tr>\n",
       "      <th>0</th>\n",
       "      <td>1</td>\n",
       "      <td>001</td>\n",
       "      <td>Bulbasaur</td>\n",
       "      <td>http://www.serebii.net/pokemongo/pokemon/001.png</td>\n",
       "      <td>[Grass, Poison]</td>\n",
       "      <td>0.71</td>\n",
       "      <td>6.9</td>\n",
       "      <td>Bulbasaur Candy</td>\n",
       "      <td>25</td>\n",
       "      <td>2.0</td>\n",
       "      <td>...</td>\n",
       "      <td>69</td>\n",
       "      <td>20:00</td>\n",
       "      <td>[2]</td>\n",
       "      <td>[Fire, Ice, Flying, Psychic]</td>\n",
       "      <td>[{'num': '002', 'name': 'Ivysaur'}, {'num': '0...</td>\n",
       "      <td>NaN</td>\n",
       "      <td>4</td>\n",
       "      <td>1</td>\n",
       "      <td>2</td>\n",
       "      <td>1200</td>\n",
       "    </tr>\n",
       "    <tr>\n",
       "      <th>1</th>\n",
       "      <td>2</td>\n",
       "      <td>002</td>\n",
       "      <td>Ivysaur</td>\n",
       "      <td>http://www.serebii.net/pokemongo/pokemon/002.png</td>\n",
       "      <td>[Grass, Poison]</td>\n",
       "      <td>0.99</td>\n",
       "      <td>13.0</td>\n",
       "      <td>Bulbasaur Candy</td>\n",
       "      <td>100</td>\n",
       "      <td>0.0</td>\n",
       "      <td>...</td>\n",
       "      <td>4</td>\n",
       "      <td>07:00</td>\n",
       "      <td>[1, 2]</td>\n",
       "      <td>[Fire, Ice, Flying, Psychic]</td>\n",
       "      <td>[{'num': '003', 'name': 'Venusaur'}]</td>\n",
       "      <td>[{'num': '001', 'name': 'Bulbasaur'}]</td>\n",
       "      <td>4</td>\n",
       "      <td>2</td>\n",
       "      <td>1</td>\n",
       "      <td>420</td>\n",
       "    </tr>\n",
       "    <tr>\n",
       "      <th>2</th>\n",
       "      <td>3</td>\n",
       "      <td>003</td>\n",
       "      <td>Venusaur</td>\n",
       "      <td>http://www.serebii.net/pokemongo/pokemon/003.png</td>\n",
       "      <td>[Grass, Poison]</td>\n",
       "      <td>2.01</td>\n",
       "      <td>100.0</td>\n",
       "      <td>Bulbasaur Candy</td>\n",
       "      <td>0</td>\n",
       "      <td>0.0</td>\n",
       "      <td>...</td>\n",
       "      <td>1</td>\n",
       "      <td>11:30</td>\n",
       "      <td>[]</td>\n",
       "      <td>[Fire, Ice, Flying, Psychic]</td>\n",
       "      <td>NaN</td>\n",
       "      <td>[{'num': '001', 'name': 'Bulbasaur'}, {'num': ...</td>\n",
       "      <td>4</td>\n",
       "      <td>0</td>\n",
       "      <td>0</td>\n",
       "      <td>690</td>\n",
       "    </tr>\n",
       "    <tr>\n",
       "      <th>3</th>\n",
       "      <td>4</td>\n",
       "      <td>004</td>\n",
       "      <td>Charmander</td>\n",
       "      <td>http://www.serebii.net/pokemongo/pokemon/004.png</td>\n",
       "      <td>[Fire]</td>\n",
       "      <td>0.61</td>\n",
       "      <td>8.5</td>\n",
       "      <td>Charmander Candy</td>\n",
       "      <td>25</td>\n",
       "      <td>2.0</td>\n",
       "      <td>...</td>\n",
       "      <td>25</td>\n",
       "      <td>08:45</td>\n",
       "      <td>[2]</td>\n",
       "      <td>[Water, Ground, Rock]</td>\n",
       "      <td>[{'num': '005', 'name': 'Charmeleon'}, {'num':...</td>\n",
       "      <td>NaN</td>\n",
       "      <td>3</td>\n",
       "      <td>1</td>\n",
       "      <td>2</td>\n",
       "      <td>525</td>\n",
       "    </tr>\n",
       "    <tr>\n",
       "      <th>4</th>\n",
       "      <td>5</td>\n",
       "      <td>005</td>\n",
       "      <td>Charmeleon</td>\n",
       "      <td>http://www.serebii.net/pokemongo/pokemon/005.png</td>\n",
       "      <td>[Fire]</td>\n",
       "      <td>1.09</td>\n",
       "      <td>19.0</td>\n",
       "      <td>Charmander Candy</td>\n",
       "      <td>100</td>\n",
       "      <td>0.0</td>\n",
       "      <td>...</td>\n",
       "      <td>1</td>\n",
       "      <td>19:00</td>\n",
       "      <td>[2]</td>\n",
       "      <td>[Water, Ground, Rock]</td>\n",
       "      <td>[{'num': '006', 'name': 'Charizard'}]</td>\n",
       "      <td>[{'num': '004', 'name': 'Charmander'}]</td>\n",
       "      <td>3</td>\n",
       "      <td>1</td>\n",
       "      <td>1</td>\n",
       "      <td>1140</td>\n",
       "    </tr>\n",
       "  </tbody>\n",
       "</table>\n",
       "<p>5 rows × 21 columns</p>\n",
       "</div>"
      ],
      "text/plain": [
       "   id  num        name                                               img  \\\n",
       "0   1  001   Bulbasaur  http://www.serebii.net/pokemongo/pokemon/001.png   \n",
       "1   2  002     Ivysaur  http://www.serebii.net/pokemongo/pokemon/002.png   \n",
       "2   3  003    Venusaur  http://www.serebii.net/pokemongo/pokemon/003.png   \n",
       "3   4  004  Charmander  http://www.serebii.net/pokemongo/pokemon/004.png   \n",
       "4   5  005  Charmeleon  http://www.serebii.net/pokemongo/pokemon/005.png   \n",
       "\n",
       "              type  height  weight             candy  candy_count  egg  ...  \\\n",
       "0  [Grass, Poison]    0.71     6.9   Bulbasaur Candy           25  2.0  ...   \n",
       "1  [Grass, Poison]    0.99    13.0   Bulbasaur Candy          100  0.0  ...   \n",
       "2  [Grass, Poison]    2.01   100.0   Bulbasaur Candy            0  0.0  ...   \n",
       "3           [Fire]    0.61     8.5  Charmander Candy           25  2.0  ...   \n",
       "4           [Fire]    1.09    19.0  Charmander Candy          100  0.0  ...   \n",
       "\n",
       "   avg_spawns  spawn_time multipliers                    weaknesses  \\\n",
       "0          69       20:00         [2]  [Fire, Ice, Flying, Psychic]   \n",
       "1           4       07:00      [1, 2]  [Fire, Ice, Flying, Psychic]   \n",
       "2           1       11:30          []  [Fire, Ice, Flying, Psychic]   \n",
       "3          25       08:45         [2]         [Water, Ground, Rock]   \n",
       "4           1       19:00         [2]         [Water, Ground, Rock]   \n",
       "\n",
       "                                      next_evolution  \\\n",
       "0  [{'num': '002', 'name': 'Ivysaur'}, {'num': '0...   \n",
       "1               [{'num': '003', 'name': 'Venusaur'}]   \n",
       "2                                                NaN   \n",
       "3  [{'num': '005', 'name': 'Charmeleon'}, {'num':...   \n",
       "4              [{'num': '006', 'name': 'Charizard'}]   \n",
       "\n",
       "                                      prev_evolution weakness_count  \\\n",
       "0                                                NaN              4   \n",
       "1              [{'num': '001', 'name': 'Bulbasaur'}]              4   \n",
       "2  [{'num': '001', 'name': 'Bulbasaur'}, {'num': ...              4   \n",
       "3                                                NaN              3   \n",
       "4             [{'num': '004', 'name': 'Charmander'}]              3   \n",
       "\n",
       "   multiplier_count  evolution_count  spawn_time_sec  \n",
       "0                 1                2            1200  \n",
       "1                 2                1             420  \n",
       "2                 0                0             690  \n",
       "3                 1                2             525  \n",
       "4                 1                1            1140  \n",
       "\n",
       "[5 rows x 21 columns]"
      ]
     },
     "execution_count": 43,
     "metadata": {},
     "output_type": "execute_result"
    }
   ],
   "source": [
    "pokemon_data.head()"
   ]
  },
  {
   "cell_type": "code",
   "execution_count": 44,
   "id": "4d094751",
   "metadata": {},
   "outputs": [],
   "source": [
    "#Not sure which column to use to look for Pokemon capabilities"
   ]
  },
  {
   "cell_type": "code",
   "execution_count": null,
   "id": "8cfdadca",
   "metadata": {},
   "outputs": [],
   "source": []
  }
 ],
 "metadata": {
  "kernelspec": {
   "display_name": "Python 3 (ipykernel)",
   "language": "python",
   "name": "python3"
  },
  "language_info": {
   "codemirror_mode": {
    "name": "ipython",
    "version": 3
   },
   "file_extension": ".py",
   "mimetype": "text/x-python",
   "name": "python",
   "nbconvert_exporter": "python",
   "pygments_lexer": "ipython3",
   "version": "3.8.11"
  }
 },
 "nbformat": 4,
 "nbformat_minor": 5
}
