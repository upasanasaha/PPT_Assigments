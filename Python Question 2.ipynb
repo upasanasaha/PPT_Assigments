{
 "cells": [
  {
   "cell_type": "markdown",
   "id": "df81093a",
   "metadata": {},
   "source": [
    "**Question 2**: -\n",
    "Consider a string to be valid if all characters of the string appear the same number of times. It is also valid if\n",
    "he can remove just one character at the index in the string, and the remaining characters will occur the same\n",
    "number of times. Given a string, determine if it is valid. If so, return YES , otherwise return NO .\n",
    "\n",
    "**Note** - You have to write at least 2 additional test cases in which your program will run successfully and provide\n",
    "an explanation for the same.\n",
    "\n",
    "Example input 1 - s = “abc”. This is a valid string because frequencies are { “a”: 1, “b”: 1, “c”: 1 }\n",
    "\n",
    "Example output 1- YES\n",
    "\n",
    "Example input 2 - s “abccc”. This string is not valid as we can remove only 1 occurrence of “c”. That leaves\n",
    "character frequencies of { “a”: 1, “b”: 1 , “c”: 2 }\n",
    "\n",
    "Example output 2 - NO"
   ]
  },
  {
   "cell_type": "code",
   "execution_count": 1,
   "id": "3b2560b0",
   "metadata": {},
   "outputs": [],
   "source": [
    "def validStr(string):\n",
    "    #Create a dictionary with count of each alpphabet that occurs\n",
    "    count=dict()\n",
    "    for i in string:\n",
    "        if i in count.keys():\n",
    "            count[i]+=1\n",
    "        else:\n",
    "            count[i]=1\n",
    "    #sort the count values\n",
    "    counts=sorted(count.values())\n",
    "    first=counts[0]\n",
    "    second=counts[1]\n",
    "    second_last=counts[-2]\n",
    "    last=counts[-1]\n",
    "    #Case 1: All alphabets have same occurance\n",
    "    if first==last:\n",
    "        return 'YES'\n",
    "    #Case 2: One alphabet occurs 1 time and the rest occur same number of time.We can take out the alphabet that occurs once.  \n",
    "    elif (first==1) & (second==last):\n",
    "        return 'YES'\n",
    "    #Case 3: All alphabets ocuur same number of time and 1 occurs one time more \n",
    "    elif (first==second & second==second_last & second_last==last-1):\n",
    "        return 'YES'\n",
    "    else:\n",
    "        return 'NO'"
   ]
  },
  {
   "cell_type": "code",
   "execution_count": 2,
   "id": "e905faea",
   "metadata": {},
   "outputs": [
    {
     "data": {
      "text/plain": [
       "'YES'"
      ]
     },
     "execution_count": 2,
     "metadata": {},
     "output_type": "execute_result"
    }
   ],
   "source": [
    "validStr('abcab')"
   ]
  },
  {
   "cell_type": "code",
   "execution_count": 3,
   "id": "c4b015b2",
   "metadata": {},
   "outputs": [
    {
     "data": {
      "text/plain": [
       "'YES'"
      ]
     },
     "execution_count": 3,
     "metadata": {},
     "output_type": "execute_result"
    }
   ],
   "source": [
    "validStr('abbccdd')"
   ]
  },
  {
   "cell_type": "code",
   "execution_count": 4,
   "id": "a8e282d9",
   "metadata": {},
   "outputs": [
    {
     "data": {
      "text/plain": [
       "'YES'"
      ]
     },
     "execution_count": 4,
     "metadata": {},
     "output_type": "execute_result"
    }
   ],
   "source": [
    "validStr('aaabbbcccdddeeee')"
   ]
  },
  {
   "cell_type": "code",
   "execution_count": 5,
   "id": "9c5120bf",
   "metadata": {},
   "outputs": [
    {
     "data": {
      "text/plain": [
       "'YES'"
      ]
     },
     "execution_count": 5,
     "metadata": {},
     "output_type": "execute_result"
    }
   ],
   "source": [
    "validStr('aabcde')"
   ]
  },
  {
   "cell_type": "code",
   "execution_count": 6,
   "id": "2c9f90ac",
   "metadata": {},
   "outputs": [
    {
     "data": {
      "text/plain": [
       "'NO'"
      ]
     },
     "execution_count": 6,
     "metadata": {},
     "output_type": "execute_result"
    }
   ],
   "source": [
    "validStr('aabbbc')"
   ]
  },
  {
   "cell_type": "code",
   "execution_count": null,
   "id": "2ba1ca1a",
   "metadata": {},
   "outputs": [],
   "source": []
  }
 ],
 "metadata": {
  "kernelspec": {
   "display_name": "Python 3 (ipykernel)",
   "language": "python",
   "name": "python3"
  },
  "language_info": {
   "codemirror_mode": {
    "name": "ipython",
    "version": 3
   },
   "file_extension": ".py",
   "mimetype": "text/x-python",
   "name": "python",
   "nbconvert_exporter": "python",
   "pygments_lexer": "ipython3",
   "version": "3.8.11"
  }
 },
 "nbformat": 4,
 "nbformat_minor": 5
}
