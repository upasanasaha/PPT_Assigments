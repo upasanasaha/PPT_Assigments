{
 "cells": [
  {
   "cell_type": "markdown",
   "id": "c47f092c",
   "metadata": {},
   "source": [
    "**Question 1**\n",
    "\n",
    "Given a non-negative integer `x`, return *the square root of* `x` *rounded down to the nearest integer*. The returned integer should be **non-negative** as well.\n",
    "\n",
    "You **must not use** any built-in exponent function or operator.\n",
    "\n",
    "- For example, do not use `pow(x, 0.5)` in c++ or `x ** 0.5` in python.\n",
    "\n",
    "**Example 1:**\n",
    "\n",
    "Input: x = 4\n",
    "\n",
    "Output: 2\n",
    "\n",
    "Explanation: The square root of 4 is 2, so we return 2."
   ]
  },
  {
   "cell_type": "code",
   "execution_count": 15,
   "id": "265157a7",
   "metadata": {},
   "outputs": [],
   "source": [
    "def squareRoot(n):\n",
    "    #Root can be somewhere between 0 and n/2\n",
    "    l=0\n",
    "    r=n//2\n",
    "    #Find root only when n is positive\n",
    "    if n>=0:\n",
    "        #Using binary search\n",
    "        while l<=r:\n",
    "            mid=(l+r)//2\n",
    "            if mid**2==n:\n",
    "                return mid\n",
    "            elif mid**2>n:\n",
    "                r=mid-1\n",
    "            else:\n",
    "                l=mid+1\n",
    "    #Return nearest lower integer\n",
    "    return r                   "
   ]
  },
  {
   "cell_type": "code",
   "execution_count": 16,
   "id": "0c9cf4dc",
   "metadata": {},
   "outputs": [
    {
     "data": {
      "text/plain": [
       "2"
      ]
     },
     "execution_count": 16,
     "metadata": {},
     "output_type": "execute_result"
    }
   ],
   "source": [
    "squareRoot(4)"
   ]
  },
  {
   "cell_type": "code",
   "execution_count": 17,
   "id": "7bb9fefd",
   "metadata": {},
   "outputs": [
    {
     "data": {
      "text/plain": [
       "2"
      ]
     },
     "execution_count": 17,
     "metadata": {},
     "output_type": "execute_result"
    }
   ],
   "source": [
    "squareRoot(8)"
   ]
  },
  {
   "cell_type": "code",
   "execution_count": 18,
   "id": "f3248ceb",
   "metadata": {},
   "outputs": [
    {
     "data": {
      "text/plain": [
       "3"
      ]
     },
     "execution_count": 18,
     "metadata": {},
     "output_type": "execute_result"
    }
   ],
   "source": [
    "squareRoot(10)"
   ]
  },
  {
   "cell_type": "code",
   "execution_count": 19,
   "id": "43bfaaae",
   "metadata": {},
   "outputs": [
    {
     "data": {
      "text/plain": [
       "3"
      ]
     },
     "execution_count": 19,
     "metadata": {},
     "output_type": "execute_result"
    }
   ],
   "source": [
    "squareRoot(9)"
   ]
  },
  {
   "cell_type": "markdown",
   "id": "95982b24",
   "metadata": {},
   "source": [
    "**Question 2**\n",
    "\n",
    "A peak element is an element that is strictly greater than its neighbors.\n",
    "\n",
    "Given a **0-indexed** integer array `nums`, find a peak element, and return its index. If the array contains multiple peaks, return the index to **any of the peaks**.\n",
    "\n",
    "You may imagine that `nums[-1] = nums[n] = -∞`. In other words, an element is always considered to be strictly greater than a neighbor that is outside the array.\n",
    "\n",
    "You must write an algorithm that runs in `O(log n)` time.\n",
    "\n",
    "**Example 1:**\n",
    "\n",
    "Input: nums = [1,2,3,1]\n",
    "\n",
    "Output: 2\n",
    "\n",
    "Explanation: 3 is a peak element and your function should return the index number 2."
   ]
  },
  {
   "cell_type": "code",
   "execution_count": 54,
   "id": "909941d8",
   "metadata": {},
   "outputs": [],
   "source": [
    "def peak(nums):\n",
    "    #initialize left and right pointer\n",
    "    l=0\n",
    "    r=len(nums)-1\n",
    "    n=len(nums)\n",
    "    #Using binary search\n",
    "    while l<=r:\n",
    "        mid=l+(r-l)//2  \n",
    "        #Return mid when nums[mid]>nums[mid+1] and nums[mid]>nums[mid-1]\n",
    "        if ((mid == 0) or (nums[mid - 1] <= nums[mid])) and ((mid == n - 1) or (nums[mid + 1] <= nums[mid])):\n",
    "            return mid\n",
    "        #Decrease right pointer if nums[mid]>nums[mid+1] is not true\n",
    "        elif (mid > 0) and (nums[mid-1]>nums[mid]):\n",
    "            r=mid-1\n",
    "        #Increase left pointer if nums[mid-1]<nums[mid] is not true\n",
    "        else:\n",
    "            l=mid+1"
   ]
  },
  {
   "cell_type": "code",
   "execution_count": 55,
   "id": "0e973258",
   "metadata": {},
   "outputs": [
    {
     "data": {
      "text/plain": [
       "2"
      ]
     },
     "execution_count": 55,
     "metadata": {},
     "output_type": "execute_result"
    }
   ],
   "source": [
    "peak([1,2,3,1])"
   ]
  },
  {
   "cell_type": "code",
   "execution_count": 56,
   "id": "d9edaedd",
   "metadata": {},
   "outputs": [
    {
     "data": {
      "text/plain": [
       "3"
      ]
     },
     "execution_count": 56,
     "metadata": {},
     "output_type": "execute_result"
    }
   ],
   "source": [
    "peak([1,2,3,4])"
   ]
  },
  {
   "cell_type": "code",
   "execution_count": 58,
   "id": "7b43cdf6",
   "metadata": {},
   "outputs": [
    {
     "data": {
      "text/plain": [
       "0"
      ]
     },
     "execution_count": 58,
     "metadata": {},
     "output_type": "execute_result"
    }
   ],
   "source": [
    "peak([3,2,3,4])"
   ]
  },
  {
   "cell_type": "markdown",
   "id": "bb5caa92",
   "metadata": {},
   "source": [
    "**Question 3**\n",
    "\n",
    "Given an array `nums` containing `n` distinct numbers in the range `[0, n]`, return *the only number in the range that is missing from the array.*\n",
    "\n",
    "**Example 1:**\n",
    "\n",
    "Input: nums = [3,0,1]\n",
    "\n",
    "Output: 2\n",
    "\n",
    "Explanation: n = 3 since there are 3 numbers, so all numbers are in the range [0,3]. 2 is the missing number in the range since it does not appear in nums."
   ]
  },
  {
   "cell_type": "code",
   "execution_count": 73,
   "id": "34f42310",
   "metadata": {},
   "outputs": [],
   "source": [
    "def missing(nums):\n",
    "    n=len(nums)\n",
    "    #If the missing number was there the sum should have been sum of n natural numbers ie (n*(n-1))/2\n",
    "    expected_sum =(n*(n+1))//2\n",
    "    #Calculating the actual sum of elements if nums\n",
    "    actual_sum=0\n",
    "    for i in nums:\n",
    "        actual_sum+=i\n",
    "    #Return the number causing difference\n",
    "    return expected_sum-actual_sum"
   ]
  },
  {
   "cell_type": "code",
   "execution_count": 74,
   "id": "5372b6c5",
   "metadata": {},
   "outputs": [
    {
     "data": {
      "text/plain": [
       "2"
      ]
     },
     "execution_count": 74,
     "metadata": {},
     "output_type": "execute_result"
    }
   ],
   "source": [
    "missing([3,0,1])"
   ]
  },
  {
   "cell_type": "code",
   "execution_count": 75,
   "id": "89f3b0ad",
   "metadata": {},
   "outputs": [
    {
     "data": {
      "text/plain": [
       "6"
      ]
     },
     "execution_count": 75,
     "metadata": {},
     "output_type": "execute_result"
    }
   ],
   "source": [
    "missing([4,5,3,0,1,2])"
   ]
  },
  {
   "cell_type": "code",
   "execution_count": 76,
   "id": "7c6c7b2c",
   "metadata": {},
   "outputs": [
    {
     "data": {
      "text/plain": [
       "0"
      ]
     },
     "execution_count": 76,
     "metadata": {},
     "output_type": "execute_result"
    }
   ],
   "source": [
    "missing([])"
   ]
  },
  {
   "cell_type": "markdown",
   "id": "d91bd99e",
   "metadata": {},
   "source": [
    "**Question 4**\n",
    "\n",
    "Given an array of integers `nums` containing `n + 1` integers where each integer is in the range `[1, n]` inclusive.\n",
    "\n",
    "There is only **one repeated number** in `nums`, return *this repeated number*.\n",
    "\n",
    "You must solve the problem **without** modifying the array `nums` and uses only constant extra space.\n",
    "\n",
    "**Example 1:**\n",
    "\n",
    "Input: nums = [1,3,4,2,2]\n",
    "\n",
    "Output: 2"
   ]
  },
  {
   "cell_type": "code",
   "execution_count": 145,
   "id": "c84f8342",
   "metadata": {},
   "outputs": [],
   "source": [
    "def duplicate(nums):\n",
    "    #Initializing left and right pointer\n",
    "    l=1\n",
    "    r=len(nums)-1\n",
    "    #Using Binray Search\n",
    "    while l<=r:\n",
    "        mid = l+ (r -l) // 2\n",
    "        cnt = 0\n",
    "        #cnt number less than equal to mid\n",
    "        for n in nums:\n",
    "            if(n <= mid):\n",
    "                cnt+=1\n",
    "        # binary search on left\n",
    "        if(cnt <= mid):\n",
    "            l = mid + 1\n",
    "        else:\n",
    "        # binary search on right\n",
    "            r = mid - 1\n",
    "    return l"
   ]
  },
  {
   "cell_type": "code",
   "execution_count": 146,
   "id": "cac49ee5",
   "metadata": {},
   "outputs": [
    {
     "data": {
      "text/plain": [
       "2"
      ]
     },
     "execution_count": 146,
     "metadata": {},
     "output_type": "execute_result"
    }
   ],
   "source": [
    "duplicate([1,3,4,2,2])"
   ]
  },
  {
   "cell_type": "code",
   "execution_count": 147,
   "id": "968c6674",
   "metadata": {},
   "outputs": [
    {
     "data": {
      "text/plain": [
       "6"
      ]
     },
     "execution_count": 147,
     "metadata": {},
     "output_type": "execute_result"
    }
   ],
   "source": [
    "duplicate([1,3,4,2,6,6])"
   ]
  },
  {
   "cell_type": "markdown",
   "id": "e471cef2",
   "metadata": {},
   "source": [
    "**Question 5**\n",
    "\n",
    "Given two integer arrays `nums1` and `nums2`, return *an array of their intersection*. Each element in the result must be **unique** and you may return the result in **any order**.\n",
    "\n",
    "**Example 1:**\n",
    "\n",
    "Input: nums1 = [1,2,2,1], nums2 = [2,2]\n",
    "\n",
    "Output: [2]"
   ]
  },
  {
   "cell_type": "code",
   "execution_count": 175,
   "id": "a157aaa2",
   "metadata": {},
   "outputs": [],
   "source": [
    "#Binary search to serach for elements of larger array in smaller\n",
    "def binarySearch(arr,l,r,target):\n",
    "    while l<r:\n",
    "        mid=(l+r)//2\n",
    "        if arr[mid]==target:\n",
    "            return mid\n",
    "        elif arr[mid]>target:\n",
    "            r=mid-1\n",
    "        else:\n",
    "            r=mid+1\n",
    "    return -1\n",
    "\n",
    "def intersection(nums1,nums2):\n",
    "    m=len(nums1)\n",
    "    n=len(nums2)\n",
    "    #keep nums1 as the smaller array\n",
    "    if (m > n):\n",
    "        nums1,nums2=nums2,nums1\n",
    "    nums1.sort()\n",
    "    m=len(nums1)\n",
    "    n=len(nums2)\n",
    "    # Search every element of bigger array in smaller\n",
    "    result=set()\n",
    "    for i in range(0, n):\n",
    "        #Add them to result array if found\n",
    "        if (binarySearch(nums1, 0, m - 1, nums2[i]) != -1):\n",
    "            result.add(nums2[i]) \n",
    "    return list(result)"
   ]
  },
  {
   "cell_type": "code",
   "execution_count": 176,
   "id": "ff2a408d",
   "metadata": {},
   "outputs": [
    {
     "data": {
      "text/plain": [
       "[2]"
      ]
     },
     "execution_count": 176,
     "metadata": {},
     "output_type": "execute_result"
    }
   ],
   "source": [
    "intersection(nums1 = [2,2,1,1], nums2 = [2,2])"
   ]
  },
  {
   "cell_type": "code",
   "execution_count": 177,
   "id": "2cc56869",
   "metadata": {},
   "outputs": [
    {
     "data": {
      "text/plain": [
       "[]"
      ]
     },
     "execution_count": 177,
     "metadata": {},
     "output_type": "execute_result"
    }
   ],
   "source": [
    "intersection(nums1 = [1,2,2,1], nums2 = [3,4])"
   ]
  },
  {
   "cell_type": "markdown",
   "id": "08aa8110",
   "metadata": {},
   "source": [
    "**Question 6**\n",
    "\n",
    "Suppose an array of length `n` sorted in ascending order is **rotated** between `1` and `n` times. For example, the array `nums = [0,1,2,4,5,6,7]` might become:\n",
    "\n",
    "- `[4,5,6,7,0,1,2]` if it was rotated `4` times.\n",
    "- `[0,1,2,4,5,6,7]` if it was rotated `7` times.\n",
    "\n",
    "Notice that **rotating** an array `[a[0], a[1], a[2], ..., a[n-1]]` 1 time results in the array `[a[n-1], a[0], a[1], a[2], ..., a[n-2]]`.\n",
    "\n",
    "Given the sorted rotated array `nums` of **unique** elements, return *the minimum element of this array*.\n",
    "\n",
    "You must write an algorithm that runs in `O(log n) time.`\n",
    "\n",
    "**Example 1:**\n",
    "\n",
    "Input: nums = [3,4,5,1,2]\n",
    "\n",
    "Output: 1\n",
    "\n",
    "Explanation: The original array was [1,2,3,4,5] rotated 3 times."
   ]
  },
  {
   "cell_type": "code",
   "execution_count": 101,
   "id": "8122e277",
   "metadata": {},
   "outputs": [],
   "source": [
    "def minimum(nums):\n",
    "    #Initializing left and right pointer\n",
    "    l=0\n",
    "    r=len(nums)-1\n",
    "    #Using Binray Search\n",
    "    while l<r:\n",
    "        mid=(l+r)//2\n",
    "        #If nums[mid-1]>nums[mid], nums[mid] is the minimum value\n",
    "        if nums[mid]<nums[mid-1]:\n",
    "            return nums[mid]\n",
    "        #If nums[mid]>nums[r], then minimum will be present between (mid+1,r)\n",
    "        elif nums[mid]>nums[r]:\n",
    "            l=mid+1\n",
    "        else:\n",
    "            r=mid-1      "
   ]
  },
  {
   "cell_type": "code",
   "execution_count": 102,
   "id": "f43d0d4c",
   "metadata": {},
   "outputs": [
    {
     "data": {
      "text/plain": [
       "1"
      ]
     },
     "execution_count": 102,
     "metadata": {},
     "output_type": "execute_result"
    }
   ],
   "source": [
    "minimum([3,4,5,1,2])"
   ]
  },
  {
   "cell_type": "code",
   "execution_count": 100,
   "id": "821161d8",
   "metadata": {},
   "outputs": [
    {
     "data": {
      "text/plain": [
       "2"
      ]
     },
     "execution_count": 100,
     "metadata": {},
     "output_type": "execute_result"
    }
   ],
   "source": [
    "minimum([3,4,5,7,2,3])"
   ]
  },
  {
   "cell_type": "markdown",
   "id": "f7ef05fd",
   "metadata": {},
   "source": [
    "**Question 7**\n",
    "\n",
    "Given an array of integers `nums` sorted in non-decreasing order, find the starting and ending position of a given `target` value.\n",
    "\n",
    "If `target` is not found in the array, return `[-1, -1]`.\n",
    "\n",
    "You must write an algorithm with `O(log n)` runtime complexity.\n",
    "\n",
    "**Example 1:**\n",
    "\n",
    "Input: nums = [5,7,7,8,8,10], target = 8\n",
    "\n",
    "Output: [3,4]"
   ]
  },
  {
   "cell_type": "code",
   "execution_count": 117,
   "id": "4a59bf9d",
   "metadata": {},
   "outputs": [],
   "source": [
    "def findTarget(nums,target):\n",
    "    #Finding lower bound by searching for first instance of target number\n",
    "    l=-1\n",
    "    r=len(nums)-1\n",
    "    while l<=r:\n",
    "        mid=(l+r)//2\n",
    "        if nums[mid]<target:\n",
    "            l=mid+1\n",
    "        else:\n",
    "            r=mid-1\n",
    "    lower_bound=l\n",
    "    #Finding upper bound by searching for 1t instance og target+1 number\n",
    "    l=-1\n",
    "    r=len(nums)-1\n",
    "    while l<=r:\n",
    "        mid=(l+r)//2\n",
    "        if nums[mid]<(target+1):\n",
    "            l=mid+1\n",
    "        else:\n",
    "            r=mid-1\n",
    "    upper_bound=l-1\n",
    "    #If the element exists return bounds\n",
    "    if lower_bound>0:\n",
    "        return [lower_bound,upper_bound]\n",
    "    #Else return [-1,-1]\n",
    "    else:\n",
    "        return [-1,-1]"
   ]
  },
  {
   "cell_type": "code",
   "execution_count": 118,
   "id": "bd888994",
   "metadata": {},
   "outputs": [
    {
     "data": {
      "text/plain": [
       "[3, 4]"
      ]
     },
     "execution_count": 118,
     "metadata": {},
     "output_type": "execute_result"
    }
   ],
   "source": [
    "findTarget(nums = [5,7,7,8,8,10], target = 8)"
   ]
  },
  {
   "cell_type": "code",
   "execution_count": 119,
   "id": "0df92fb9",
   "metadata": {},
   "outputs": [
    {
     "data": {
      "text/plain": [
       "[-1, -1]"
      ]
     },
     "execution_count": 119,
     "metadata": {},
     "output_type": "execute_result"
    }
   ],
   "source": [
    "findTarget(nums = [5,7,7,8,8,10], target = 3)"
   ]
  },
  {
   "cell_type": "markdown",
   "id": "b22e671d",
   "metadata": {},
   "source": [
    "**Question 8**\n",
    "\n",
    "Given two integer arrays `nums1` and `nums2`, return *an array of their intersection*. Each element in the result must appear as many times as it shows in both arrays and you may return the result in **any order**.\n",
    "\n",
    "**Example 1:**\n",
    "\n",
    "Input: nums1 = [1,2,2,1], nums2 = [2,2]\n",
    "\n",
    "Output: [2,2]"
   ]
  },
  {
   "cell_type": "code",
   "execution_count": 169,
   "id": "cb98a97e",
   "metadata": {},
   "outputs": [],
   "source": [
    "#Binary search to serach for elements of larger array in smaller\n",
    "def binarySearch(arr,l,r,target):\n",
    "    while l<r:\n",
    "        mid=(l+r)//2\n",
    "        if arr[mid]==target:\n",
    "            return mid\n",
    "        elif arr[mid]>target:\n",
    "            r=mid-1\n",
    "        else:\n",
    "            r=mid+1\n",
    "    return -1\n",
    "\n",
    "def intersection_with_dups(nums1,nums2):\n",
    "    m=len(nums1)\n",
    "    n=len(nums2)\n",
    "    #keep nums1 as the smaller array\n",
    "    if (m > n):\n",
    "        nums1,nums2=nums2,nums1\n",
    "    nums1.sort()\n",
    "    m=len(nums1)\n",
    "    n=len(nums2)\n",
    "    # Search every element of bigger array in smaller\n",
    "    result=[]\n",
    "    for i in range(0, n):\n",
    "        #Add them to result array if found\n",
    "        if (binarySearch(nums1, 0, m - 1, nums2[i]) != -1):\n",
    "            result.append(nums2[i]) \n",
    "    return result"
   ]
  },
  {
   "cell_type": "code",
   "execution_count": 167,
   "id": "a819a6ba",
   "metadata": {},
   "outputs": [
    {
     "data": {
      "text/plain": [
       "[2, 2]"
      ]
     },
     "execution_count": 167,
     "metadata": {},
     "output_type": "execute_result"
    }
   ],
   "source": [
    "intersection_with_dups(nums1 = [1,2,2,1], nums2 = [2,2])"
   ]
  },
  {
   "cell_type": "code",
   "execution_count": 170,
   "id": "3d5497fc",
   "metadata": {},
   "outputs": [
    {
     "data": {
      "text/plain": [
       "[]"
      ]
     },
     "execution_count": 170,
     "metadata": {},
     "output_type": "execute_result"
    }
   ],
   "source": [
    "intersection_with_dups(nums1 = [1,2,2,1], nums2 = [3,4])"
   ]
  },
  {
   "cell_type": "code",
   "execution_count": null,
   "id": "a263a8d2",
   "metadata": {},
   "outputs": [],
   "source": []
  }
 ],
 "metadata": {
  "kernelspec": {
   "display_name": "Python 3 (ipykernel)",
   "language": "python",
   "name": "python3"
  },
  "language_info": {
   "codemirror_mode": {
    "name": "ipython",
    "version": 3
   },
   "file_extension": ".py",
   "mimetype": "text/x-python",
   "name": "python",
   "nbconvert_exporter": "python",
   "pygments_lexer": "ipython3",
   "version": "3.8.11"
  }
 },
 "nbformat": 4,
 "nbformat_minor": 5
}
