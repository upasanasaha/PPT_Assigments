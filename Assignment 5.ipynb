{
 "cells": [
  {
   "cell_type": "markdown",
   "id": "01717f8d",
   "metadata": {},
   "source": [
    "**Question 1**\n",
    "\n",
    "Convert 1D Array Into 2D Array\n",
    "\n",
    "You are given a **0-indexed** 1-dimensional (1D) integer array original, and two integers, m and n. You are tasked with creating a 2-dimensional (2D) array with  m rows and n columns using **all** the elements from original.\n",
    "\n",
    "The elements from indices 0 to n - 1 (**inclusive**) of original should form the first row of the constructed 2D array, the elements from indices n to 2 * n - 1 (**inclusive**) should form the second row of the constructed 2D array, and so on.\n",
    "\n",
    "Return *an* m x n *2D array constructed according to the above procedure, or an empty 2D array if it is impossible*.\n",
    "\n",
    "**Example 1:**\n",
    "\n",
    "**Input:** original = [1,2,3,4], m = 2, n = 2\n",
    "\n",
    "**Output:** [[1,2],[3,4]]"
   ]
  },
  {
   "cell_type": "code",
   "execution_count": 8,
   "id": "98be4e80",
   "metadata": {},
   "outputs": [],
   "source": [
    "def array2d(original,m,n):\n",
    "    #Creating a result array of m*n size\n",
    "    result=[[0]*m for i in range(n)]\n",
    "    key=0\n",
    "    #For every element of result add 1 element from original\n",
    "    for i in range(n):\n",
    "        for j in range(m):\n",
    "            result[i][j]=original[key]\n",
    "            key+=1\n",
    "    return result"
   ]
  },
  {
   "cell_type": "code",
   "execution_count": 9,
   "id": "09da4f0f",
   "metadata": {},
   "outputs": [
    {
     "data": {
      "text/plain": [
       "[[1, 2], [3, 4]]"
      ]
     },
     "execution_count": 9,
     "metadata": {},
     "output_type": "execute_result"
    }
   ],
   "source": [
    "array2d(original = [1,2,3,4], m = 2, n = 2)"
   ]
  },
  {
   "cell_type": "code",
   "execution_count": 10,
   "id": "da59b894",
   "metadata": {},
   "outputs": [
    {
     "data": {
      "text/plain": [
       "[[1, 2, 3], [4, 5, 6]]"
      ]
     },
     "execution_count": 10,
     "metadata": {},
     "output_type": "execute_result"
    }
   ],
   "source": [
    "array2d([1,2,3,4,5,6], 3, 2)"
   ]
  },
  {
   "cell_type": "markdown",
   "id": "568613a9",
   "metadata": {},
   "source": [
    "**Question 2**\n",
    "\n",
    "You have n coins and you want to build a staircase with these coins. The staircase consists of k rows where the ith row has exactly i coins. The last row of the staircase **may be** incomplete.\n",
    "\n",
    "Given the integer n, return *the number of **complete rows** of the staircase you will build*.\n",
    "\n",
    "**Example 1:**\n",
    "\n",
    "**Input:** n = 5\n",
    "\n",
    "**Output:** 2"
   ]
  },
  {
   "cell_type": "code",
   "execution_count": 11,
   "id": "2dff790c",
   "metadata": {},
   "outputs": [],
   "source": [
    "def coinstairs(n):\n",
    "    stairs = 0\n",
    "    #we know that k stairs need k(k+1)/2 coins to be made\n",
    "    start=1\n",
    "    end = n  // 2\n",
    "    #Using binary search to find the ideal value of k\n",
    "    while start <= end:\n",
    "        mid = start + (end - start) // 2\n",
    "        if (mid * ( mid + 1)) // 2 <= n:\n",
    "            stairs = mid\n",
    "            start = mid + 1\n",
    "        else:\n",
    "            end = mid - 1\n",
    "    return stairs"
   ]
  },
  {
   "cell_type": "code",
   "execution_count": 12,
   "id": "887f07ca",
   "metadata": {},
   "outputs": [
    {
     "data": {
      "text/plain": [
       "2"
      ]
     },
     "execution_count": 12,
     "metadata": {},
     "output_type": "execute_result"
    }
   ],
   "source": [
    "coinstairs(5)"
   ]
  },
  {
   "cell_type": "code",
   "execution_count": 13,
   "id": "392041ff",
   "metadata": {},
   "outputs": [
    {
     "data": {
      "text/plain": [
       "0"
      ]
     },
     "execution_count": 13,
     "metadata": {},
     "output_type": "execute_result"
    }
   ],
   "source": [
    "coinstairs(0)"
   ]
  },
  {
   "cell_type": "code",
   "execution_count": 14,
   "id": "67a195f8",
   "metadata": {},
   "outputs": [
    {
     "data": {
      "text/plain": [
       "6"
      ]
     },
     "execution_count": 14,
     "metadata": {},
     "output_type": "execute_result"
    }
   ],
   "source": [
    "coinstairs(25)"
   ]
  },
  {
   "cell_type": "markdown",
   "id": "25d34b7f",
   "metadata": {},
   "source": [
    "**Question 3**\n",
    "\n",
    "Given an integer array nums sorted in **non-decreasing** order, return *an array of **the squares of each number** sorted in non-decreasing order*.\n",
    "\n",
    "**Example 1:**\n",
    "\n",
    "**Input:** nums = [-4,-1,0,3,10]\n",
    "\n",
    "**Output:** [0,1,9,16,100]"
   ]
  },
  {
   "cell_type": "code",
   "execution_count": 15,
   "id": "a0c30a18",
   "metadata": {},
   "outputs": [],
   "source": [
    "def squares(nums):\n",
    "    #using 2 pointer approach to compare absolute values of positive and negative numbers\n",
    "    l=0\n",
    "    r=len(nums)-1\n",
    "    result=[]\n",
    "    while l<=r:\n",
    "        if abs(nums[l])>abs(nums[r]):\n",
    "            result.insert(0,nums[l]**2)\n",
    "            l+=1\n",
    "        else:\n",
    "            result.insert(0,nums[r]**2)\n",
    "            r-=1\n",
    "    return result"
   ]
  },
  {
   "cell_type": "code",
   "execution_count": 16,
   "id": "075a5c3a",
   "metadata": {},
   "outputs": [
    {
     "data": {
      "text/plain": [
       "[0, 1, 9, 16, 100]"
      ]
     },
     "execution_count": 16,
     "metadata": {},
     "output_type": "execute_result"
    }
   ],
   "source": [
    "squares([-4,-1,0,3,10])"
   ]
  },
  {
   "cell_type": "code",
   "execution_count": 17,
   "id": "945d7d7b",
   "metadata": {
    "scrolled": true
   },
   "outputs": [
    {
     "data": {
      "text/plain": [
       "[1, 16, 36, 49]"
      ]
     },
     "execution_count": 17,
     "metadata": {},
     "output_type": "execute_result"
    }
   ],
   "source": [
    "squares([-7,-6,-4,-1])"
   ]
  },
  {
   "cell_type": "markdown",
   "id": "bbf104f9",
   "metadata": {},
   "source": [
    "**Question 4**\n",
    "\n",
    "Given two **0-indexed** integer arrays nums1 and nums2, return *a list* answer *of size* 2 *where:*\n",
    "\n",
    "- answer[0] *is a list of all **distinct** integers in* nums1 *which are **not** present in* nums2*.*\n",
    "- answer[1] *is a list of all **distinct** integers in* nums2 *which are **not** present in* nums1.\n",
    "\n",
    "**Note** that the integers in the lists may be returned in **any** order.\n",
    "\n",
    "**Example 1:**\n",
    "\n",
    "**Input:** nums1 = [1,2,3], nums2 = [2,4,6]\n",
    "\n",
    "**Output:** [[1,3],[4,6]]"
   ]
  },
  {
   "cell_type": "code",
   "execution_count": 18,
   "id": "90de6345",
   "metadata": {},
   "outputs": [],
   "source": [
    "def notCommon(nums1,nums2):\n",
    "    n1=len(nums1)\n",
    "    n2=len(nums2)\n",
    "    hset1=set()\n",
    "    hset2=set()\n",
    "    #creating hset1 with numbers in nums1\n",
    "    for i in range(n1):\n",
    "        hset1.add(nums1[i])\n",
    "    #creating hset2 with numbers in nums2\n",
    "    for j in range(n2):\n",
    "        hset2.add(nums2[j])\n",
    "    #result with hset1-hset2 and hset2-hset1\n",
    "    result=[list(hset1-hset2),list(hset2-hset1)]\n",
    "    return result"
   ]
  },
  {
   "cell_type": "code",
   "execution_count": 19,
   "id": "8527c329",
   "metadata": {},
   "outputs": [
    {
     "data": {
      "text/plain": [
       "[[1, 3], [4, 6]]"
      ]
     },
     "execution_count": 19,
     "metadata": {},
     "output_type": "execute_result"
    }
   ],
   "source": [
    "notCommon(nums1 = [1,2,3], nums2 = [2,4,6])"
   ]
  },
  {
   "cell_type": "code",
   "execution_count": 20,
   "id": "8bba6be2",
   "metadata": {},
   "outputs": [
    {
     "data": {
      "text/plain": [
       "[[], [1, 2, 4, 6]]"
      ]
     },
     "execution_count": 20,
     "metadata": {},
     "output_type": "execute_result"
    }
   ],
   "source": [
    "notCommon([],[1,2,4,6])"
   ]
  },
  {
   "cell_type": "code",
   "execution_count": 21,
   "id": "562c760a",
   "metadata": {
    "scrolled": true
   },
   "outputs": [
    {
     "data": {
      "text/plain": [
       "[[1, 2, 4, 6], []]"
      ]
     },
     "execution_count": 21,
     "metadata": {},
     "output_type": "execute_result"
    }
   ],
   "source": [
    "notCommon([1,2,4,6],[])"
   ]
  },
  {
   "cell_type": "markdown",
   "id": "90bb5846",
   "metadata": {},
   "source": [
    "**Question 5**\n",
    "\n",
    "Given two integer arrays arr1 and arr2, and the integer d, *return the distance value between the two arrays*.\n",
    "\n",
    "The distance value is defined as the number of elements arr1[i] such that there is not any element arr2[j] where |arr1[i]-arr2[j]| <= d.\n",
    "\n",
    "**Example 1:**\n",
    "\n",
    "**Input:** arr1 = [4,5,8], arr2 = [10,9,1,8], d = 2\n",
    "\n",
    "**Output:** 2"
   ]
  },
  {
   "cell_type": "code",
   "execution_count": 99,
   "id": "a27d7777",
   "metadata": {},
   "outputs": [],
   "source": [
    "def distance(arr1,arr2,d):\n",
    "    #Sort arr2\n",
    "    arr2.sort()\n",
    "    count=0\n",
    "    #Binary Search to see if there is a point in arr2 for eevery eleemt in arr1 where distance is less than d\n",
    "    for i in range(len(arr1)):\n",
    "        l=0\n",
    "        h=len(arr1)-1\n",
    "        while l<=h:\n",
    "            mid=l +(h-l)//2\n",
    "            if (abs(arr1[i]-arr2[mid]) <= d):\n",
    "                break\n",
    "            if(arr2[mid] < arr1[i]):\n",
    "                 l = mid +1\n",
    "            else:\n",
    "                 h = mid-1\n",
    "        if(l > h):\n",
    "            count+=1\n",
    "    return count"
   ]
  },
  {
   "cell_type": "code",
   "execution_count": 100,
   "id": "261140e1",
   "metadata": {},
   "outputs": [
    {
     "data": {
      "text/plain": [
       "2"
      ]
     },
     "execution_count": 100,
     "metadata": {},
     "output_type": "execute_result"
    }
   ],
   "source": [
    "distance(arr1=[4,5,8],arr2 = [10,9,1,8], d = 2)"
   ]
  },
  {
   "cell_type": "code",
   "execution_count": 102,
   "id": "4805d036",
   "metadata": {},
   "outputs": [
    {
     "data": {
      "text/plain": [
       "2"
      ]
     },
     "execution_count": 102,
     "metadata": {},
     "output_type": "execute_result"
    }
   ],
   "source": [
    "distance([1,4,2,3],[-4,-3,6,10,20,30],3)"
   ]
  },
  {
   "cell_type": "markdown",
   "id": "b12747a2",
   "metadata": {},
   "source": [
    "**Question 6**\n",
    "\n",
    "Given an integer array nums of length n where all the integers of nums are in the range [1, n] and each integer appears **once** or **twice**, return *an array of all the integers that appears **twice***.\n",
    "\n",
    "You must write an algorithm that runs in O(n) time and uses only constant extra space.\n",
    "\n",
    "**Example 1:**\n",
    "\n",
    "**Input:** nums = [4,3,2,7,8,2,3,1]\n",
    "\n",
    "**Output:**=[2,3]"
   ]
  },
  {
   "cell_type": "code",
   "execution_count": 24,
   "id": "917b2413",
   "metadata": {},
   "outputs": [],
   "source": [
    "def twice(nums):\n",
    "    hmap=dict()\n",
    "    result=[]\n",
    "    #Creating a hash map to store the occurance of each element of nums\n",
    "    for i in range(len(nums)):\n",
    "        if nums[i] in hmap.keys():\n",
    "            hmap[nums[i]]+=1\n",
    "        else:\n",
    "            hmap[nums[i]]=1\n",
    "    #Add the keys from hash map that occur twice to the result\n",
    "    for k,v in hmap.items():\n",
    "        if v==2:\n",
    "            result.append(k)\n",
    "    return result"
   ]
  },
  {
   "cell_type": "code",
   "execution_count": 25,
   "id": "6cc9e1a2",
   "metadata": {},
   "outputs": [
    {
     "data": {
      "text/plain": [
       "[3, 2]"
      ]
     },
     "execution_count": 25,
     "metadata": {},
     "output_type": "execute_result"
    }
   ],
   "source": [
    "twice([4,3,2,7,8,2,3,1])"
   ]
  },
  {
   "cell_type": "code",
   "execution_count": 27,
   "id": "e74c566f",
   "metadata": {},
   "outputs": [
    {
     "data": {
      "text/plain": [
       "[3, 2, 7]"
      ]
     },
     "execution_count": 27,
     "metadata": {},
     "output_type": "execute_result"
    }
   ],
   "source": [
    "twice([4,3,2,7,8,2,3,1,7])"
   ]
  },
  {
   "cell_type": "code",
   "execution_count": 28,
   "id": "5633ebe3",
   "metadata": {},
   "outputs": [
    {
     "data": {
      "text/plain": [
       "[]"
      ]
     },
     "execution_count": 28,
     "metadata": {},
     "output_type": "execute_result"
    }
   ],
   "source": [
    "twice([])"
   ]
  },
  {
   "cell_type": "markdown",
   "id": "427fedcc",
   "metadata": {},
   "source": [
    "**Question 7**\n",
    "\n",
    "Suppose an array of length n sorted in ascending order is **rotated** between 1 and n times. For example, the array nums = [0,1,2,4,5,6,7] might become:\n",
    "\n",
    "- [4,5,6,7,0,1,2] if it was rotated 4 times.\n",
    "- [0,1,2,4,5,6,7] if it was rotated 7 times.\n",
    "\n",
    "Notice that **rotating** an array [a[0], a[1], a[2], ..., a[n-1]] 1 time results in the array [a[n-1], a[0], a[1], a[2], ..., a[n-2]].\n",
    "\n",
    "Given the sorted rotated array nums of **unique** elements, return *the minimum element of this array*.\n",
    "\n",
    "You must write an algorithm that runs in O(log n) time.\n",
    "\n",
    "**Example 1:**\n",
    "\n",
    "**Input:** nums = [3,4,5,1,2]\n",
    "\n",
    "**Output:** 1"
   ]
  },
  {
   "cell_type": "code",
   "execution_count": 41,
   "id": "900dd2fe",
   "metadata": {},
   "outputs": [],
   "source": [
    "def minElement(nums):\n",
    "    l=0\n",
    "    r=len(nums)-1\n",
    "    #return 1st element if it is not rotated\n",
    "    if nums[l] < nums[r]:\n",
    "        return nums[l]\n",
    "    #Binary search to find minimum element\n",
    "    while l<r:\n",
    "        mid=(l+r)//2\n",
    "        if nums[mid]<nums[mid-1]:\n",
    "            return nums[mid]\n",
    "        elif nums[mid]>nums[l]:\n",
    "            l=mid\n",
    "        else:\n",
    "            r=mid"
   ]
  },
  {
   "cell_type": "code",
   "execution_count": 42,
   "id": "fa29d8d3",
   "metadata": {},
   "outputs": [
    {
     "data": {
      "text/plain": [
       "1"
      ]
     },
     "execution_count": 42,
     "metadata": {},
     "output_type": "execute_result"
    }
   ],
   "source": [
    "minElement([3,4,5,1,2])"
   ]
  },
  {
   "cell_type": "code",
   "execution_count": 43,
   "id": "22d3c513",
   "metadata": {},
   "outputs": [
    {
     "data": {
      "text/plain": [
       "0"
      ]
     },
     "execution_count": 43,
     "metadata": {},
     "output_type": "execute_result"
    }
   ],
   "source": [
    "minElement([3,4,5,6,7,9,0,1,1,2])"
   ]
  },
  {
   "cell_type": "markdown",
   "id": "d99b8518",
   "metadata": {},
   "source": [
    "**Question 8**\n",
    "\n",
    "An integer array original is transformed into a **doubled** array changed by appending **twice the value** of every element in original, and then randomly **shuffling** the resulting array.\n",
    "\n",
    "Given an array changed, return original *if* changed *is a **doubled** array. If* changed *is not a **doubled** array, return an empty array. The elements in* original *may be returned in **any** order*.\n",
    "\n",
    "**Example 1:**\n",
    "\n",
    "**Input:** changed = [1,3,4,2,6,8]\n",
    "\n",
    "**Output:** [1,3,4]"
   ]
  },
  {
   "cell_type": "code",
   "execution_count": 131,
   "id": "1d7225dc",
   "metadata": {},
   "outputs": [],
   "source": [
    "#Function to find next element in array whoch has not been already considered\n",
    "def next(l,arr):\n",
    "    n=len(arr)-1\n",
    "    while(l<n) & (arr[l]==-1):\n",
    "        l+=1\n",
    "    return l\n",
    "#Fuction to check if it is a doubled array\n",
    "def double(changed):\n",
    "    changed.sort()\n",
    "    result=[]\n",
    "    count=0\n",
    "    l=0\n",
    "    h=1\n",
    "    n=len(changed)\n",
    "    if n%2:\n",
    "        return []  \n",
    "    while (h<n):\n",
    "        if changed[l]*2==changed[h]:\n",
    "            count+=1;\n",
    "            result.append(changed[l])\n",
    "            changed[l]=-1\n",
    "            changed[h]=-1\n",
    "            l=next(l,changed)\n",
    "            h+=1\n",
    "            if(l==h):\n",
    "                h+=1\n",
    "        else:\n",
    "            h+=1\n",
    "    #If count is not half of the total number of elements then there must have been a number without its double\n",
    "    if(count!=n/2):\n",
    "        result=[]\n",
    "    return result"
   ]
  },
  {
   "cell_type": "code",
   "execution_count": 132,
   "id": "328335d9",
   "metadata": {},
   "outputs": [
    {
     "data": {
      "text/plain": [
       "[1, 3, 4]"
      ]
     },
     "execution_count": 132,
     "metadata": {},
     "output_type": "execute_result"
    }
   ],
   "source": [
    "double([1,3,4,2,6,8])"
   ]
  },
  {
   "cell_type": "code",
   "execution_count": 134,
   "id": "0a38d2a2",
   "metadata": {},
   "outputs": [
    {
     "data": {
      "text/plain": [
       "[0]"
      ]
     },
     "execution_count": 134,
     "metadata": {},
     "output_type": "execute_result"
    }
   ],
   "source": [
    "double([0,0])"
   ]
  },
  {
   "cell_type": "code",
   "execution_count": 135,
   "id": "51d07566",
   "metadata": {},
   "outputs": [
    {
     "data": {
      "text/plain": [
       "[]"
      ]
     },
     "execution_count": 135,
     "metadata": {},
     "output_type": "execute_result"
    }
   ],
   "source": [
    "double([1,3,4,2,6,8,9])"
   ]
  },
  {
   "cell_type": "code",
   "execution_count": null,
   "id": "a66b7cbb",
   "metadata": {},
   "outputs": [],
   "source": []
  }
 ],
 "metadata": {
  "kernelspec": {
   "display_name": "Python 3 (ipykernel)",
   "language": "python",
   "name": "python3"
  },
  "language_info": {
   "codemirror_mode": {
    "name": "ipython",
    "version": 3
   },
   "file_extension": ".py",
   "mimetype": "text/x-python",
   "name": "python",
   "nbconvert_exporter": "python",
   "pygments_lexer": "ipython3",
   "version": "3.8.11"
  }
 },
 "nbformat": 4,
 "nbformat_minor": 5
}
