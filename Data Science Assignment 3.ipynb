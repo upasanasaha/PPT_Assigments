{
 "cells": [
  {
   "cell_type": "markdown",
   "id": "8b327f57",
   "metadata": {},
   "source": [
    "**1.** Scenario: A company wants to analyze the sales performance of its products in different regions. They have collected the following data:\n",
    "\n",
    "   Region A: [10, 15, 12, 8, 14]\n",
    "   \n",
    "   Region B: [18, 20, 16, 22, 25]\n",
    "   \n",
    "   Calculate the mean sales for each region."
   ]
  },
  {
   "cell_type": "code",
   "execution_count": 2,
   "id": "be01ca23",
   "metadata": {},
   "outputs": [],
   "source": [
    "region_A=[10, 15, 12, 8, 14]\n",
    "region_B=[18, 20, 16, 22, 25]"
   ]
  },
  {
   "cell_type": "code",
   "execution_count": 8,
   "id": "216963f3",
   "metadata": {},
   "outputs": [
    {
     "name": "stdout",
     "output_type": "stream",
     "text": [
      "Mean sales for region A is 11.8.\n",
      "Mean sales for region B is 20.2.\n"
     ]
    }
   ],
   "source": [
    "import numpy as np\n",
    "print(f'Mean sales for region A is {np.mean(region_A)}.')\n",
    "print(f'Mean sales for region B is {np.mean(region_B)}.')"
   ]
  },
  {
   "cell_type": "markdown",
   "id": "fe2a03ad",
   "metadata": {},
   "source": [
    "**2.** Scenario: A survey is conducted to measure customer satisfaction on a scale of 1 to 5. The data collected is as follows:\n",
    "\n",
    "   [4, 5, 2, 3, 5, 4, 3, 2, 4, 5]\n",
    "   \n",
    "   Calculate the mode of the survey responses."
   ]
  },
  {
   "cell_type": "code",
   "execution_count": 12,
   "id": "8c8c4ad8",
   "metadata": {},
   "outputs": [
    {
     "name": "stdout",
     "output_type": "stream",
     "text": [
      "Mode response of the survey is 4.\n"
     ]
    }
   ],
   "source": [
    "from statistics import mode\n",
    "responses=[4, 5, 2, 3, 5, 4, 3, 2, 4, 5]\n",
    "print(f'Mode response of the survey is {mode(responses)}.')"
   ]
  },
  {
   "cell_type": "markdown",
   "id": "82e0eb86",
   "metadata": {},
   "source": [
    "**3.** Scenario: A company wants to compare the salaries of two departments. The salary data for Department A and Department B are as follows:\n",
    "\n",
    "   Department A: [5000, 6000, 5500, 7000]\n",
    "   \n",
    "   Department B: [4500, 5500, 5800, 6000, 5200]\n",
    "   \n",
    "   Calculate the median salary for each department."
   ]
  },
  {
   "cell_type": "code",
   "execution_count": 17,
   "id": "c53b8c0c",
   "metadata": {},
   "outputs": [
    {
     "name": "stdout",
     "output_type": "stream",
     "text": [
      "Median salary for department A is 5750.0.\n",
      "Median salary for department B is 5500.0.\n"
     ]
    }
   ],
   "source": [
    "dept_A=[5000, 6000, 5500, 7000]\n",
    "dept_B= [4500, 5500, 5800, 6000, 5200]\n",
    "print(f'Median salary for department A is {np.median(dept_A)}.')\n",
    "print(f'Median salary for department B is {np.median(dept_B)}.')"
   ]
  },
  {
   "cell_type": "markdown",
   "id": "f98e7a60",
   "metadata": {},
   "source": [
    "**4.** Scenario: A data analyst wants to determine the variability in the daily stock prices of a company. The data collected is as follows:\n",
    "\n",
    "   [25.5, 24.8, 26.1, 25.3, 24.9]\n",
    "   \n",
    "   Calculate the range of the stock prices."
   ]
  },
  {
   "cell_type": "code",
   "execution_count": 18,
   "id": "060ea89f",
   "metadata": {},
   "outputs": [
    {
     "name": "stdout",
     "output_type": "stream",
     "text": [
      "Range of stock prices is (24.8,26.1).\n"
     ]
    }
   ],
   "source": [
    "stock_prices=[25.5, 24.8, 26.1, 25.3, 24.9]\n",
    "print(f'Range of stock prices is ({min(stock_prices)},{max(stock_prices)}).')"
   ]
  },
  {
   "cell_type": "markdown",
   "id": "63151f55",
   "metadata": {},
   "source": [
    "**5.** Scenario: A study is conducted to compare the performance of two different teaching methods. The test scores of the students in each group are as follows:\n",
    "\n",
    "   Group A: [85, 90, 92, 88, 91]\n",
    "   \n",
    "   Group B: [82, 88, 90, 86, 87]\n",
    "   \n",
    "   Perform a t-test to determine if there is a significant difference in the mean scores between the two groups."
   ]
  },
  {
   "cell_type": "code",
   "execution_count": 52,
   "id": "9c0b6b82",
   "metadata": {},
   "outputs": [
    {
     "name": "stdout",
     "output_type": "stream",
     "text": [
      "H0(null hypotheis) -> The mean scores of the two groups are same\n",
      "H1(alternative hypotheis) -> The mean scores of the two groups are different\n",
      "p value is 0.19103526314060293\n",
      "Accept H0. The mean scores of the two groups are same.\n"
     ]
    }
   ],
   "source": [
    "import scipy.stats as stats\n",
    "group_A=[85, 90, 92, 88, 91]\n",
    "group_B=[82, 88, 90, 86, 87]\n",
    "statistic,pvalue=stats.ttest_ind(a=group_A, b=group_B, equal_var=True)\n",
    "\n",
    "# interpret p-value\n",
    "alpha = 0.05\n",
    "print('H0(null hypotheis) -> The mean scores of the two groups are same')\n",
    "print('H1(alternative hypotheis) -> The mean scores of the two groups are different')\n",
    "print(\"p value is \" + str(pvalue))\n",
    "if pvalue <= alpha:\n",
    "    print('Reject H0. The mean scores of the two groups are different.')\n",
    "else:\n",
    "    print('Accept H0. The mean scores of the two groups are same.')"
   ]
  },
  {
   "cell_type": "markdown",
   "id": "4ffa2c27",
   "metadata": {},
   "source": [
    "**6.** Scenario: A company wants to analyze the relationship between advertising expenditure and sales. The data collected is as follows:\n",
    "\n",
    "   Advertising Expenditure (in thousands): [10, 15, 12, 8, 14]\n",
    "   \n",
    "   Sales (in thousands): [25, 30, 28, 20, 26]\n",
    "   \n",
    "   Calculate the correlation coefficient between advertising expenditure and sales."
   ]
  },
  {
   "cell_type": "code",
   "execution_count": 23,
   "id": "78722f89",
   "metadata": {},
   "outputs": [
    {
     "name": "stdout",
     "output_type": "stream",
     "text": [
      "The corelation coefficient between advertising and sales is 0.8757511375750132.\n"
     ]
    }
   ],
   "source": [
    "expenditure=[10, 15, 12, 8, 14]\n",
    "sales=[25, 30, 28, 20, 26]\n",
    "np.corrcoef(expenditure, sales)[0][1]\n",
    "print(f'The corelation coefficient between advertising and sales is {np.corrcoef(expenditure, sales)[0][1]}.')"
   ]
  },
  {
   "cell_type": "markdown",
   "id": "e39c5fd0",
   "metadata": {},
   "source": [
    "**7.** Scenario: A survey is conducted to measure the heights of a group of people. The data collected is as follows:\n",
    "\n",
    "   [160, 170, 165, 155, 175, 180, 170]\n",
    "   \n",
    "   Calculate the standard deviation of the heights."
   ]
  },
  {
   "cell_type": "code",
   "execution_count": 24,
   "id": "984cb0ee",
   "metadata": {},
   "outputs": [
    {
     "name": "stdout",
     "output_type": "stream",
     "text": [
      "Standard deviation of the heoghts is 7.953949089757174.\n"
     ]
    }
   ],
   "source": [
    "heights=[160, 170, 165, 155, 175, 180, 170]\n",
    "print(f'Standard deviation of the heoghts is {np.std(heights)}.')"
   ]
  },
  {
   "cell_type": "markdown",
   "id": "c98edd4c",
   "metadata": {},
   "source": [
    "**8.** Scenario: A company wants to analyze the relationship between employee tenure and job satisfaction. The data collected is as follows:\n",
    "\n",
    "   Employee Tenure (in years): [2, 3, 5, 4, 6, 2, 4]\n",
    "   \n",
    "   Job Satisfaction (on a scale of 1 to 10): [7, 8, 6, 9, 5, 7, 6]\n",
    "   \n",
    "   Perform a linear regression analysis to predict job satisfaction based on employee tenure."
   ]
  },
  {
   "cell_type": "code",
   "execution_count": 40,
   "id": "28bfe982",
   "metadata": {},
   "outputs": [
    {
     "data": {
      "text/plain": [
       "array([7.19148936])"
      ]
     },
     "execution_count": 40,
     "metadata": {},
     "output_type": "execute_result"
    }
   ],
   "source": [
    "from sklearn.linear_model import LinearRegression\n",
    "\n",
    "#X variable or independent variable\n",
    "tenure=[[2, 3, 5, 4, 6, 2, 4]]\n",
    "tenure=np.reshape(tenure,(7,1))\n",
    "\n",
    "#y variable or dependent variable\n",
    "satisfaction=[7, 8, 6, 9, 5, 7, 6]\n",
    "\n",
    "#Using LinearRegression\n",
    "lr_model=LinearRegression()\n",
    "\n",
    "#Fitting the model with given data\n",
    "lr_model.fit(tenure,satisfaction)\n",
    "\n",
    "#Example prediction with 3 years of employee tenure\n",
    "lr_model.predict([[3]])"
   ]
  },
  {
   "cell_type": "markdown",
   "id": "0188705a",
   "metadata": {},
   "source": [
    "**9.** Scenario: A study is conducted to compare the effectiveness of two different medications. The recovery times of the patients in each group are as follows:\n",
    "\n",
    "   Medication A: [10, 12, 14, 11, 13]\n",
    "   \n",
    "   Medication B: [15, 17, 16, 14, 18]\n",
    "   \n",
    "   Perform an analysis of variance (ANOVA) to determine if there is a significant difference in the mean recovery times between the two medications.\n"
   ]
  },
  {
   "cell_type": "code",
   "execution_count": 51,
   "id": "bd28120e",
   "metadata": {},
   "outputs": [
    {
     "name": "stdout",
     "output_type": "stream",
     "text": [
      "H0(null hypotheis) -> The mean recovery times are same\n",
      "H1(alternative hypotheis) -> The mean recovery times are different\n",
      "p value is 0.19103526314060293\n",
      "Reject H0. The mean recovery times are different.\n"
     ]
    }
   ],
   "source": [
    "# Importing libraries\n",
    "from scipy.stats import f_oneway\n",
    "\n",
    "med_A=[10, 12, 14, 11, 13]\n",
    "med_B=[15, 17, 16, 14, 18]\n",
    "statistics,pvalue=f_oneway(med_A, med_B)\n",
    "\n",
    "# interpret p-value\n",
    "alpha = 0.05\n",
    "print('H0(null hypotheis) -> The mean recovery times are same')\n",
    "print('H1(alternative hypotheis) -> The mean recovery times are different')\n",
    "print(\"p value is \" + str(pvalue))\n",
    "if pvalue <= alpha:\n",
    "    print('Reject H0. The mean recovery times are different.')\n",
    "else:\n",
    "    print('Accept H0. The mean recovery times are same.')"
   ]
  },
  {
   "cell_type": "markdown",
   "id": "9ca90874",
   "metadata": {},
   "source": [
    "**10.** Scenario: A company wants to analyze customer feedback ratings on a scale of 1 to 10. The data collected is\n",
    " as follows:\n",
    " \n",
    "    [8, 9, 7, 6, 8, 10, 9, 8, 7, 8]\n",
    "    \n",
    "    Calculate the 75th percentile of the feedback ratings."
   ]
  },
  {
   "cell_type": "code",
   "execution_count": 43,
   "id": "709b3a03",
   "metadata": {},
   "outputs": [
    {
     "name": "stdout",
     "output_type": "stream",
     "text": [
      "The 75th percentile of the feedback ratings is 8.75.\n"
     ]
    }
   ],
   "source": [
    "feedback=[8, 9, 7, 6, 8, 10, 9, 8, 7, 8]\n",
    "print(f'The 75th percentile of the feedback ratings is {np.percentile(feedback,75)}.')"
   ]
  },
  {
   "cell_type": "markdown",
   "id": "39b622d1",
   "metadata": {},
   "source": [
    "**11.** Scenario: A quality control department wants to test the weight consistency of a product. The weights of a sample of products are as follows:\n",
    "\n",
    "    [10.2, 9.8, 10.0, 10.5, 10.3, 10.1]\n",
    "    \n",
    "    Perform a hypothesis test to determine if the mean weight differs significantly from 10 grams."
   ]
  },
  {
   "cell_type": "code",
   "execution_count": 48,
   "id": "87606253",
   "metadata": {},
   "outputs": [
    {
     "name": "stdout",
     "output_type": "stream",
     "text": [
      "H0(null hypotheis) -> The mean weight is 10 grams\n",
      "H1(alternative hypotheis) -> The mean weight differs from 10 grams\n",
      "p value is 0.19103526314060293\n",
      "Accept H0. The mean weight is 10 grams.\n"
     ]
    }
   ],
   "source": [
    "import scipy.stats as stats\n",
    "weights=[10.2, 9.8, 10.0, 10.5, 10.3, 10.1]\n",
    "# perform one sample t-test\n",
    "t_statistic, p_value = stats.ttest_1samp(a=weights, popmean=10)\n",
    "\n",
    "# interpret p-value\n",
    "alpha = 0.05\n",
    "print('H0(null hypotheis) -> The mean weight is 10 grams')\n",
    "print('H1(alternative hypotheis) -> The mean weight differs from 10 grams')\n",
    "print(\"p value is \" + str(p_value))\n",
    "if p_value <= alpha:\n",
    "    print('Reject H0. The mean weight differs from 10 grams.')\n",
    "else:\n",
    "    print('Accept H0. The mean weight is 10 grams.')"
   ]
  },
  {
   "cell_type": "markdown",
   "id": "e027762d",
   "metadata": {},
   "source": [
    "**12.** Scenario: A company wants to analyze the click-through rates of two different website designs. The number of clicks for each design is as follows:\n",
    "\n",
    "    Design A: [100, 120, 110, 90, 95]\n",
    "    \n",
    "    Design B: [80, 85, 90, 95, 100]\n",
    "    \n",
    "    Perform a chi-square test to determine if there is a significant difference in the click-through rates between the two designs."
   ]
  },
  {
   "cell_type": "code",
   "execution_count": 47,
   "id": "c58fa82b",
   "metadata": {},
   "outputs": [
    {
     "name": "stdout",
     "output_type": "stream",
     "text": [
      "H0(null hypotheis) -> The two designs are same)\n",
      "H1(alternative hypotheis) -> The two designs are different)\n",
      "p value is 0.19103526314060293\n",
      "Accept H0. The two designs do not have any significant difference.\n"
     ]
    }
   ],
   "source": [
    "from scipy.stats import chi2_contingency\n",
    "\n",
    "design_A= [100, 120, 110, 90, 95]\n",
    "design_B=[80, 85, 90, 95, 100]\n",
    " \n",
    "# defining the table\n",
    "stat, p, dof, expected = chi2_contingency([design_A,design_B])\n",
    " \n",
    "# interpret p-value\n",
    "alpha = 0.05\n",
    "print('H0(null hypotheis) -> The two designs are same')\n",
    "print('H1(alternative hypotheis) -> The two designs are different')\n",
    "print(\"p value is \" + str(p))\n",
    "if p <= alpha:\n",
    "    print('Reject H0. So there is a significant diffrent netween the two designs.')\n",
    "else:\n",
    "    print('Accept H0. The two designs do not have any significant difference.')"
   ]
  },
  {
   "cell_type": "markdown",
   "id": "9bd9f7a4",
   "metadata": {},
   "source": [
    "**13.** Scenario: A survey is conducted to measure customer satisfaction with a product on a scale of 1 to 10. The data collected is as follows:\n",
    "\n",
    "    [7, 9, 6, 8, 10, 7, 8, 9, 7, 8]\n",
    "    \n",
    "    Calculate the 95% confidence interval for the population mean satisfaction score."
   ]
  },
  {
   "cell_type": "code",
   "execution_count": 57,
   "id": "e38c8e7c",
   "metadata": {},
   "outputs": [
    {
     "name": "stdout",
     "output_type": "stream",
     "text": [
      "The 95% confidence interval for the population mean satisfaction score is (7.043561120599888, 8.756438879400113).\n"
     ]
    }
   ],
   "source": [
    "import scipy.stats as stats\n",
    "  \n",
    "# define sample data\n",
    "satisfaction = [7, 9, 6, 8, 10, 7, 8, 9, 7, 8]\n",
    "  \n",
    "# create 95% confidence interval\n",
    "interval=stats.t.interval(alpha=0.95, df=len(satisfaction)-1,loc=np.mean(satisfaction),scale=stats.sem(satisfaction))\n",
    "print(f'The 95% confidence interval for the population mean satisfaction score is {interval}.')"
   ]
  },
  {
   "cell_type": "markdown",
   "id": "b78541bb",
   "metadata": {},
   "source": [
    "**14.** Scenario: A company wants to analyze the effect of temperature on product performance. The data collected is as follows:\n",
    "\n",
    "    Temperature (in degrees Celsius): [20, 22, 23, 19, 21]\n",
    "    \n",
    "    Performance (on a scale of 1 to 10): [8, 7, 9, 6, 8]\n",
    "    \n",
    "    Perform a simple linear regression to predict performance based on temperature."
   ]
  },
  {
   "cell_type": "code",
   "execution_count": 63,
   "id": "5fff29c9",
   "metadata": {},
   "outputs": [
    {
     "name": "stdout",
     "output_type": "stream",
     "text": [
      "The product performance when the temperature is 24 degrees is [9.1].\n"
     ]
    }
   ],
   "source": [
    "temp=[20, 22, 23, 19, 21]\n",
    "temp=np.reshape(temp,(5,1))\n",
    "performance=[8, 7, 9, 6, 8]\n",
    "\n",
    "from sklearn.linear_model import LinearRegression\n",
    "model=LinearRegression()\n",
    "model.fit(temp,performance)\n",
    "\n",
    "#Performing a prediction for example\n",
    "print(f'The product performance when the temperature is 24 degrees is {model.predict([[24]])}.')"
   ]
  },
  {
   "cell_type": "markdown",
   "id": "29025ae8",
   "metadata": {},
   "source": [
    "**15.** Scenario: A study is conducted to compare the preferences of two groups of participants. The preferences are measured on a Likert scale from 1 to 5. The data collected is as follows:\n",
    "\n",
    "    Group A: [4, 3, 5, 2, 4]\n",
    "    \n",
    "    Group B: [3, 2, 4, 3, 3]\n",
    "    \n",
    "    Perform a Mann-Whitney U test to determine if there is a significant difference in the median preferences between the two groups."
   ]
  },
  {
   "cell_type": "code",
   "execution_count": 73,
   "id": "f13c6fec",
   "metadata": {},
   "outputs": [
    {
     "name": "stdout",
     "output_type": "stream",
     "text": [
      "H0(null hypotheis) -> The median preferences of the two group is same\n",
      "H1(alternative hypotheis) -> The median preferences of the two group is different.\n",
      "p value is 0.380836480306712\n",
      "Accept H0. The median preferences of the two group is same.\n"
     ]
    }
   ],
   "source": [
    "from scipy.stats import mannwhitneyu\n",
    "\n",
    "# Take batch 1 and batch 2 data as per above example\n",
    "group_A =[4, 3, 5, 2, 4]\n",
    "group_B =[3, 2, 4, 3, 3]\n",
    "  \n",
    "# perform mann whitney test\n",
    "stat, p_value = mannwhitneyu(group_A, group_B)\n",
    "\n",
    "# interpret p-value\n",
    "alpha = 0.05\n",
    "print('H0(null hypotheis) -> The median preferences of the two group is same')\n",
    "print('H1(alternative hypotheis) -> The median preferences of the two group is different.')\n",
    "print(\"p value is \" + str(p_value))\n",
    "if p_value <= alpha:\n",
    "    print('Reject H0. So there is a significant difference between the median preference of the two groups.')\n",
    "else:\n",
    "    print('Accept H0. The median preferences of the two group is same.')"
   ]
  },
  {
   "cell_type": "markdown",
   "id": "94d48d60",
   "metadata": {},
   "source": [
    "**16.** Scenario: A company wants to analyze the distribution of customer ages. The data collected is as follows:\n",
    "\n",
    "    [25, 30, 35, 40, 45, 50, 55, 60, 65, 70]\n",
    "    \n",
    "    Calculate the interquartile range (IQR) of the ages."
   ]
  },
  {
   "cell_type": "code",
   "execution_count": 69,
   "id": "b271e6af",
   "metadata": {},
   "outputs": [
    {
     "name": "stdout",
     "output_type": "stream",
     "text": [
      "The 25th percentile age value(Q1) is 36.25.\n",
      "The 75th percentile age value is(Q3) 58.75.\n",
      "So the IQR = Q3-Q1 is 22.5.\n"
     ]
    }
   ],
   "source": [
    "ages=[25, 30, 35, 40, 45, 50, 55, 60, 65, 70]\n",
    "\n",
    "Q1=np.percentile(ages,25)\n",
    "Q3=np.percentile(ages,75)\n",
    "print(f'The 25th percentile age value(Q1) is {np.percentile(ages,25)}.')\n",
    "print(f'The 75th percentile age value is(Q3) {np.percentile(ages,75)}.')\n",
    "print(f'So the IQR = Q3-Q1 is {Q3-Q1}.')"
   ]
  },
  {
   "cell_type": "markdown",
   "id": "a1fde2c7",
   "metadata": {},
   "source": [
    "**17.** Scenario: A study is conducted to compare the performance of three different machine learning algorithms. The accuracy scores for each algorithm are as follows:\n",
    "\n",
    "    Algorithm A: [0.85, 0.80, 0.82, 0.87, 0.83]\n",
    "    \n",
    "    Algorithm B: [0.78, 0.82, 0.84, 0.80, 0.79]\n",
    "    \n",
    "    Algorithm C: [0.90, 0.88, 0.89, 0.86, 0.87]\n",
    "    \n",
    "    Perform a Kruskal-Wallis test to determine if there is a significant difference in the median accuracy scores between the algorithms.\n"
   ]
  },
  {
   "cell_type": "code",
   "execution_count": 74,
   "id": "6762e69a",
   "metadata": {},
   "outputs": [
    {
     "name": "stdout",
     "output_type": "stream",
     "text": [
      "H0(null hypotheis) -> The median accuracy of the group are same.\n",
      "H1(alternative hypotheis) -> The median accracy of the group are different.\n",
      "p value is 0.007840333026249539\n",
      "Reject H0. So there is a significant difference between the median accuracy of the groups.\n"
     ]
    }
   ],
   "source": [
    "from scipy import stats\n",
    " \n",
    "# Defining data groups\n",
    "algo_A = [0.85, 0.80, 0.82, 0.87, 0.83]\n",
    "algo_B = [0.78, 0.82, 0.84, 0.80, 0.79]\n",
    "algo_C = [0.90, 0.88, 0.89, 0.86, 0.87]\n",
    " \n",
    "# Conduct the Kruskal-Wallis Test\n",
    "stats,p_value = stats.kruskal(algo_A, algo_B, algo_C)\n",
    " \n",
    "# interpret p-value\n",
    "alpha = 0.05\n",
    "print('H0(null hypotheis) -> The median accuracy of the group are same.')\n",
    "print('H1(alternative hypotheis) -> The median accracy of the group are different.')\n",
    "print(\"p value is \" + str(p_value))\n",
    "if p_value <= alpha:\n",
    "    print('Reject H0. So there is a significant difference between the median accuracy of the groups.')\n",
    "else:\n",
    "    print('Accept H0. The median accuracy of the groups are same.')"
   ]
  },
  {
   "cell_type": "markdown",
   "id": "162188c7",
   "metadata": {},
   "source": [
    "**18.** Scenario: A company wants to analyze the effect of price on sales. The data collected is as follows:\n",
    "\n",
    "    Price (in dollars): [10, 15, 12, 8, 14]\n",
    "    \n",
    "    Sales: [100, 80, 90, 110, 95]\n",
    "    \n",
    "    Perform a simple linear regression to predict sales based on price."
   ]
  },
  {
   "cell_type": "code",
   "execution_count": 79,
   "id": "d316b041",
   "metadata": {},
   "outputs": [
    {
     "name": "stdout",
     "output_type": "stream",
     "text": [
      "The sales of the product when price is 15 is [83.7804878].\n"
     ]
    }
   ],
   "source": [
    "from sklearn.linear_model import LinearRegression\n",
    "\n",
    "price= [10, 15, 12, 8, 14]\n",
    "price= np.reshape(price,(5,1))\n",
    "sales= [100, 80, 90, 110, 95]\n",
    "\n",
    "model=LinearRegression()\n",
    "model.fit(price,sales)\n",
    "\n",
    "#Performing a prediction for example\n",
    "print(f'The sales of the product when price is 15 is {model.predict([[15]])}.')"
   ]
  },
  {
   "cell_type": "markdown",
   "id": "f2f8de39",
   "metadata": {},
   "source": [
    "**19.** Scenario: A survey is conducted to measure the satisfaction levels of customers with a new product. The data collected is as follows:\n",
    "\n",
    "    [7, 8, 9, 6, 8, 7, 9, 7, 8, 7]\n",
    "    \n",
    "    Calculate the standard error of the mean satisfaction score."
   ]
  },
  {
   "cell_type": "code",
   "execution_count": 83,
   "id": "2c42be20",
   "metadata": {},
   "outputs": [
    {
     "name": "stdout",
     "output_type": "stream",
     "text": [
      "The standard error of the mean satisfaction score is 0.30550504633038933.\n"
     ]
    }
   ],
   "source": [
    "from scipy.stats import sem\n",
    "\n",
    "#define dataset \n",
    "data = [7, 8, 9, 6, 8, 7, 9, 7, 8, 7]\n",
    "\n",
    "#calculate standard error of the mean \n",
    "print(f'The standard error of the mean satisfaction score is {sem(data)}.')"
   ]
  },
  {
   "cell_type": "markdown",
   "id": "3d3c5aa9",
   "metadata": {},
   "source": [
    "**20.** Scenario: A company wants to analyze the relationship between advertising expenditure and sales. The data collected is as follows:\n",
    "\n",
    "    Advertising Expenditure (in thousands): [10, 15, 12, 8, 14]\n",
    "    \n",
    "    Sales (in thousands): [25, 30, 28, 20, 26]\n",
    "    \n",
    "    Perform a multiple regression analysis to predict sales based on advertising expenditure."
   ]
  },
  {
   "cell_type": "code",
   "execution_count": 80,
   "id": "a269f178",
   "metadata": {},
   "outputs": [
    {
     "name": "stdout",
     "output_type": "stream",
     "text": [
      "The sales of the product when advertising expensiture is 15 is [29.48780488].\n"
     ]
    }
   ],
   "source": [
    "from sklearn.linear_model import LinearRegression\n",
    "\n",
    "expenditure= [10, 15, 12, 8, 14]\n",
    "expenditure= np.reshape(expenditure,(5,1))\n",
    "sales= [25, 30, 28, 20, 26]\n",
    "\n",
    "model=LinearRegression()\n",
    "model.fit(expenditure,sales)\n",
    "\n",
    "#Performing a prediction for example\n",
    "print(f'The sales of the product when advertising expensiture is 15 is {model.predict([[15]])}.')"
   ]
  },
  {
   "cell_type": "code",
   "execution_count": null,
   "id": "f16d7f63",
   "metadata": {},
   "outputs": [],
   "source": []
  }
 ],
 "metadata": {
  "kernelspec": {
   "display_name": "Python 3 (ipykernel)",
   "language": "python",
   "name": "python3"
  },
  "language_info": {
   "codemirror_mode": {
    "name": "ipython",
    "version": 3
   },
   "file_extension": ".py",
   "mimetype": "text/x-python",
   "name": "python",
   "nbconvert_exporter": "python",
   "pygments_lexer": "ipython3",
   "version": "3.8.11"
  }
 },
 "nbformat": 4,
 "nbformat_minor": 5
}
