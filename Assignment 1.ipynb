{
 "cells": [
  {
   "cell_type": "markdown",
   "id": "639e3613",
   "metadata": {},
   "source": [
    "**Q1.** Given an array of integers nums and an integer target, return indices of the two numbers such that they add up to target.\n",
    "\n",
    "You may assume that each input would have exactly one solution, and you may not use the same element twice.\n",
    "\n",
    "You can return the answer in any order.\n",
    "\n",
    "**Example:**\n",
    "Input: nums = [2,7,11,15], target = 9\n",
    "Output0 [0,1]"
   ]
  },
  {
   "cell_type": "code",
   "execution_count": 6,
   "id": "7726216f",
   "metadata": {},
   "outputs": [],
   "source": [
    "def TwoSum(nums,k):\n",
    "    #Considering corner cases\n",
    "    if len(nums)<=1:\n",
    "        return 0\n",
    "    else:\n",
    "        hashmap = {}\n",
    "        for i in range(len(nums)):\n",
    "            complement = k - nums[i]\n",
    "            if complement in hashmap:\n",
    "                return [hashmap[complement],i]\n",
    "            hashmap[nums[i]] = i"
   ]
  },
  {
   "cell_type": "code",
   "execution_count": 7,
   "id": "35fec099",
   "metadata": {},
   "outputs": [
    {
     "data": {
      "text/plain": [
       "[0, 1]"
      ]
     },
     "execution_count": 7,
     "metadata": {},
     "output_type": "execute_result"
    }
   ],
   "source": [
    "TwoSum([2,7,11,15],9)"
   ]
  },
  {
   "cell_type": "code",
   "execution_count": 8,
   "id": "13ccd614",
   "metadata": {},
   "outputs": [
    {
     "data": {
      "text/plain": [
       "0"
      ]
     },
     "execution_count": 8,
     "metadata": {},
     "output_type": "execute_result"
    }
   ],
   "source": [
    "TwoSum([],9)"
   ]
  },
  {
   "cell_type": "code",
   "execution_count": 9,
   "id": "57c82aa8",
   "metadata": {},
   "outputs": [
    {
     "data": {
      "text/plain": [
       "0"
      ]
     },
     "execution_count": 9,
     "metadata": {},
     "output_type": "execute_result"
    }
   ],
   "source": [
    "TwoSum([7],9)"
   ]
  },
  {
   "cell_type": "code",
   "execution_count": 11,
   "id": "07b8171f",
   "metadata": {},
   "outputs": [
    {
     "data": {
      "text/plain": [
       "[0, 1]"
      ]
     },
     "execution_count": 11,
     "metadata": {},
     "output_type": "execute_result"
    }
   ],
   "source": [
    "TwoSum([2,7,5,4],9)"
   ]
  },
  {
   "cell_type": "code",
   "execution_count": 12,
   "id": "24f83a97",
   "metadata": {},
   "outputs": [
    {
     "data": {
      "text/plain": [
       "[1, 2]"
      ]
     },
     "execution_count": 12,
     "metadata": {},
     "output_type": "execute_result"
    }
   ],
   "source": [
    "TwoSum([2,5,4,7,11,15],9)"
   ]
  },
  {
   "cell_type": "markdown",
   "id": "ce87d33a",
   "metadata": {},
   "source": [
    "**Q2.** Given an integer array nums and an integer val, remove all occurrences of val in nums in-place. The order of the elements may be changed. Then return the number of elements in nums which are not equal to val.\n",
    "\n",
    "Consider the number of elements in nums which are not equal to val be k, to get accepted, you need to do the following things:\n",
    "\n",
    "- Change the array nums such that the first k elements of nums contain the elements which are not equal to val. The remaining elements of nums are not important as well as the size of nums.\n",
    "- Return k.\n",
    "\n",
    "**Example :**\n",
    "Input: nums = [3,2,2,3], val = 3\n",
    "Output: 2, nums = [2,2,_*,_*]"
   ]
  },
  {
   "cell_type": "code",
   "execution_count": 21,
   "id": "1311de76",
   "metadata": {},
   "outputs": [],
   "source": [
    "def removeValue(nums,val):\n",
    "    # Counter for keeping track of elements other than val\n",
    "    count = 0\n",
    "    # Loop through all the elements of the array\n",
    "    for i in range(len(nums)):\n",
    "    # If the element is not val\n",
    "        if nums[i]!=val:\n",
    "            nums[count]=nums[i]\n",
    "            count += 1\n",
    "    return count, nums[:count]"
   ]
  },
  {
   "cell_type": "code",
   "execution_count": 22,
   "id": "d0ba2fbb",
   "metadata": {},
   "outputs": [
    {
     "data": {
      "text/plain": [
       "(2, [2, 2])"
      ]
     },
     "execution_count": 22,
     "metadata": {},
     "output_type": "execute_result"
    }
   ],
   "source": [
    "removeValue([3,2,2,3],3)"
   ]
  },
  {
   "cell_type": "code",
   "execution_count": 23,
   "id": "8e3978da",
   "metadata": {},
   "outputs": [
    {
     "data": {
      "text/plain": [
       "(5, [1, 3, 4, 0, 1])"
      ]
     },
     "execution_count": 23,
     "metadata": {},
     "output_type": "execute_result"
    }
   ],
   "source": [
    "removeValue([1,3,4,0,2,2,1],2)"
   ]
  },
  {
   "cell_type": "markdown",
   "id": "5011dbb8",
   "metadata": {},
   "source": [
    "**Q3.** Given a sorted array of distinct integers and a target value, return the index if the target is found. If not, return the index where it would be if it were inserted in order.\n",
    "\n",
    "You must write an algorithm with O(log n) runtime complexity.\n",
    "\n",
    "**Example 1:**\n",
    "Input: nums = [1,3,5,6], target = 5\n",
    "\n",
    "Output: 2"
   ]
  },
  {
   "cell_type": "code",
   "execution_count": 113,
   "id": "658246d5",
   "metadata": {},
   "outputs": [],
   "source": [
    "def findValue(nums,val):\n",
    "    if len(nums)==0:\n",
    "        return 0\n",
    "    else:\n",
    "        l=0\n",
    "        r=len(nums)-1\n",
    "        mid=(l+r)//2\n",
    "        flag=0\n",
    "        while l<=r:\n",
    "            if nums[mid]<val:\n",
    "                l=mid+1\n",
    "                mid=(l+r)//2\n",
    "            elif nums[mid]>val:\n",
    "                r=mid-1\n",
    "                mid=(l+r)//2\n",
    "            elif nums[mid]==val:\n",
    "                flag=1\n",
    "                result=mid\n",
    "                break\n",
    "        if flag!=1:\n",
    "            result=l\n",
    "    return result"
   ]
  },
  {
   "cell_type": "code",
   "execution_count": 107,
   "id": "a6d9ff9f",
   "metadata": {},
   "outputs": [
    {
     "data": {
      "text/plain": [
       "2"
      ]
     },
     "execution_count": 107,
     "metadata": {},
     "output_type": "execute_result"
    }
   ],
   "source": [
    "findValue([1,3,5,6],5)"
   ]
  },
  {
   "cell_type": "code",
   "execution_count": 108,
   "id": "97f058ec",
   "metadata": {},
   "outputs": [
    {
     "data": {
      "text/plain": [
       "2"
      ]
     },
     "execution_count": 108,
     "metadata": {},
     "output_type": "execute_result"
    }
   ],
   "source": [
    "findValue([1,3,5,6],4)"
   ]
  },
  {
   "cell_type": "code",
   "execution_count": 109,
   "id": "fd758c49",
   "metadata": {},
   "outputs": [
    {
     "data": {
      "text/plain": [
       "0"
      ]
     },
     "execution_count": 109,
     "metadata": {},
     "output_type": "execute_result"
    }
   ],
   "source": [
    "findValue([1,3,5,6],0)"
   ]
  },
  {
   "cell_type": "code",
   "execution_count": 110,
   "id": "7209ce42",
   "metadata": {},
   "outputs": [
    {
     "data": {
      "text/plain": [
       "4"
      ]
     },
     "execution_count": 110,
     "metadata": {},
     "output_type": "execute_result"
    }
   ],
   "source": [
    "findValue([1,3,5,6],8)"
   ]
  },
  {
   "cell_type": "code",
   "execution_count": 111,
   "id": "2811ade4",
   "metadata": {},
   "outputs": [
    {
     "data": {
      "text/plain": [
       "0"
      ]
     },
     "execution_count": 111,
     "metadata": {},
     "output_type": "execute_result"
    }
   ],
   "source": [
    "findValue([1,3,5,6],-3)"
   ]
  },
  {
   "cell_type": "code",
   "execution_count": 114,
   "id": "4c5dca0e",
   "metadata": {},
   "outputs": [
    {
     "data": {
      "text/plain": [
       "0"
      ]
     },
     "execution_count": 114,
     "metadata": {},
     "output_type": "execute_result"
    }
   ],
   "source": [
    "findValue([],-3)"
   ]
  },
  {
   "cell_type": "markdown",
   "id": "6df8a74c",
   "metadata": {},
   "source": [
    "**Q4.** You are given a large integer represented as an integer array digits, where each digits[i] is the ith digit of the integer. The digits are ordered from most significant to least significant in left-to-right order. The large integer does not contain any leading 0's.\n",
    "\n",
    "Increment the large integer by one and return the resulting array of digits.\n",
    "\n",
    "**Example 1:**\n",
    "Input: digits = [1,2,3]\n",
    "Output: [1,2,4]"
   ]
  },
  {
   "cell_type": "code",
   "execution_count": 76,
   "id": "e675c0d2",
   "metadata": {},
   "outputs": [],
   "source": [
    "def addOne(nums):\n",
    "    number=0\n",
    "    n=len(nums)-1\n",
    "    for i in range(n,-1,-1):\n",
    "        number=number+(10**(n-i)*nums[i])\n",
    "    number=number+1\n",
    "    result=[]\n",
    "    while number>0:\n",
    "        d=number%10\n",
    "        result.insert(0,d)\n",
    "        number=number//10\n",
    "    return result"
   ]
  },
  {
   "cell_type": "code",
   "execution_count": 81,
   "id": "28ef93cc",
   "metadata": {},
   "outputs": [
    {
     "data": {
      "text/plain": [
       "[1, 2, 5]"
      ]
     },
     "execution_count": 81,
     "metadata": {},
     "output_type": "execute_result"
    }
   ],
   "source": [
    "addOne([1,2,4])"
   ]
  },
  {
   "cell_type": "code",
   "execution_count": 80,
   "id": "10efd9c4",
   "metadata": {},
   "outputs": [
    {
     "data": {
      "text/plain": [
       "[1, 0, 0, 0]"
      ]
     },
     "execution_count": 80,
     "metadata": {},
     "output_type": "execute_result"
    }
   ],
   "source": [
    "addOne([9,9,9])"
   ]
  },
  {
   "cell_type": "code",
   "execution_count": 102,
   "id": "3ff9d500",
   "metadata": {},
   "outputs": [
    {
     "data": {
      "text/plain": [
       "[1]"
      ]
     },
     "execution_count": 102,
     "metadata": {},
     "output_type": "execute_result"
    }
   ],
   "source": [
    "addOne([])"
   ]
  },
  {
   "cell_type": "markdown",
   "id": "5dd0d3cc",
   "metadata": {},
   "source": [
    "**Q5.** You are given two integer arrays nums1 and nums2, sorted in non-decreasing order, and two integers m and n, representing the number of elements in nums1 and nums2 respectively.\n",
    "\n",
    "Merge nums1 and nums2 into a single array sorted in non-decreasing order.\n",
    "\n",
    "The final sorted array should not be returned by the function, but instead be stored inside the array nums1. To accommodate this, nums1 has a length of m + n, where the first m elements denote the elements that should be merged, and the last n elements are set to 0 and should be ignored. nums2 has a length of n.\n",
    "\n",
    "**Example 1:**\n",
    "Input: nums1 = [1,2,3,0,0,0], m = 3, nums2 = [2,5,6], n = 3\n",
    "Output: [1,2,2,3,5,6]"
   ]
  },
  {
   "cell_type": "code",
   "execution_count": 178,
   "id": "2713d22d",
   "metadata": {},
   "outputs": [],
   "source": [
    "def mergeSort(nums1,m,nums2,n):\n",
    "    i,j=0,0\n",
    "    #Checking corner case where m=0\n",
    "    if m== 0:\n",
    "        nums1[0:] = nums2[0:]\n",
    "    #looping through both the arrays and inserting the elements in nums2 in nums1 in proper place\n",
    "    while i<m and i<n:\n",
    "        if nums1[i]<nums2[j]:\n",
    "            i+=1\n",
    "        elif nums1[i]>=nums2[j]:\n",
    "            nums1.pop(-1)\n",
    "            nums1.insert(i,nums2[j])\n",
    "            j+=1\n",
    "            i+=1\n",
    "            m+=1\n",
    "    #adding the left nums2 elements \n",
    "    while j<n:\n",
    "        nums1.pop(-1)\n",
    "        nums1.insert(m,nums2[j])\n",
    "        j+=1\n",
    "        m+=1\n",
    "    return nums1"
   ]
  },
  {
   "cell_type": "code",
   "execution_count": 179,
   "id": "864731b7",
   "metadata": {},
   "outputs": [
    {
     "data": {
      "text/plain": [
       "[1, 2, 2, 3, 5, 6]"
      ]
     },
     "execution_count": 179,
     "metadata": {},
     "output_type": "execute_result"
    }
   ],
   "source": [
    "mergeSort([1,2,3,0,0,0],3,[2,5,6],3)"
   ]
  },
  {
   "cell_type": "code",
   "execution_count": 182,
   "id": "9b592bd6",
   "metadata": {},
   "outputs": [
    {
     "data": {
      "text/plain": [
       "[1, 2, 2, 5, 6, 3]"
      ]
     },
     "execution_count": 182,
     "metadata": {},
     "output_type": "execute_result"
    }
   ],
   "source": [
    "mergeSort([2,5,6,0,0,0],3,[1,2,3],3)"
   ]
  },
  {
   "cell_type": "code",
   "execution_count": 183,
   "id": "c86bebd5",
   "metadata": {},
   "outputs": [
    {
     "data": {
      "text/plain": [
       "[2, 2, 5, 6, 5]"
      ]
     },
     "execution_count": 183,
     "metadata": {},
     "output_type": "execute_result"
    }
   ],
   "source": [
    "mergeSort([2,5,6,0,0],3,[2,5],2)"
   ]
  },
  {
   "cell_type": "code",
   "execution_count": 184,
   "id": "0075f375",
   "metadata": {},
   "outputs": [
    {
     "data": {
      "text/plain": [
       "[2, 5, 8]"
      ]
     },
     "execution_count": 184,
     "metadata": {},
     "output_type": "execute_result"
    }
   ],
   "source": [
    "mergeSort([0,0,0],0,[2,5,8],3)"
   ]
  },
  {
   "cell_type": "markdown",
   "id": "495c97da",
   "metadata": {},
   "source": [
    "**Q7.** Given an integer array nums, move all 0's to the end of it while maintaining the relative order of the nonzero elements.\n",
    "\n",
    "Note that you must do this in-place without making a copy of the array.\n",
    "\n",
    "**Example 1:**\n",
    "Input: nums = [0,1,0,3,12]\n",
    "Output: [1,3,12,0,0]"
   ]
  },
  {
   "cell_type": "code",
   "execution_count": 99,
   "id": "8bf22b91",
   "metadata": {},
   "outputs": [],
   "source": [
    "def moveZero(arr):\n",
    "    count=0\n",
    "    for i in range(len(arr)):\n",
    "        if arr[i]!=0:\n",
    "            arr[count]=arr[i]\n",
    "            count+=1\n",
    "    while count<len(arr):\n",
    "        arr[count]=0\n",
    "        count+=1\n",
    "    return arr"
   ]
  },
  {
   "cell_type": "code",
   "execution_count": 100,
   "id": "d40a62f2",
   "metadata": {},
   "outputs": [
    {
     "data": {
      "text/plain": [
       "[1, 3, 12, 0, 0]"
      ]
     },
     "execution_count": 100,
     "metadata": {},
     "output_type": "execute_result"
    }
   ],
   "source": [
    "moveZero([0,1,0,3,12])"
   ]
  },
  {
   "cell_type": "code",
   "execution_count": 101,
   "id": "db6495be",
   "metadata": {},
   "outputs": [
    {
     "data": {
      "text/plain": [
       "[0, 0, 0]"
      ]
     },
     "execution_count": 101,
     "metadata": {},
     "output_type": "execute_result"
    }
   ],
   "source": [
    "moveZero([0,0,0])"
   ]
  },
  {
   "cell_type": "code",
   "execution_count": 103,
   "id": "f4eed16c",
   "metadata": {},
   "outputs": [
    {
     "data": {
      "text/plain": [
       "[]"
      ]
     },
     "execution_count": 103,
     "metadata": {},
     "output_type": "execute_result"
    }
   ],
   "source": [
    "moveZero([])"
   ]
  },
  {
   "cell_type": "markdown",
   "id": "fe1e9c4a",
   "metadata": {},
   "source": [
    "**Q8.** You have a set of integers s, which originally contains all the numbers from 1 to n. Unfortunately, due to some error, one of the numbers in s got duplicated to another number in the set, which results in repetition of one number and loss of another number.\n",
    "\n",
    "You are given an integer array nums representing the data status of this set after the error.\n",
    "\n",
    "Find the number that occurs twice and the number that is missing and return them in the form of an array.\n",
    "\n",
    "**Example 1:**\n",
    "Input: nums = [1,2,2,4]\n",
    "Output: [2,3]"
   ]
  },
  {
   "cell_type": "code",
   "execution_count": 211,
   "id": "eb50575e",
   "metadata": {},
   "outputs": [],
   "source": [
    "def missingNumber(nums):\n",
    "    total=0\n",
    "    for idx in range(len(nums)):\n",
    "        i=idx+1\n",
    "        if nums[idx]!=i:\n",
    "            temp=nums[nums[idx]-1]\n",
    "            nums[nums[idx]-1]=nums[idx]\n",
    "            nums[idx]=temp\n",
    "    for i in range(len(nums)):\n",
    "        if nums[i]!=i+1:\n",
    "            break\n",
    "    return nums[i],i+1"
   ]
  },
  {
   "cell_type": "code",
   "execution_count": 212,
   "id": "fbcd13b8",
   "metadata": {},
   "outputs": [
    {
     "data": {
      "text/plain": [
       "(2, 3)"
      ]
     },
     "execution_count": 212,
     "metadata": {},
     "output_type": "execute_result"
    }
   ],
   "source": [
    "missingNumber([1,2,2,4])"
   ]
  },
  {
   "cell_type": "code",
   "execution_count": 213,
   "id": "0bc02bf0",
   "metadata": {},
   "outputs": [
    {
     "data": {
      "text/plain": [
       "(5, 4)"
      ]
     },
     "execution_count": 213,
     "metadata": {},
     "output_type": "execute_result"
    }
   ],
   "source": [
    "missingNumber([2,3,1,7,6,5,5])"
   ]
  },
  {
   "cell_type": "code",
   "execution_count": null,
   "id": "fe7ad210",
   "metadata": {},
   "outputs": [],
   "source": []
  }
 ],
 "metadata": {
  "kernelspec": {
   "display_name": "Python 3 (ipykernel)",
   "language": "python",
   "name": "python3"
  },
  "language_info": {
   "codemirror_mode": {
    "name": "ipython",
    "version": 3
   },
   "file_extension": ".py",
   "mimetype": "text/x-python",
   "name": "python",
   "nbconvert_exporter": "python",
   "pygments_lexer": "ipython3",
   "version": "3.8.11"
  }
 },
 "nbformat": 4,
 "nbformat_minor": 5
}
