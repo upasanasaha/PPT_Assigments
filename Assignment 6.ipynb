{
 "cells": [
  {
   "cell_type": "markdown",
   "id": "80bccc92",
   "metadata": {},
   "source": [
    "**Question 1**\n",
    "\n",
    "A permutation perm of n + 1 integers of all the integers in the range [0, n] can be represented as a string s of length n where:\n",
    "\n",
    "- s[i] == 'I' if perm[i] < perm[i + 1], and\n",
    "- s[i] == 'D' if perm[i] > perm[i + 1].\n",
    "\n",
    "Given a string s, reconstruct the permutation perm and return it. If there are multiple valid permutations perm, return **any of them**.\n",
    "\n",
    "**Example 1:**\n",
    "\n",
    "**Input:** s = \"IDID\"\n",
    "\n",
    "**Output:**\n",
    "[0,4,1,3,2]\n"
   ]
  },
  {
   "cell_type": "code",
   "execution_count": 122,
   "id": "396c89ac",
   "metadata": {},
   "outputs": [],
   "source": [
    "def perm(s):\n",
    "    n=len(s)\n",
    "    #Taking the initial count for I elements as -1\n",
    "    count1=-1\n",
    "    #Taking the initial count for D elements as n+1\n",
    "    count2=n+1\n",
    "    result=[]\n",
    "    for i in s:\n",
    "        if i=='I':\n",
    "            #Increase count1 whenever I is found\n",
    "            count1+=1\n",
    "            result.append(count1)\n",
    "        elif i=='D':\n",
    "            #Decrease count2 whenever D is found\n",
    "            count2-=1\n",
    "            result.append(count2)\n",
    "    count2-=1\n",
    "    result.append(count2)\n",
    "    return result"
   ]
  },
  {
   "cell_type": "code",
   "execution_count": 123,
   "id": "dc97f272",
   "metadata": {},
   "outputs": [
    {
     "data": {
      "text/plain": [
       "[0, 4, 1, 3, 2]"
      ]
     },
     "execution_count": 123,
     "metadata": {},
     "output_type": "execute_result"
    }
   ],
   "source": [
    "perm(\"IDID\")"
   ]
  },
  {
   "cell_type": "code",
   "execution_count": 124,
   "id": "418da404",
   "metadata": {},
   "outputs": [
    {
     "data": {
      "text/plain": [
       "[0, 1, 2, 3]"
      ]
     },
     "execution_count": 124,
     "metadata": {},
     "output_type": "execute_result"
    }
   ],
   "source": [
    "perm('III')"
   ]
  },
  {
   "cell_type": "code",
   "execution_count": 125,
   "id": "dea316d5",
   "metadata": {},
   "outputs": [
    {
     "data": {
      "text/plain": [
       "[3, 2, 0, 1]"
      ]
     },
     "execution_count": 125,
     "metadata": {},
     "output_type": "execute_result"
    }
   ],
   "source": [
    "perm('DDI')"
   ]
  },
  {
   "cell_type": "markdown",
   "id": "7779cc34",
   "metadata": {},
   "source": [
    "**Question 2**\n",
    "\n",
    "You are given an m x n integer matrix matrix with the following two properties:\n",
    "\n",
    "- Each row is sorted in non-decreasing order.\n",
    "- The first integer of each row is greater than the last integer of the previous row.\n",
    "\n",
    "Given an integer target, return true *if* target *is in* matrix *or* false *otherwise*.\n",
    "\n",
    "You must write a solution in O(log(m * n)) time complexity.\n",
    "\n",
    "**Input:** matrix = [[1,3,5,7],[10,11,16,20],[23,30,34,60]], target = 3\n",
    "\n",
    "**Output:** true"
   ]
  },
  {
   "cell_type": "code",
   "execution_count": 4,
   "id": "f379915a",
   "metadata": {},
   "outputs": [],
   "source": [
    "def findElement(matrix,target):\n",
    "    up=0\n",
    "    down=len(matrix)-1\n",
    "    left=0\n",
    "    right=len(matrix[0])-1\n",
    "    row=0\n",
    "    col=0\n",
    "    #Using binary search to find the row where element can be present\n",
    "    while up<=down:\n",
    "        mid_row=(up+down)//2\n",
    "        if matrix[mid_row][0]==target:\n",
    "            row=mid_row\n",
    "        elif matrix[mid_row][0]>target:\n",
    "            down=mid_row-1\n",
    "        else:\n",
    "            up=mid_row+1\n",
    "    #Using Binary search to find the col where element is present\n",
    "    while left<right:\n",
    "        mid_col=(left+right)//2\n",
    "        if matrix[mid_row][mid_col]==target:\n",
    "            return True\n",
    "        elif matrix[mid_row][mid_col]>target:\n",
    "            right=mid_col-1\n",
    "        else:\n",
    "            left=mid_col+1\n",
    "    return False"
   ]
  },
  {
   "cell_type": "code",
   "execution_count": 5,
   "id": "733c1346",
   "metadata": {},
   "outputs": [
    {
     "data": {
      "text/plain": [
       "True"
      ]
     },
     "execution_count": 5,
     "metadata": {},
     "output_type": "execute_result"
    }
   ],
   "source": [
    "findElement([[1,3,5,7],[10,11,16,20],[23,30,34,60]],3)"
   ]
  },
  {
   "cell_type": "code",
   "execution_count": 6,
   "id": "0aa7f734",
   "metadata": {},
   "outputs": [
    {
     "data": {
      "text/plain": [
       "False"
      ]
     },
     "execution_count": 6,
     "metadata": {},
     "output_type": "execute_result"
    }
   ],
   "source": [
    "findElement([[1,3,5,7],[10,11,16,20],[23,30,34,60]],9)"
   ]
  },
  {
   "cell_type": "markdown",
   "id": "51e0f438",
   "metadata": {},
   "source": [
    "**Question 3**\n",
    "\n",
    "Given an array of integers arr, return *true if and only if it is a valid mountain array*.\n",
    "\n",
    "Recall that arr is a mountain array if and only if:\n",
    "\n",
    "- arr.length >= 3\n",
    "- There exists some i with 0 < i < arr.length - 1 such that:\n",
    "    - arr[0] < arr[1] < ... < arr[i - 1] < arr[i]\n",
    "    - arr[i] > arr[i + 1] > ... > arr[arr.length - 1]\n",
    "    \n",
    "**Example 1:**\n",
    "\n",
    "**Input:** arr = [2,1]\n",
    "\n",
    "**Output:**\n",
    "false"
   ]
  },
  {
   "cell_type": "code",
   "execution_count": 28,
   "id": "3580586b",
   "metadata": {},
   "outputs": [],
   "source": [
    "def mountainArray(arr):\n",
    "    #Return False is array has less than 3 elements\n",
    "    if len(arr)<3:\n",
    "        return False\n",
    "    else:\n",
    "        maximum=0\n",
    "        #Find the element having maximum value\n",
    "        for i in range(1,len(arr)):\n",
    "            if arr[i]>arr[maximum]:\n",
    "                maximum=i\n",
    "        #If the maximum is at the start or the end then the array is ascending or descending and not mountain\n",
    "        if (maximum==0) &(maximum==(len(arr)-1)):\n",
    "            return False\n",
    "        #Checking if all the element in the left of maximum is ascending\n",
    "        for i in range(maximum-1):\n",
    "            if arr[i]>=arr[i+1]:\n",
    "                return False\n",
    "        #Chceking if all the element in the right of maximum is descending\n",
    "        for i in range(maximum+1,len(arr)-1):\n",
    "            if arr[i]<=arr[i+1]:\n",
    "                return False\n",
    "    return True"
   ]
  },
  {
   "cell_type": "code",
   "execution_count": 29,
   "id": "c42fed61",
   "metadata": {},
   "outputs": [
    {
     "data": {
      "text/plain": [
       "False"
      ]
     },
     "execution_count": 29,
     "metadata": {},
     "output_type": "execute_result"
    }
   ],
   "source": [
    "mountainArray([2,1])"
   ]
  },
  {
   "cell_type": "code",
   "execution_count": 30,
   "id": "7e628e52",
   "metadata": {},
   "outputs": [
    {
     "data": {
      "text/plain": [
       "True"
      ]
     },
     "execution_count": 30,
     "metadata": {},
     "output_type": "execute_result"
    }
   ],
   "source": [
    "mountainArray([1,3,5,6,7,9,8,4,3,2])"
   ]
  },
  {
   "cell_type": "code",
   "execution_count": 31,
   "id": "6a22b6cf",
   "metadata": {},
   "outputs": [
    {
     "data": {
      "text/plain": [
       "False"
      ]
     },
     "execution_count": 31,
     "metadata": {},
     "output_type": "execute_result"
    }
   ],
   "source": [
    "mountainArray([1,3,5,4,6,7,9,8,4,3,2])"
   ]
  },
  {
   "cell_type": "markdown",
   "id": "d942d634",
   "metadata": {},
   "source": [
    "**Question 4**\n",
    "\n",
    "Given a binary array nums, return *the maximum length of a contiguous subarray with an equal number of* 0 *and* 1.\n",
    "\n",
    "**Example 1:**\n",
    "\n",
    "**Input:** nums = [0,1]\n",
    "\n",
    "**Output:** 2"
   ]
  },
  {
   "cell_type": "code",
   "execution_count": 141,
   "id": "143137b1",
   "metadata": {},
   "outputs": [],
   "source": [
    "def maxLength(nums):\n",
    "    n=len(nums)\n",
    "    hmap = {} \n",
    "    curr_sum = 0\n",
    "    max_len = 0\n",
    "    ending_index = -1 \n",
    "    #Flag 0s as -1 so that we can easily keep track of equal 0s and 1s by taking sum \n",
    "    for i in range(n):\n",
    "        if nums[i] == 0:\n",
    "            nums[i] = -1\n",
    "        else:\n",
    "            nums[i] = 1\n",
    "    # Traverse through the given array\n",
    "    for i in range(n):    \n",
    "        # Add current element to sum\n",
    "        curr_sum = curr_sum + nums[i] \n",
    "        # To handle sum = 0 at last index\n",
    "        if (curr_sum == 0):\n",
    "            max_len = i + 1\n",
    "            ending_index = i \n",
    "        # If this sum is seen before,\n",
    "        if curr_sum in hmap:             \n",
    "            # If max_len is smaller than new subarray\n",
    "            # Update max_len and ending_index\n",
    "            if max_len < i - hmap[curr_sum]:\n",
    "                max_len = i - hmap[curr_sum]\n",
    "                ending_index = i\n",
    "        else: \n",
    "            # else put this sum in hash map\n",
    "            hmap[curr_sum] = i \n",
    "    return max_len"
   ]
  },
  {
   "cell_type": "code",
   "execution_count": 142,
   "id": "fcc70b1a",
   "metadata": {},
   "outputs": [
    {
     "data": {
      "text/plain": [
       "2"
      ]
     },
     "execution_count": 142,
     "metadata": {},
     "output_type": "execute_result"
    }
   ],
   "source": [
    "maxLength([0,1])"
   ]
  },
  {
   "cell_type": "code",
   "execution_count": 143,
   "id": "de56debd",
   "metadata": {},
   "outputs": [
    {
     "data": {
      "text/plain": [
       "10"
      ]
     },
     "execution_count": 143,
     "metadata": {},
     "output_type": "execute_result"
    }
   ],
   "source": [
    "maxLength([0,0,1,0,0,1,1,1,0,1,0,0])"
   ]
  },
  {
   "cell_type": "code",
   "execution_count": 144,
   "id": "ff7ba78c",
   "metadata": {},
   "outputs": [
    {
     "data": {
      "text/plain": [
       "0"
      ]
     },
     "execution_count": 144,
     "metadata": {},
     "output_type": "execute_result"
    }
   ],
   "source": [
    "maxLength([])"
   ]
  },
  {
   "cell_type": "markdown",
   "id": "3e19b895",
   "metadata": {},
   "source": [
    "**Question 5**\n",
    "\n",
    "The **product sum** of two equal-length arrays a and b is equal to the sum of a[i] * b[i] for all 0 <= i < a.length (**0-indexed**).\n",
    "\n",
    "- For example, if a = [1,2,3,4] and b = [5,2,3,1], the **product sum** would be 1*5 + 2*2 + 3*3 + 4*1 = 22.\n",
    "\n",
    "Given two arrays nums1 and nums2 of length n, return *the **minimum product sum** if you are allowed to **rearrange** the **order** of the elements in* nums1.\n",
    "\n",
    "**Example 1:**\n",
    "\n",
    "**Input:** nums1 = [5,3,4,2], nums2 = [4,2,2,5]\n",
    "\n",
    "**Output:** 40"
   ]
  },
  {
   "cell_type": "code",
   "execution_count": 128,
   "id": "d21daa0d",
   "metadata": {},
   "outputs": [],
   "source": [
    "#We will get min product if every ith smallest number of nums1 is multiplied with ith largest number of nums2 or vice-versa\n",
    "def minProduct(nums1,nums2):\n",
    "    #Sorting nums1 in ascending order\n",
    "    nums1.sort()\n",
    "    #Sorting nums2 in descending order\n",
    "    nums2.sort(reverse=True)\n",
    "    result=0\n",
    "    for i in range(len(nums1)):\n",
    "        result+=(nums1[i]*nums2[i])\n",
    "    return result"
   ]
  },
  {
   "cell_type": "code",
   "execution_count": 129,
   "id": "3076f27a",
   "metadata": {},
   "outputs": [
    {
     "data": {
      "text/plain": [
       "40"
      ]
     },
     "execution_count": 129,
     "metadata": {},
     "output_type": "execute_result"
    }
   ],
   "source": [
    "minProduct([5,3,4,2],[4,2,2,5])"
   ]
  },
  {
   "cell_type": "code",
   "execution_count": 130,
   "id": "13519e72",
   "metadata": {},
   "outputs": [
    {
     "data": {
      "text/plain": [
       "65"
      ]
     },
     "execution_count": 130,
     "metadata": {},
     "output_type": "execute_result"
    }
   ],
   "source": [
    "minProduct([2,1,4,5,7],[3,2,4,8,6])"
   ]
  },
  {
   "cell_type": "markdown",
   "id": "efa3d2a3",
   "metadata": {},
   "source": [
    "**Question 6**\n",
    "\n",
    "An integer array original is transformed into a **doubled** array changed by appending **twice the value** of every element in original, and then randomly **shuffling** the resulting array.\n",
    "\n",
    "Given an array changed, return original *if* changed *is a **doubled** array. If* changed *is not a **doubled** array, return an empty array. The elements in* original *may be returned in **any** order*.\n",
    "\n",
    "**Example 1:**\n",
    "\n",
    "**Input:** changed = [1,3,4,2,6,8]\n",
    "\n",
    "**Output:** [1,3,4]"
   ]
  },
  {
   "cell_type": "code",
   "execution_count": 9,
   "id": "3d88a9a9",
   "metadata": {},
   "outputs": [],
   "source": [
    "#Function to find next element in array whoch has not been already considered\n",
    "def next(l,arr):\n",
    "    n=len(arr)-1\n",
    "    while(l<n) & (arr[l]==-1):\n",
    "        l+=1\n",
    "    return l\n",
    "\n",
    "#Fuction to check if it is a doubled array\n",
    "def double(changed):\n",
    "    changed.sort()\n",
    "    result=[]\n",
    "    count=0\n",
    "    l=0\n",
    "    h=1\n",
    "    n=len(changed)\n",
    "    if n%2:\n",
    "        return []  \n",
    "    while (h<n):\n",
    "        if changed[l]*2==changed[h]:\n",
    "            count+=1;\n",
    "            result.append(changed[l])\n",
    "            changed[l]=-1\n",
    "            changed[h]=-1\n",
    "            l=next(l,changed)\n",
    "            h+=1\n",
    "            if(l==h):\n",
    "                h+=1\n",
    "        else:\n",
    "            h+=1\n",
    "    #If count is not half of the total number of elements then there must have been a number without its double\n",
    "    if(count!=n/2):\n",
    "        result=[]\n",
    "    return result"
   ]
  },
  {
   "cell_type": "code",
   "execution_count": 10,
   "id": "328335d9",
   "metadata": {},
   "outputs": [
    {
     "data": {
      "text/plain": [
       "[1, 3, 4]"
      ]
     },
     "execution_count": 10,
     "metadata": {},
     "output_type": "execute_result"
    }
   ],
   "source": [
    "double([1,3,4,2,6,8])"
   ]
  },
  {
   "cell_type": "code",
   "execution_count": 11,
   "id": "0a38d2a2",
   "metadata": {},
   "outputs": [
    {
     "data": {
      "text/plain": [
       "[0]"
      ]
     },
     "execution_count": 11,
     "metadata": {},
     "output_type": "execute_result"
    }
   ],
   "source": [
    "double([0,0])"
   ]
  },
  {
   "cell_type": "code",
   "execution_count": 12,
   "id": "51d07566",
   "metadata": {
    "scrolled": true
   },
   "outputs": [
    {
     "data": {
      "text/plain": [
       "[]"
      ]
     },
     "execution_count": 12,
     "metadata": {},
     "output_type": "execute_result"
    }
   ],
   "source": [
    "double([1,3,4,2,6,8,9])"
   ]
  },
  {
   "cell_type": "markdown",
   "id": "1b0cda3c",
   "metadata": {},
   "source": [
    "**Question 7**\n",
    "\n",
    "Given a positive integer n, generate an n x n matrix filled with elements from 1 to n2 in spiral order.\n",
    "\n",
    "**Example 1:**\n",
    "\n",
    "**Input:** n = 3\n",
    "\n",
    "**Output:** [[1,2,3],[8,9,4],[7,6,5]]"
   ]
  },
  {
   "cell_type": "code",
   "execution_count": 64,
   "id": "b850953f",
   "metadata": {},
   "outputs": [],
   "source": [
    "def spiral(n):\n",
    "    ans=[[0]*n for i in range(n)]\n",
    "    #Using 4-pointer approach\n",
    "    left=0\n",
    "    right=n-1\n",
    "    up=0\n",
    "    down=n-1\n",
    "    value=1\n",
    "    #Keep entering value until all cells are travelled\n",
    "    while value <= n * n:\n",
    "        #Traversing left to right\n",
    "        for col in range(left,right+1):\n",
    "            ans[up][col]=value\n",
    "            value+=1\n",
    "        up+=1\n",
    "        #Traversing up to down\n",
    "        for row in range(up,down+1):\n",
    "            ans[row][right]=value\n",
    "            value+=1\n",
    "        right-=1\n",
    "        #Traversing right to left\n",
    "        if (left<=right):\n",
    "            for col in range(right,left-1,-1):\n",
    "                ans[down][col]=value\n",
    "                value+=1\n",
    "            down-=1 \n",
    "        #Traversing down to up\n",
    "        if (up<=down):\n",
    "            for row in range(down,up-1,-1):\n",
    "                ans[row][left]=value\n",
    "                value+=1    \n",
    "            left+=1\n",
    "    return ans"
   ]
  },
  {
   "cell_type": "code",
   "execution_count": 65,
   "id": "d09f67e3",
   "metadata": {},
   "outputs": [
    {
     "data": {
      "text/plain": [
       "[[1, 2, 3], [8, 9, 4], [7, 6, 5]]"
      ]
     },
     "execution_count": 65,
     "metadata": {},
     "output_type": "execute_result"
    }
   ],
   "source": [
    "spiral(3)"
   ]
  },
  {
   "cell_type": "markdown",
   "id": "041d89f7",
   "metadata": {},
   "source": [
    "spiral(4)"
   ]
  },
  {
   "cell_type": "markdown",
   "id": "14a8a44d",
   "metadata": {},
   "source": [
    "**Question 8**\n",
    "\n",
    "Given two sparse matrices mat1 of size m x k and mat2 of size k x n, return the result of mat1 x mat2. You may assume that multiplication is always possible.\n",
    "\n",
    "**Example 1:**\n",
    "\n",
    "**Input:** mat1 = [[1,0,0],[-1,0,3]], mat2 = [[7,0,0],[0,0,0],[0,0,1]]\n",
    "\n",
    "**Output:**\n",
    "\n",
    "[[7,0,0],[-7,0,3]]"
   ]
  },
  {
   "cell_type": "code",
   "execution_count": 92,
   "id": "d93a0acb",
   "metadata": {},
   "outputs": [],
   "source": [
    "def mulArray(mat1,mat2):\n",
    "    row=len(mat1)\n",
    "    n=len(mat1[0])\n",
    "    col=len(mat2[0])\n",
    "    final=[]\n",
    "    #Multiplying mat1 of [row,n] order with mat2 of [n,col] order\n",
    "    for i in range(row):\n",
    "        res=[]\n",
    "        for j in range(col):\n",
    "            prod=0\n",
    "            for k in range(n):\n",
    "                #Calculating each element of the result\n",
    "                prod+=(mat1[i][k]*mat2[k][j])\n",
    "            #Adding row to result\n",
    "            res.append(prod)\n",
    "        #Adding columns to result\n",
    "        final.append(res)\n",
    "    return final"
   ]
  },
  {
   "cell_type": "code",
   "execution_count": 93,
   "id": "aa020ec3",
   "metadata": {},
   "outputs": [
    {
     "data": {
      "text/plain": [
       "[[7, 0, 0], [-7, 0, 3]]"
      ]
     },
     "execution_count": 93,
     "metadata": {},
     "output_type": "execute_result"
    }
   ],
   "source": [
    "mulArray(mat1 = [[1,0,0],[-1,0,3]], mat2 = [[7,0,0],[0,0,0],[0,0,1]])"
   ]
  },
  {
   "cell_type": "code",
   "execution_count": 94,
   "id": "898c89f2",
   "metadata": {},
   "outputs": [
    {
     "data": {
      "text/plain": [
       "[[140, 146], [320, 335]]"
      ]
     },
     "execution_count": 94,
     "metadata": {},
     "output_type": "execute_result"
    }
   ],
   "source": [
    "mulArray(mat1 = [[1,2,3],[4,5,6]], mat2 = [[10,11],[20,21],[30,31]])"
   ]
  },
  {
   "cell_type": "code",
   "execution_count": null,
   "id": "c2e46116",
   "metadata": {},
   "outputs": [],
   "source": []
  }
 ],
 "metadata": {
  "kernelspec": {
   "display_name": "Python 3 (ipykernel)",
   "language": "python",
   "name": "python3"
  },
  "language_info": {
   "codemirror_mode": {
    "name": "ipython",
    "version": 3
   },
   "file_extension": ".py",
   "mimetype": "text/x-python",
   "name": "python",
   "nbconvert_exporter": "python",
   "pygments_lexer": "ipython3",
   "version": "3.8.11"
  }
 },
 "nbformat": 4,
 "nbformat_minor": 5
}
