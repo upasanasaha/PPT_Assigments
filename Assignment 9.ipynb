{
 "cells": [
  {
   "cell_type": "markdown",
   "id": "2837ce15",
   "metadata": {},
   "source": [
    "**Question 1:**\n",
    "\n",
    "Given an integer `n`, return *`true` if it is a power of two. Otherwise, return `false`*.\n",
    "\n",
    "An integer `n` is a power of two, if there exists an integer `x` such that `n == 2x`.\n",
    "\n",
    "**Example 1:**\n",
    "Input: n = 1 \n",
    "\n",
    "Output: true"
   ]
  },
  {
   "cell_type": "code",
   "execution_count": 8,
   "id": "d9c77aac",
   "metadata": {},
   "outputs": [],
   "source": [
    "def power_of_two(n):\n",
    "    #Base case when the number is 1 \n",
    "    if n==1:\n",
    "        return True\n",
    "    #If n is not divisible by 2 or n=0, then the number is not a power of 2\n",
    "    elif (n%2!=0) or n==0:\n",
    "        return False\n",
    "    #If n is dividible by 2, then recursively check if n/2 is a power of 2\n",
    "    else:\n",
    "        return power_of_two(n/2)"
   ]
  },
  {
   "cell_type": "code",
   "execution_count": 9,
   "id": "ba0640ee",
   "metadata": {},
   "outputs": [
    {
     "data": {
      "text/plain": [
       "True"
      ]
     },
     "execution_count": 9,
     "metadata": {},
     "output_type": "execute_result"
    }
   ],
   "source": [
    "power_of_two(1)"
   ]
  },
  {
   "cell_type": "code",
   "execution_count": 10,
   "id": "73084131",
   "metadata": {},
   "outputs": [
    {
     "data": {
      "text/plain": [
       "True"
      ]
     },
     "execution_count": 10,
     "metadata": {},
     "output_type": "execute_result"
    }
   ],
   "source": [
    "power_of_two(256)"
   ]
  },
  {
   "cell_type": "code",
   "execution_count": 11,
   "id": "b51248e0",
   "metadata": {},
   "outputs": [
    {
     "data": {
      "text/plain": [
       "False"
      ]
     },
     "execution_count": 11,
     "metadata": {},
     "output_type": "execute_result"
    }
   ],
   "source": [
    "power_of_two(18)"
   ]
  },
  {
   "cell_type": "markdown",
   "id": "c186c596",
   "metadata": {},
   "source": [
    "**Question 2**\n",
    "\n",
    "Given a number n, find the sum of the first natural numbers.\n",
    "\n",
    "**Example 1:**\n",
    "\n",
    "Input: n = 3 \n",
    "\n",
    "Output: 6"
   ]
  },
  {
   "cell_type": "code",
   "execution_count": 23,
   "id": "9e11d987",
   "metadata": {},
   "outputs": [],
   "source": [
    "def sum_of_int(n):\n",
    "    #Base case when n=1, return 1\n",
    "    if n==1:\n",
    "        return 1\n",
    "    #If n>1, return sum of n and the sum of all the (n-1) numbers\n",
    "    else:\n",
    "        return n+ sum_of_int(n-1)"
   ]
  },
  {
   "cell_type": "code",
   "execution_count": 24,
   "id": "7c13e3b1",
   "metadata": {},
   "outputs": [
    {
     "data": {
      "text/plain": [
       "15"
      ]
     },
     "execution_count": 24,
     "metadata": {},
     "output_type": "execute_result"
    }
   ],
   "source": [
    "sum_of_int(5)"
   ]
  },
  {
   "cell_type": "code",
   "execution_count": 25,
   "id": "f5218167",
   "metadata": {
    "scrolled": true
   },
   "outputs": [
    {
     "data": {
      "text/plain": [
       "6"
      ]
     },
     "execution_count": 25,
     "metadata": {},
     "output_type": "execute_result"
    }
   ],
   "source": [
    "sum_of_int(3)"
   ]
  },
  {
   "cell_type": "markdown",
   "id": "6b2a90e2",
   "metadata": {},
   "source": [
    "**Question 3**\n",
    "\n",
    "Given a positive integer, N. Find the factorial of N. \n",
    "\n",
    "**Example 1:**\n",
    "\n",
    "Input: N = 5 \n",
    "\n",
    "Output: 120"
   ]
  },
  {
   "cell_type": "code",
   "execution_count": 26,
   "id": "8049bf25",
   "metadata": {},
   "outputs": [],
   "source": [
    "def factorial(N):\n",
    "    #Base case if n=1 or n=0, return 1\n",
    "    if (N==1) or (N==0):\n",
    "        return 1\n",
    "    #If n>1 return n*factorial(n-1)\n",
    "    else:\n",
    "        return N*(factorial(N-1))"
   ]
  },
  {
   "cell_type": "code",
   "execution_count": 27,
   "id": "2eb1c0b6",
   "metadata": {},
   "outputs": [
    {
     "data": {
      "text/plain": [
       "120"
      ]
     },
     "execution_count": 27,
     "metadata": {},
     "output_type": "execute_result"
    }
   ],
   "source": [
    "factorial(5)"
   ]
  },
  {
   "cell_type": "code",
   "execution_count": 28,
   "id": "b743c570",
   "metadata": {},
   "outputs": [
    {
     "data": {
      "text/plain": [
       "720"
      ]
     },
     "execution_count": 28,
     "metadata": {},
     "output_type": "execute_result"
    }
   ],
   "source": [
    "factorial(6)"
   ]
  },
  {
   "cell_type": "code",
   "execution_count": 29,
   "id": "786a1132",
   "metadata": {},
   "outputs": [
    {
     "data": {
      "text/plain": [
       "1"
      ]
     },
     "execution_count": 29,
     "metadata": {},
     "output_type": "execute_result"
    }
   ],
   "source": [
    "factorial(1)"
   ]
  },
  {
   "cell_type": "code",
   "execution_count": 30,
   "id": "88f8da82",
   "metadata": {},
   "outputs": [
    {
     "data": {
      "text/plain": [
       "1"
      ]
     },
     "execution_count": 30,
     "metadata": {},
     "output_type": "execute_result"
    }
   ],
   "source": [
    "factorial(0)"
   ]
  },
  {
   "cell_type": "markdown",
   "id": "9d9b02f6",
   "metadata": {},
   "source": [
    "**Question 4**\n",
    "\n",
    "Given a number N and a power P, the task is to find the exponent of this number raised to the given power, i.e. N^P.\n",
    "\n",
    "**Example 1 :** \n",
    "\n",
    "Input: N = 5, P = 2\n",
    "\n",
    "Output: 25"
   ]
  },
  {
   "cell_type": "code",
   "execution_count": 31,
   "id": "aeec42b4",
   "metadata": {},
   "outputs": [],
   "source": [
    "def power(N,P):\n",
    "    #Base case when power is 0. return 1\n",
    "    if P==0:\n",
    "        return 1\n",
    "    #If power is 1, return N as N^1=N\n",
    "    elif P==1:\n",
    "        return N\n",
    "    #Else return N*N^(P-1)\n",
    "    else:\n",
    "        return N*power(N,P-1)"
   ]
  },
  {
   "cell_type": "code",
   "execution_count": 32,
   "id": "7c4aaead",
   "metadata": {},
   "outputs": [
    {
     "data": {
      "text/plain": [
       "25"
      ]
     },
     "execution_count": 32,
     "metadata": {},
     "output_type": "execute_result"
    }
   ],
   "source": [
    "power(5,2)"
   ]
  },
  {
   "cell_type": "code",
   "execution_count": 33,
   "id": "a52a0349",
   "metadata": {},
   "outputs": [
    {
     "data": {
      "text/plain": [
       "1"
      ]
     },
     "execution_count": 33,
     "metadata": {},
     "output_type": "execute_result"
    }
   ],
   "source": [
    "power(5,0)"
   ]
  },
  {
   "cell_type": "code",
   "execution_count": 34,
   "id": "14bb3b70",
   "metadata": {},
   "outputs": [
    {
     "data": {
      "text/plain": [
       "5"
      ]
     },
     "execution_count": 34,
     "metadata": {},
     "output_type": "execute_result"
    }
   ],
   "source": [
    "power(5,1)"
   ]
  },
  {
   "cell_type": "code",
   "execution_count": 36,
   "id": "390d9ca3",
   "metadata": {},
   "outputs": [
    {
     "data": {
      "text/plain": [
       "81"
      ]
     },
     "execution_count": 36,
     "metadata": {},
     "output_type": "execute_result"
    }
   ],
   "source": [
    "power(3,4)"
   ]
  },
  {
   "cell_type": "markdown",
   "id": "3ccaa181",
   "metadata": {},
   "source": [
    "**Question 5**\n",
    "\n",
    "Given an array of integers **arr**, the task is to find maximum element of that array using recursion.\n",
    "\n",
    "**Example 1:**\n",
    "\n",
    "Input: arr = {1, 4, 3, -5, -4, 8, 6}\n",
    "\n",
    "Output: 8"
   ]
  },
  {
   "cell_type": "code",
   "execution_count": 38,
   "id": "ce0d5c07",
   "metadata": {},
   "outputs": [],
   "source": [
    "def max_element(arr):\n",
    "    #Base case: If there is one element in array, return that element\n",
    "    if len(arr)==1:\n",
    "        return arr[0]\n",
    "    #Else find the max between the element and rest of the element\n",
    "    else:\n",
    "        return max(arr[0],max_element(arr[1:]))"
   ]
  },
  {
   "cell_type": "code",
   "execution_count": 39,
   "id": "2798a4d2",
   "metadata": {},
   "outputs": [
    {
     "data": {
      "text/plain": [
       "8"
      ]
     },
     "execution_count": 39,
     "metadata": {},
     "output_type": "execute_result"
    }
   ],
   "source": [
    "max_element([1, 4, 3, -5, -4, 8, 6])"
   ]
  },
  {
   "cell_type": "code",
   "execution_count": 40,
   "id": "ca3fdc2b",
   "metadata": {},
   "outputs": [
    {
     "data": {
      "text/plain": [
       "-1"
      ]
     },
     "execution_count": 40,
     "metadata": {},
     "output_type": "execute_result"
    }
   ],
   "source": [
    "max_element([-1,- 4,- 3, -5, -4, -8, -6])"
   ]
  },
  {
   "cell_type": "code",
   "execution_count": 42,
   "id": "344e1fcd",
   "metadata": {},
   "outputs": [
    {
     "data": {
      "text/plain": [
       "4"
      ]
     },
     "execution_count": 42,
     "metadata": {},
     "output_type": "execute_result"
    }
   ],
   "source": [
    "max_element([4])"
   ]
  },
  {
   "cell_type": "markdown",
   "id": "dc6b1d77",
   "metadata": {},
   "source": [
    "**Question 6**\n",
    "\n",
    "Given first term (a), common difference (d) and a integer N of the Arithmetic Progression series, the task is to find Nth term of the series.\n",
    "\n",
    "**Example 1:**\n",
    "\n",
    "Input : a = 2 d = 1 N = 5\n",
    "\n",
    "Output : 6\n",
    "\n",
    "The 5th term of the series is : 6"
   ]
  },
  {
   "cell_type": "code",
   "execution_count": 43,
   "id": "b772bcb8",
   "metadata": {},
   "outputs": [],
   "source": [
    "def AP_term(a,d,N):\n",
    "    #Base condition: When n=1, sum is a\n",
    "    if N==1:\n",
    "        return a\n",
    "    #Else return d+ sum of (N-1) terms\n",
    "    else:\n",
    "        return d + AP_term(a,d,N-1)"
   ]
  },
  {
   "cell_type": "code",
   "execution_count": 44,
   "id": "14f83094",
   "metadata": {},
   "outputs": [
    {
     "data": {
      "text/plain": [
       "6"
      ]
     },
     "execution_count": 44,
     "metadata": {},
     "output_type": "execute_result"
    }
   ],
   "source": [
    "AP_term(2,1,5)"
   ]
  },
  {
   "cell_type": "code",
   "execution_count": 46,
   "id": "52277ab3",
   "metadata": {},
   "outputs": [
    {
     "data": {
      "text/plain": [
       "11"
      ]
     },
     "execution_count": 46,
     "metadata": {},
     "output_type": "execute_result"
    }
   ],
   "source": [
    "AP_term(1,2,6)"
   ]
  },
  {
   "cell_type": "code",
   "execution_count": 47,
   "id": "c0a3a028",
   "metadata": {},
   "outputs": [
    {
     "data": {
      "text/plain": [
       "23"
      ]
     },
     "execution_count": 47,
     "metadata": {},
     "output_type": "execute_result"
    }
   ],
   "source": [
    "AP_term(5,2,10)"
   ]
  },
  {
   "cell_type": "markdown",
   "id": "69373e20",
   "metadata": {},
   "source": [
    "**Question 7**\n",
    "\n",
    "Given a string S, the task is to write a program to print all permutations of a given string.\n",
    "\n",
    "**Example 1:**\n",
    "\n",
    "***Input:***\n",
    "\n",
    "*S = “ABC”*\n",
    "\n",
    "***Output:***\n",
    "\n",
    "*“ABC”, “ACB”, “BAC”, “BCA”, “CBA”, “CAB”*"
   ]
  },
  {
   "cell_type": "code",
   "execution_count": 110,
   "id": "d6324546",
   "metadata": {},
   "outputs": [],
   "source": [
    "#Helper code\n",
    "def permute(string,res):\n",
    "    #add , when no more elemts are there in string\n",
    "    if (len(string) == 0):\n",
    "        print(res, end=\", \")\n",
    "        return\n",
    "    #Keeping each character of string constant, find the permutation of the other characters\n",
    "    for i in range(len(string)):\n",
    "        ch = string[i]\n",
    "        left_substr = string[0:i]\n",
    "        right_substr = string[i + 1:]\n",
    "        rest = left_substr + right_substr\n",
    "        permute(rest, res + ch) \n",
    "#Function taking in only S as input        \n",
    "def permutation(S):\n",
    "    answer=''\n",
    "    res=permute(S,answer)\n",
    "    return res"
   ]
  },
  {
   "cell_type": "code",
   "execution_count": 111,
   "id": "8ed15b1a",
   "metadata": {},
   "outputs": [
    {
     "name": "stdout",
     "output_type": "stream",
     "text": [
      "ABC, ACB, BAC, BCA, CAB, CBA, "
     ]
    }
   ],
   "source": [
    "permutation('ABC')"
   ]
  },
  {
   "cell_type": "markdown",
   "id": "e7e60ff5",
   "metadata": {},
   "source": [
    "**Question 8**\n",
    "\n",
    "Given an array, find a product of all array elements.\n",
    "\n",
    "**Example 1:**\n",
    "\n",
    "Input  : arr[] = {1, 2, 3, 4, 5}\n",
    "\n",
    "Output : 120"
   ]
  },
  {
   "cell_type": "code",
   "execution_count": 48,
   "id": "c3ee0f15",
   "metadata": {},
   "outputs": [],
   "source": [
    "def array_prod(arr):\n",
    "    #Base case: When there is 1 element the element is the product\n",
    "    if len(arr)==1:\n",
    "        return arr[0]\n",
    "    #Else return n*(product of rest of the elements)\n",
    "    else:\n",
    "        return arr[0]*array_prod(arr[1:])"
   ]
  },
  {
   "cell_type": "code",
   "execution_count": 49,
   "id": "c3d6ffa1",
   "metadata": {},
   "outputs": [
    {
     "data": {
      "text/plain": [
       "120"
      ]
     },
     "execution_count": 49,
     "metadata": {},
     "output_type": "execute_result"
    }
   ],
   "source": [
    "array_prod([1, 2, 3, 4, 5])"
   ]
  },
  {
   "cell_type": "code",
   "execution_count": 50,
   "id": "b3a79586",
   "metadata": {},
   "outputs": [
    {
     "data": {
      "text/plain": [
       "-6"
      ]
     },
     "execution_count": 50,
     "metadata": {},
     "output_type": "execute_result"
    }
   ],
   "source": [
    "array_prod([1,2,3,-1])"
   ]
  },
  {
   "cell_type": "code",
   "execution_count": 51,
   "id": "6307dc0b",
   "metadata": {},
   "outputs": [
    {
     "data": {
      "text/plain": [
       "18"
      ]
     },
     "execution_count": 51,
     "metadata": {},
     "output_type": "execute_result"
    }
   ],
   "source": [
    "array_prod([1, 6, 3])"
   ]
  },
  {
   "cell_type": "code",
   "execution_count": null,
   "id": "7aec8ab0",
   "metadata": {},
   "outputs": [],
   "source": []
  }
 ],
 "metadata": {
  "kernelspec": {
   "display_name": "Python 3 (ipykernel)",
   "language": "python",
   "name": "python3"
  },
  "language_info": {
   "codemirror_mode": {
    "name": "ipython",
    "version": 3
   },
   "file_extension": ".py",
   "mimetype": "text/x-python",
   "name": "python",
   "nbconvert_exporter": "python",
   "pygments_lexer": "ipython3",
   "version": "3.8.11"
  }
 },
 "nbformat": 4,
 "nbformat_minor": 5
}
