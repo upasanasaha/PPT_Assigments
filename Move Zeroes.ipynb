{
 "cells": [
  {
   "cell_type": "markdown",
   "id": "519a4835",
   "metadata": {},
   "source": [
    "Given an integer array nums, move all 0's to the end of it while maintaining the relative order of the non-zero elements."
   ]
  },
  {
   "cell_type": "code",
   "execution_count": 2,
   "id": "b210e8da",
   "metadata": {},
   "outputs": [],
   "source": [
    "def moveZeroes(nums):\n",
    "    count=0\n",
    "    n=len(nums)\n",
    "    for i in range(n):\n",
    "        if nums[i]!=0:\n",
    "            nums[count]=nums[i]\n",
    "            count+=1\n",
    "    while count<n:\n",
    "        nums[count]=0\n",
    "        count+=1\n",
    "    return nums      "
   ]
  },
  {
   "cell_type": "code",
   "execution_count": 3,
   "id": "efd4ce71",
   "metadata": {},
   "outputs": [
    {
     "data": {
      "text/plain": [
       "[1, 3, 12, 0, 0]"
      ]
     },
     "execution_count": 3,
     "metadata": {},
     "output_type": "execute_result"
    }
   ],
   "source": [
    "moveZeroes([0,1,0,3,12])"
   ]
  },
  {
   "cell_type": "code",
   "execution_count": 4,
   "id": "336bd257",
   "metadata": {},
   "outputs": [
    {
     "data": {
      "text/plain": [
       "[0]"
      ]
     },
     "execution_count": 4,
     "metadata": {},
     "output_type": "execute_result"
    }
   ],
   "source": [
    "moveZeroes([0])"
   ]
  },
  {
   "cell_type": "code",
   "execution_count": null,
   "id": "0e5bf04d",
   "metadata": {},
   "outputs": [],
   "source": []
  }
 ],
 "metadata": {
  "kernelspec": {
   "display_name": "Python 3 (ipykernel)",
   "language": "python",
   "name": "python3"
  },
  "language_info": {
   "codemirror_mode": {
    "name": "ipython",
    "version": 3
   },
   "file_extension": ".py",
   "mimetype": "text/x-python",
   "name": "python",
   "nbconvert_exporter": "python",
   "pygments_lexer": "ipython3",
   "version": "3.8.11"
  }
 },
 "nbformat": 4,
 "nbformat_minor": 5
}
