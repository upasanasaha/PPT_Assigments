{
 "cells": [
  {
   "cell_type": "markdown",
   "id": "c33eb864",
   "metadata": {},
   "source": [
    "**Question 7** -\n",
    "Using the data from Question 4, write code to analyze the data and answer the following questions Note -\n",
    "\n",
    "1. Draw plots to demonstrate the analysis for the following questions for better visualizations\n",
    "\n",
    "2. Write code comments wherever required for code understanding\n",
    "\n",
    "**Insights to be drawn** -\n",
    "\n",
    "● Get all the Earth meteorites that fell before the year 2000\n",
    "\n",
    "● Get all the earth meteorites co-ordinates who fell before the year 1970\n",
    "\n",
    "● Assuming that the mass of the earth meteorites was in kg, get all those whose mass was more\n",
    "than 10000kg"
   ]
  },
  {
   "cell_type": "code",
   "execution_count": 20,
   "id": "f942cc3f",
   "metadata": {},
   "outputs": [],
   "source": [
    "import pandas as pd\n",
    "import numpy as np\n",
    "import matplotlib.pyplot as plt\n",
    "import seaborn as sns"
   ]
  },
  {
   "cell_type": "code",
   "execution_count": 18,
   "id": "256e20dc",
   "metadata": {},
   "outputs": [],
   "source": [
    "#Loading the json data\n",
    "nasa_df=pd.read_json('https://data.nasa.gov/resource/y77d-th95.json')"
   ]
  },
  {
   "cell_type": "code",
   "execution_count": 2,
   "id": "c7964213",
   "metadata": {},
   "outputs": [],
   "source": [
    "#Dropping columns that aren't required in output as per question\n",
    "nasa_df.drop([':@computed_region_cbhk_fwbd',':@computed_region_nnqa_25f4'],axis=1,inplace=True)"
   ]
  },
  {
   "cell_type": "code",
   "execution_count": 4,
   "id": "57563091",
   "metadata": {},
   "outputs": [],
   "source": [
    "#Replacing nulls with dictionary\n",
    "nasa_df['geolocation'].replace(np.nan,None,inplace=True)\n",
    "nasa_df['geolocation'].fillna({'type':'Point','coordinates':[]},inplace=True)"
   ]
  },
  {
   "cell_type": "code",
   "execution_count": 5,
   "id": "91ed41e2",
   "metadata": {},
   "outputs": [],
   "source": [
    "# Extracting coordinate value from geolocation column \n",
    "nasa_df['coordinates']=nasa_df['geolocation'].apply(lambda x: x['coordinates'])\n",
    "nasa_df.drop(['geolocation'],axis=1,inplace=True)"
   ]
  },
  {
   "cell_type": "code",
   "execution_count": 6,
   "id": "3e9b1932",
   "metadata": {},
   "outputs": [],
   "source": [
    "#Changing year format to proper datetime format\n",
    "nasa_df['year']=pd.to_datetime(nasa_df['year'],errors='coerce')"
   ]
  },
  {
   "cell_type": "code",
   "execution_count": 7,
   "id": "f68a1534",
   "metadata": {},
   "outputs": [
    {
     "data": {
      "text/html": [
       "<div>\n",
       "<style scoped>\n",
       "    .dataframe tbody tr th:only-of-type {\n",
       "        vertical-align: middle;\n",
       "    }\n",
       "\n",
       "    .dataframe tbody tr th {\n",
       "        vertical-align: top;\n",
       "    }\n",
       "\n",
       "    .dataframe thead th {\n",
       "        text-align: right;\n",
       "    }\n",
       "</style>\n",
       "<table border=\"1\" class=\"dataframe\">\n",
       "  <thead>\n",
       "    <tr style=\"text-align: right;\">\n",
       "      <th></th>\n",
       "      <th>name</th>\n",
       "      <th>id</th>\n",
       "      <th>nametype</th>\n",
       "      <th>recclass</th>\n",
       "      <th>mass</th>\n",
       "      <th>fall</th>\n",
       "      <th>year</th>\n",
       "      <th>reclat</th>\n",
       "      <th>reclong</th>\n",
       "      <th>coordinates</th>\n",
       "    </tr>\n",
       "  </thead>\n",
       "  <tbody>\n",
       "    <tr>\n",
       "      <th>0</th>\n",
       "      <td>Aachen</td>\n",
       "      <td>1</td>\n",
       "      <td>Valid</td>\n",
       "      <td>L5</td>\n",
       "      <td>21.0</td>\n",
       "      <td>Fell</td>\n",
       "      <td>1880-01-01</td>\n",
       "      <td>50.77500</td>\n",
       "      <td>6.08333</td>\n",
       "      <td>[6.08333, 50.775]</td>\n",
       "    </tr>\n",
       "    <tr>\n",
       "      <th>1</th>\n",
       "      <td>Aarhus</td>\n",
       "      <td>2</td>\n",
       "      <td>Valid</td>\n",
       "      <td>H6</td>\n",
       "      <td>720.0</td>\n",
       "      <td>Fell</td>\n",
       "      <td>1951-01-01</td>\n",
       "      <td>56.18333</td>\n",
       "      <td>10.23333</td>\n",
       "      <td>[10.23333, 56.18333]</td>\n",
       "    </tr>\n",
       "    <tr>\n",
       "      <th>2</th>\n",
       "      <td>Abee</td>\n",
       "      <td>6</td>\n",
       "      <td>Valid</td>\n",
       "      <td>EH4</td>\n",
       "      <td>107000.0</td>\n",
       "      <td>Fell</td>\n",
       "      <td>1952-01-01</td>\n",
       "      <td>54.21667</td>\n",
       "      <td>-113.00000</td>\n",
       "      <td>[-113, 54.21667]</td>\n",
       "    </tr>\n",
       "    <tr>\n",
       "      <th>3</th>\n",
       "      <td>Acapulco</td>\n",
       "      <td>10</td>\n",
       "      <td>Valid</td>\n",
       "      <td>Acapulcoite</td>\n",
       "      <td>1914.0</td>\n",
       "      <td>Fell</td>\n",
       "      <td>1976-01-01</td>\n",
       "      <td>16.88333</td>\n",
       "      <td>-99.90000</td>\n",
       "      <td>[-99.9, 16.88333]</td>\n",
       "    </tr>\n",
       "    <tr>\n",
       "      <th>4</th>\n",
       "      <td>Achiras</td>\n",
       "      <td>370</td>\n",
       "      <td>Valid</td>\n",
       "      <td>L6</td>\n",
       "      <td>780.0</td>\n",
       "      <td>Fell</td>\n",
       "      <td>1902-01-01</td>\n",
       "      <td>-33.16667</td>\n",
       "      <td>-64.95000</td>\n",
       "      <td>[-64.95, -33.16667]</td>\n",
       "    </tr>\n",
       "  </tbody>\n",
       "</table>\n",
       "</div>"
      ],
      "text/plain": [
       "       name   id nametype     recclass      mass  fall       year    reclat  \\\n",
       "0    Aachen    1    Valid           L5      21.0  Fell 1880-01-01  50.77500   \n",
       "1    Aarhus    2    Valid           H6     720.0  Fell 1951-01-01  56.18333   \n",
       "2      Abee    6    Valid          EH4  107000.0  Fell 1952-01-01  54.21667   \n",
       "3  Acapulco   10    Valid  Acapulcoite    1914.0  Fell 1976-01-01  16.88333   \n",
       "4   Achiras  370    Valid           L6     780.0  Fell 1902-01-01 -33.16667   \n",
       "\n",
       "     reclong           coordinates  \n",
       "0    6.08333     [6.08333, 50.775]  \n",
       "1   10.23333  [10.23333, 56.18333]  \n",
       "2 -113.00000      [-113, 54.21667]  \n",
       "3  -99.90000     [-99.9, 16.88333]  \n",
       "4  -64.95000   [-64.95, -33.16667]  "
      ]
     },
     "execution_count": 7,
     "metadata": {},
     "output_type": "execute_result"
    }
   ],
   "source": [
    "nasa_df.head()"
   ]
  },
  {
   "cell_type": "markdown",
   "id": "40b98620",
   "metadata": {},
   "source": [
    " **Get all the Earth meteorites that fell before the year 2000**"
   ]
  },
  {
   "cell_type": "code",
   "execution_count": 8,
   "id": "51c28317",
   "metadata": {},
   "outputs": [],
   "source": [
    "nasa_df['year_YYYY']=nasa_df['year'].dt.year"
   ]
  },
  {
   "cell_type": "code",
   "execution_count": 9,
   "id": "6b7a44b7",
   "metadata": {},
   "outputs": [
    {
     "data": {
      "text/plain": [
       "Fell     996\n",
       "Found      4\n",
       "Name: fall, dtype: int64"
      ]
     },
     "execution_count": 9,
     "metadata": {},
     "output_type": "execute_result"
    }
   ],
   "source": [
    "nasa_df.fall.value_counts()"
   ]
  },
  {
   "cell_type": "code",
   "execution_count": 10,
   "id": "43787030",
   "metadata": {},
   "outputs": [
    {
     "data": {
      "text/plain": [
       "array(['Aachen', 'Aarhus', 'Abee', 'Acapulco', 'Achiras', 'Adhi Kot',\n",
       "       'Adzhi-Bogdo (stone)', 'Agen', 'Aguada', 'Aguila Blanca',\n",
       "       'Aioun el Atrouss', 'Aïr', 'Aire-sur-la-Lys', 'Akaba', 'Akbarpur',\n",
       "       'Akwanga', 'Akyumak', 'Al Rais', 'Alais', 'Albareto', 'Alberta',\n",
       "       'Aldsworth', 'Aleppo', 'Alessandria', 'Alexandrovsky',\n",
       "       'Alfianello', 'Allegan', 'Allende', \"Alta'ameem\", 'Ambapur Nagla',\n",
       "       'Andhara', 'Andover', 'Andreevka', 'Andura', 'Angers',\n",
       "       'Angra dos Reis (stone)', 'Ankober', 'Anlong', 'Aomori',\n",
       "       'Appley Bridge', 'Apt', 'Arbol Solo', 'Archie', 'Arroyo Aguiar',\n",
       "       'Asco', 'Ashdon', 'Assisi', 'Atarra', 'Atemajac', 'Athens',\n",
       "       'Atoka', 'Aubres', 'Aumale', 'Aumieres', 'Ausson', 'Avanhandava',\n",
       "       'Avce', 'Avilez', 'Awere', 'Aztec', 'Bachmut', 'Bahjoi',\n",
       "       'Bald Mountain', 'Baldwyn', 'Bali', 'Ban Rong Du', 'Bandong',\n",
       "       'Bansur', 'Banswal', 'Banten', 'Barbotan', 'Barcelona (stone)',\n",
       "       'Barea', 'Barnaul', 'Barntrup', 'Baroti', 'Barwell', 'Baszkówka',\n",
       "       'Bath', 'Bath Furnace', 'Bawku', 'Baxter', 'Beardsley',\n",
       "       'Beaver Creek', 'Beddgelert', 'Bells', 'Belville', 'Benares (a)',\n",
       "       'Benld', 'Benoni', 'Benton', 'Béréba', 'Berlanguillas',\n",
       "       'Bethlehem', 'Beuste', 'Beyrout', 'Bhagur', 'Bherai', 'Bhola',\n",
       "       'Bholghati', 'Bialystok', 'Bielokrynitschie', 'Bilanga',\n",
       "       'Binningup', \"Birni N'konni\", 'Bishopville', 'Bishunpur',\n",
       "       'Bjelaja Zerkov', 'Bjurböle', 'Black Moshannan Park', 'Blackwell',\n",
       "       'Blanket', 'Blansko', 'Bloomington', 'Bo Xian', 'Bocas', 'Bogou',\n",
       "       'Boguslavka', 'Borgo San Donino', 'Bori', 'Boriskino', 'Borkut',\n",
       "       'Borodino', 'Botschetschki', 'Bovedy', 'Bradford Woods', 'Braunau',\n",
       "       'Breitscheid', 'Bremervörde', 'Brient', 'Bruderheim', 'Bulls Run',\n",
       "       'Bununu', 'Bur-Gheluai', 'Burnwell', 'Bursa', 'Buschhof', 'Bustee',\n",
       "       'Butsura', 'Cabezo de Mayo', 'Cabin Creek', 'Cacak', 'Calivo',\n",
       "       'Campos Sales', 'Çanakkale', 'Cañellas', 'Cangas de Onis',\n",
       "       'Canon City', 'Cape Girardeau', 'Capilla del Monte', 'Caratash',\n",
       "       'Castalia', 'Castel Berardenga', 'Castine', 'Caswell County',\n",
       "       'Ceniceros', 'Centerville', 'Cereseto', 'Chadong', 'Chail',\n",
       "       'Chainpur', 'Chajari', 'Chandakapur', 'Chandpur', 'Changde',\n",
       "       'Chantonnay', 'Charlotte', 'Charsonville', 'Charwallas',\n",
       "       'Chassigny', 'Château-Renard', 'Chaves', 'Chela', 'Chernyi Bor',\n",
       "       'Cherokee Springs', 'Chervettaz', 'Chervony Kut', 'Chetrinahatti',\n",
       "       'Chiang Khan', 'Chicora', 'Chisenga', 'Chitado', 'Chitenay',\n",
       "       'Cilimus', 'Claxton', 'Clohars', 'Colby (Wisconsin)',\n",
       "       'Cold Bokkeveld', 'Coleman', 'Collescipoli', 'Conquista', 'Cosina',\n",
       "       'Cranganore', 'Crescent', 'Cronstad', 'Cross Roads', 'Crumlin',\n",
       "       'Cumberland Falls', 'Cynthiana', 'Dahmani', 'Dandapur',\n",
       "       \"Daniel's Kuil\", 'Danville', 'Darmstadt', 'Dashoguz',\n",
       "       'De Cewsville', 'Deal', 'Delhi', 'Demina', 'Denver', 'Desuri',\n",
       "       'Devri-Khera', 'Dhajala', 'Dharwar', 'Dhurmsala', 'Diep River',\n",
       "       'Distrito Quebracho', 'Djati-Pengilon', 'Djermaia', 'Djoumine',\n",
       "       'Dokachi', 'Dolgovoli', 'Domanitch', 'Dong Ujimqin Qi',\n",
       "       'Donga Kohrod', 'Dongtai', 'Doroninsk', 'Dosso', 'Douar Mghila',\n",
       "       'Dowa', 'Drake Creek', 'Dresden (Ontario)', 'Dubrovnik',\n",
       "       'Dunbogan', 'Dundrum', 'Dunhua', 'Durala', 'Duruma', 'Duwun',\n",
       "       'Dwaleni', 'Dyalpur', 'Dyarrl Island', 'Eagle', 'Ehole',\n",
       "       'Eichstädt', 'Ekeby', 'Ekh Khera', 'El Idrissia',\n",
       "       'El Paso de Aguila', 'El Tigre', 'Elbert', 'Elenovka', 'Ellemeet',\n",
       "       'Emmaville', 'Enshi', 'Épinal', 'Erakot', 'Erevan', 'Ergheo',\n",
       "       'Erxleben', 'Esnandes', 'Essebi', 'Estherville', 'Farmington',\n",
       "       'Farmville', 'Favars', 'Fayetteville', 'Feid Chair', 'Felix',\n",
       "       'Fenghsien-Ku', 'Ferguson', 'Fermo', 'Fisher', 'Florence',\n",
       "       'Forest City', 'Forest Vale', 'Forksville', 'Forsbach', 'Forsyth',\n",
       "       'Fort Flatters', 'Frankfort (stone)', 'Fuhe', 'Fukutomi',\n",
       "       'Futtehpur', 'Fuyang', 'Galapian', 'Galim (a)', 'Galim (b)',\n",
       "       'Galkiv', 'Gambat', 'Gao-Guenie', 'Garhi Yasin', 'Garland',\n",
       "       'Gashua', 'Geidam', 'Gifu', 'Girgenti', 'Git-Git', 'Glanerbrug',\n",
       "       'Glanggang', 'Glasatovo', 'Glatton', 'Gnadenfrei', 'Gopalpur',\n",
       "       'Gorlovka', 'Granes', 'Grefsheim', 'Grosnaja', 'Gross-Divina',\n",
       "       'Grossliebenthal', 'Grüneberg', 'Grzempach', 'Gualeguaychú',\n",
       "       'Guangmingshan', 'Guangnan', 'Guangrao', 'Guareña', 'Guêa',\n",
       "       'Guibga', 'Guidder', 'Gujargaon', 'Gujba', 'Gumoschnik',\n",
       "       'Gurram Konda', 'Gursum', 'Gütersloh', 'Gyokukei', 'Hachi-oji',\n",
       "       'Hainaut', 'Hallingeberg', 'Hamlet', 'Haraiya', 'Haripura',\n",
       "       'Harleton', 'Harrison County', 'Hashima', 'Hassi-Jekna', 'Haverö',\n",
       "       'Hedeskoga', 'Hedjaz', 'Heredia', 'Hessle', 'Higashi-koen',\n",
       "       'High Possil', 'Hökmark', 'Holbrook', 'Holetta', 'Homestead',\n",
       "       'Honolulu', 'Hotse', 'Hoxie', 'Hraschina', 'Hungen', 'Hvittis',\n",
       "       'Ibbenbüren', 'Ibitira', 'Ibrisim', 'Ichkala', 'Idutywa',\n",
       "       'Iguaracu', 'Ijopega', 'Indarch', 'Independence', 'Inner Mongolia',\n",
       "       'Innisfree', 'Ipiranga', 'Ishinga', 'Isthilart', 'Itapicuru-Mirim',\n",
       "       'Itqiy', 'Ivuna', 'Jackalsfontein', 'Jajh deh Kot Lalu',\n",
       "       'Jalanash', 'Jamkheir', 'Jartai', 'Jelica', 'Jemlapur', 'Jhung',\n",
       "       'Jiange', 'Jianshi', 'Jilin', 'Jodzie', 'Johnstown', 'Jolomba',\n",
       "       'Jonzac', 'Juancheng', 'Judesegeri', 'Jumapalo', 'Junan',\n",
       "       'Juromenha', 'Juvinas', 'Kaba', 'Kabo', 'Kadonah', 'Kaee',\n",
       "       'Kagarlyk', 'Kaidun', 'Kainsaz', 'Kakangari', 'Kakowa', 'Kalaba',\n",
       "       'Kalumbi', 'Kamalpur', 'Kamiomi', 'Kamsagar',\n",
       "       'Kandahar (Afghanistan)', 'Kangean', 'Kangra Valley', 'Kapoeta',\n",
       "       'Kaptal-Aryk', 'Karakol', 'Karatu', 'Karewar', 'Karkh',\n",
       "       'Karloowala', 'Karoonda', 'Kasamatsu', 'Katagum', 'Kayakent',\n",
       "       'Kediri', 'Kendleton', 'Kerilis', 'Kernouve', 'Kesen', 'Khairpur',\n",
       "       'Khanpur', 'Kharkov', 'Kheragur', 'Khetri', 'Khmelevka', 'Khohar',\n",
       "       'Khor Temiki', 'Kidairat', 'Kiel', 'Kiffa', 'Kijima (1906)',\n",
       "       'Kikino', 'Kilbourn', 'Killeter', 'Kingai', 'Kirbyville',\n",
       "       'Kisvarsány', 'Kitchener', 'Klein-Wenden', 'Knyahinya', 'Kobe',\n",
       "       'Kokubunji', 'Komagome', 'Konovo', 'Krähenberg', 'Krasnoi-Ugol',\n",
       "       'Krasnyi Klyuch', 'Krutikha', 'Krymka', 'Kukschin', 'Kulak',\n",
       "       'Kuleschovka', 'Kulp', 'Kunashak', 'Kunya-Urgench', 'Kushiike',\n",
       "       'Kusiali', 'Kutais', 'Kuttippuram', 'Kuznetzovo', 'Kyushu',\n",
       "       'La Bécasse', 'La Charca', 'La Colina', 'La Criolla', 'Laborel',\n",
       "       'Lahrauli', \"L'Aigle\", 'Lakangaon', 'Lalitpur', 'Lancé', 'Lancon',\n",
       "       'Långhalsen', 'Lanxi', 'Lanzenkirchen', 'Laochenzhen', 'Launton',\n",
       "       'Lavrentievka', 'Le Pressoir', 'Le Teilleul', 'Leedey',\n",
       "       'Leeuwfontein', 'Leighlinbridge', 'Leighton', 'Leonovka',\n",
       "       'Les Ormes', 'Lesves', 'Lichtenberg', 'Lillaverke', 'Limerick',\n",
       "       'Linum', 'Lishui', 'Lissa', 'Little Piney', 'Lixna', 'Lodran',\n",
       "       'Lohawat', 'Los Martinez', 'Lost City', 'Louisville', 'Łowicz',\n",
       "       'Lua', 'Lucé', 'Lumpkin', 'Lunan', 'Lundsgård', 'Luotolax',\n",
       "       'Luponnas', 'Lusaka', 'Mabwe-Khoywa', 'Macau', 'Machinga',\n",
       "       'Macibini', 'Madhipura', 'Madiun', 'Madrid', 'Mafra', 'Magnesia',\n",
       "       'Magombedze', 'Malaga', 'Malakal', 'Malampaka', 'Malotas',\n",
       "       'Malvern', 'Mamra Springs', 'Manbhoom', 'Manegaon', 'Mangwendi',\n",
       "       'Manych', 'Mardan', 'Maria Linden', 'Mariaville', 'Maridi',\n",
       "       'Marilia', 'Marion (Iowa)', 'Marjalahti', 'Marmande', 'Maryville',\n",
       "       'Mascombes', 'Mässing', 'Mauerkirchen', 'Mauritius', 'Mayo Belwa',\n",
       "       'Mazapil', 'Maziba', 'Mbale', 'Medanitos', 'Meerut',\n",
       "       'Meester-Cornelis', 'Menow', 'Menziswyl', 'Mern', 'Meru', 'Merua',\n",
       "       'Messina', 'Meuselbach', 'Mezel', 'Mezö-Madaras', 'Mhow',\n",
       "       'Mianchi', 'Middlesbrough', 'Mighei', 'Mihonoseki', 'Mike',\n",
       "       'Milena', 'Millbillillie', 'Miller (Arkansas)', 'Mineo',\n",
       "       'Min-Fan-Zhun', 'Minnichhof', 'Mirzapur', 'Misshof', 'Mjelleim',\n",
       "       'Mocs', 'Modoc (1905)', 'Mokoia', 'Molina', 'Molteno',\n",
       "       'Monahans (1998)', 'Monroe', 'Monte das Fortes', 'Monte Milone',\n",
       "       'Montferré', 'Montlivault', 'Monze', 'Moore County', 'Mooresfort',\n",
       "       'Moorleah', 'Moradabad', 'Mornans', 'Moti-ka-nagla',\n",
       "       'Motta di Conti', 'Mount Browne', 'Mount Tazerzait', 'Mtola',\n",
       "       'Muddoor', 'Mulletiwu', 'Muraid', 'Murchison', 'Murray',\n",
       "       'Muzaffarpur', 'Myhee Caunta', 'Nadiabondi', 'Nagai', 'Nagaria',\n",
       "       'Nagy-Borové', 'Nakhla', 'Nakhon Pathom', 'Nammianthal',\n",
       "       'Nan Yang Pao', 'Nanjemoy', 'Nantong', 'Naoki', 'Naragh',\n",
       "       'Narellan', 'Nassirah', 'Natal', 'Nawapali', 'Neagari',\n",
       "       'Nedagolla', 'Nejo', 'Nerft', 'New Concord', 'New Halfa', 'Ngawi',\n",
       "       \"N'Goureyma\", 'Nicorps', 'Niger (L6)', 'Niger (LL6)', 'Nikolaevka',\n",
       "       'Nikolskoe', 'Ningbo', 'Ningqiang', 'Nio', \"N'Kandhla\",\n",
       "       'Nobleborough', 'Noblesville', 'Nogoya', 'Norfork',\n",
       "       'Norton County', 'Noventa Vicentina', 'Novo-Urei', 'Novy-Projekt',\n",
       "       'Noyan-Bogdo', 'Nuevo Mercurio', 'Nulles', 'Numakai', 'Nyaung',\n",
       "       'Nyirábrany', 'Ochansk', 'Oesede', 'Oesel', 'Ofehértó', 'Ogi',\n",
       "       'Ohaba', 'Ohuma', 'Ojuelos Altos', 'Okabe', 'Okano', 'Okniny',\n",
       "       'Oldenburg (1930)', 'Olivenza', 'Olmedilla de Alarcón', 'Omolon',\n",
       "       'Orgueil', 'Ornans', 'Orvinio', 'Oterøy', 'Otomi', 'Ottawa',\n",
       "       'Oued el Hadjar', 'Ourique', 'Ovambo', 'Oviedo', 'Owrucz',\n",
       "       'Pacula', 'Padvarninkai', 'Paitan', 'Palahatchie',\n",
       "       'Palca de Aparzo', 'Palinshih', 'Palmyra', 'Palolo Valley',\n",
       "       'Pampanga', 'Pantar', 'Paragould', 'Parambu', 'Paranaiba',\n",
       "       'Parnallee', 'Parsa', 'Pasamonte', 'Patora', 'Patrimonio', 'Patti',\n",
       "       'Patwar', 'Pavel', 'Pavlodar (stone)', 'Pavlograd', 'Pavlovka',\n",
       "       'Pê', 'Peace River', 'Peckelsheim', 'Peekskill',\n",
       "       'Peña Blanca Spring', 'Peramiho', 'Perpeti', 'Perth',\n",
       "       'Pervomaisky', 'Pesyanoe', 'Pétèlkolé', 'Petersburg', 'Pettiswood',\n",
       "       'Phillips County (stone)', 'Phu Hong', 'Phum Sambo', 'Phuoc-Binh',\n",
       "       'Piancaldoli', 'Picote', 'Pillistfer', 'Piplia Kalan',\n",
       "       'Piquetberg', 'Pirgunje', 'Pirthalla', 'Pitts', 'Plantersville',\n",
       "       'Ploschkovitz', 'Pnompehn', 'Pohlitz', 'Pokhra', 'Pollen',\n",
       "       'Pontlyfni', 'Portales Valley', 'Portugal', 'Po-wang Chen',\n",
       "       'Prambachkirchen', 'Pribram', 'Pricetown', 'Pulsora', 'Pultusk',\n",
       "       'Punganaru', 'Putinga', 'Qidong', 'Qingzhen', \"Queen's Mercy\",\n",
       "       'Quenggouk', 'Quesa', 'Quija', 'Quincay', 'Raco', 'Raghunathpura',\n",
       "       'Rahimyar Khan', 'Rakovka', 'Ramnagar', 'Rampurhat', 'Ramsdorf',\n",
       "       'Ranchapur', 'Rancho de la Presa', 'Rangala', 'Raoyang',\n",
       "       'Ras Tanura', 'Rasgrad', 'Ratyn', 'Reliegos', 'Rembang', 'Renazzo',\n",
       "       'Renca', 'Renqiu', 'Repeev Khutor', 'Revelstoke', 'Rewari',\n",
       "       'Rich Mountain', 'Uzcudun', 'Richardton', 'Richland Springs',\n",
       "       'Richmond', 'Rio Negro', 'Rochester', 'Rockhampton', 'Roda',\n",
       "       'Rodach', 'Rose City', 'Rowton', 'Ruhobobo', 'Rumuruti', 'Rupota',\n",
       "       'Ryechki', 'Sabetmahet', 'Sabrum', 'Saint-Sauveur',\n",
       "       'Saint-Séverin', 'Sakauchi', 'Salem', 'Salles', 'Salzwedel',\n",
       "       'Samelia', 'San Juan Capistrano', 'San Pedro de Quiles',\n",
       "       'San Pedro Jacuaro', 'Santa Barbara', 'Santa Cruz', 'Santa Isabel',\n",
       "       'São Jose do Rio Preto', 'Saratov', 'Sasagase', 'Sauguis',\n",
       "       'Savtschenskoje', 'Sayama', 'Sazovice', 'Schellin', 'Schenectady',\n",
       "       'Schönenberg', 'Searsmont', 'Sediköy', 'Segowlie', 'Selakopi',\n",
       "       'Seldebourak', 'Semarkona', 'Sena', 'Senboku', 'Seoni', 'Seres',\n",
       "       'Serra de Magé', 'Sete Lagoas', 'Sevilla', 'Sevrukovo', 'Sfax',\n",
       "       'Shalka', 'Sharps', 'Shelburne', 'Shergotty', 'Sheyang',\n",
       "       'Shikarpur', 'Shuangyang', 'Shupiyan', 'Shytal', 'Siena',\n",
       "       'Sikhote-Alin', 'Silao', 'Silistra', 'Simmern', 'Sinai', 'Sindhri',\n",
       "       'Sinnai', 'Sioux County', 'Sitathali', 'Sivas', 'Sixiangkou',\n",
       "       'Ski', 'Slavetic', 'Slobodka', 'Soheria', 'Soko-Banja', 'Sologne',\n",
       "       'Sone', 'Songyuan', 'Sopot', 'Soroti', 'St. Caprais-de-Quinsac',\n",
       "       'St. Christophe-la-Chartreuse', 'St. Denis Westrem',\n",
       "       'St. Germain-du-Pinel', 'St. Louis', \"St. Mark's\",\n",
       "       \"St. Mary's County\", 'St. Mesmin', 'St. Michel', 'St.-Chinian',\n",
       "       'Ställdalen', 'Stannern', 'Stavropol', 'Ste. Marguerite',\n",
       "       'Sterlitamak', 'Stratford', 'Strathmore', 'St-Robert', 'Success',\n",
       "       'Suchy Dul', 'Suizhou', 'Sultanpur', 'Sungach', 'Supuhee',\n",
       "       'Sylacauga', 'Tabor', 'Tadjera', 'Tahara', 'Takenouchi',\n",
       "       'Talampaya', 'Tambakwatu', 'Tané', 'Taonan', 'Tatahouine',\n",
       "       'Tathlith', 'Tauk', 'Tauti', 'Tenham', 'Tennasilm', 'Thal',\n",
       "       'Tianzhang', 'Tieschitz', 'Tilden', 'Tillaberi', 'Timochin',\n",
       "       'Tirupati', 'Tjabe', 'Tjerebon', 'Tomakovka'], dtype=object)"
      ]
     },
     "execution_count": 10,
     "metadata": {},
     "output_type": "execute_result"
    }
   ],
   "source": [
    "nasa_df[(nasa_df.year_YYYY<2000)&(nasa_df.fall=='Fell')].name.unique()"
   ]
  },
  {
   "cell_type": "code",
   "execution_count": 11,
   "id": "76890696",
   "metadata": {},
   "outputs": [
    {
     "data": {
      "text/plain": [
       "912"
      ]
     },
     "execution_count": 11,
     "metadata": {},
     "output_type": "execute_result"
    }
   ],
   "source": [
    "nasa_df[(nasa_df.year_YYYY<2000)&(nasa_df.fall=='Fell')].name.nunique()          #912 Earth meteors fell before 2000"
   ]
  },
  {
   "cell_type": "code",
   "execution_count": 12,
   "id": "fceef664",
   "metadata": {
    "scrolled": true
   },
   "outputs": [
    {
     "name": "stdout",
     "output_type": "stream",
     "text": [
      "1688.0\n",
      "2013.0\n"
     ]
    }
   ],
   "source": [
    "print(nasa_df['year_YYYY'].min())\n",
    "print(nasa_df['year_YYYY'].max())"
   ]
  },
  {
   "cell_type": "code",
   "execution_count": 766,
   "id": "276a7e70",
   "metadata": {
    "scrolled": true
   },
   "outputs": [
    {
     "data": {
      "text/plain": [
       "Text(0.5, 1.0, 'Count of earth meteors that fell in different years bins')"
      ]
     },
     "execution_count": 766,
     "metadata": {},
     "output_type": "execute_result"
    },
    {
     "data": {
      "image/png": "[encoded data removed]",
      "text/plain": [
       "<Figure size 864x576 with 1 Axes>"
      ]
     },
     "metadata": {
      "needs_background": "light"
     },
     "output_type": "display_data"
    }
   ],
   "source": [
    "bins=range(1500,2015,50)\n",
    "plt.figure(figsize=(12,8))\n",
    "sns.histplot(data=nasa_df, x=\"year_YYYY\",bins=bins)\n",
    "plt.title('Count of earth meteors that fell in different years bins')"
   ]
  },
  {
   "cell_type": "markdown",
   "id": "08644a3f",
   "metadata": {},
   "source": [
    "**Get all the earth meteorites co-ordinates who fell before the year 1970**"
   ]
  },
  {
   "cell_type": "code",
   "execution_count": 22,
   "id": "b6830401",
   "metadata": {
    "scrolled": true
   },
   "outputs": [
    {
     "data": {
      "text/html": [
       "<div>\n",
       "<style scoped>\n",
       "    .dataframe tbody tr th:only-of-type {\n",
       "        vertical-align: middle;\n",
       "    }\n",
       "\n",
       "    .dataframe tbody tr th {\n",
       "        vertical-align: top;\n",
       "    }\n",
       "\n",
       "    .dataframe thead th {\n",
       "        text-align: right;\n",
       "    }\n",
       "</style>\n",
       "<table border=\"1\" class=\"dataframe\">\n",
       "  <thead>\n",
       "    <tr style=\"text-align: right;\">\n",
       "      <th></th>\n",
       "      <th>name</th>\n",
       "      <th>id</th>\n",
       "      <th>nametype</th>\n",
       "      <th>recclass</th>\n",
       "      <th>mass</th>\n",
       "      <th>fall</th>\n",
       "      <th>year</th>\n",
       "      <th>reclat</th>\n",
       "      <th>reclong</th>\n",
       "      <th>geolocation</th>\n",
       "      <th>:@computed_region_cbhk_fwbd</th>\n",
       "      <th>:@computed_region_nnqa_25f4</th>\n",
       "    </tr>\n",
       "  </thead>\n",
       "  <tbody>\n",
       "    <tr>\n",
       "      <th>0</th>\n",
       "      <td>Aachen</td>\n",
       "      <td>1</td>\n",
       "      <td>Valid</td>\n",
       "      <td>L5</td>\n",
       "      <td>21.0</td>\n",
       "      <td>Fell</td>\n",
       "      <td>1880-01-01T00:00:00.000</td>\n",
       "      <td>50.77500</td>\n",
       "      <td>6.08333</td>\n",
       "      <td>{'type': 'Point', 'coordinates': [6.08333, 50....</td>\n",
       "      <td>NaN</td>\n",
       "      <td>NaN</td>\n",
       "    </tr>\n",
       "    <tr>\n",
       "      <th>1</th>\n",
       "      <td>Aarhus</td>\n",
       "      <td>2</td>\n",
       "      <td>Valid</td>\n",
       "      <td>H6</td>\n",
       "      <td>720.0</td>\n",
       "      <td>Fell</td>\n",
       "      <td>1951-01-01T00:00:00.000</td>\n",
       "      <td>56.18333</td>\n",
       "      <td>10.23333</td>\n",
       "      <td>{'type': 'Point', 'coordinates': [10.23333, 56...</td>\n",
       "      <td>NaN</td>\n",
       "      <td>NaN</td>\n",
       "    </tr>\n",
       "    <tr>\n",
       "      <th>2</th>\n",
       "      <td>Abee</td>\n",
       "      <td>6</td>\n",
       "      <td>Valid</td>\n",
       "      <td>EH4</td>\n",
       "      <td>107000.0</td>\n",
       "      <td>Fell</td>\n",
       "      <td>1952-01-01T00:00:00.000</td>\n",
       "      <td>54.21667</td>\n",
       "      <td>-113.00000</td>\n",
       "      <td>{'type': 'Point', 'coordinates': [-113, 54.216...</td>\n",
       "      <td>NaN</td>\n",
       "      <td>NaN</td>\n",
       "    </tr>\n",
       "    <tr>\n",
       "      <th>3</th>\n",
       "      <td>Acapulco</td>\n",
       "      <td>10</td>\n",
       "      <td>Valid</td>\n",
       "      <td>Acapulcoite</td>\n",
       "      <td>1914.0</td>\n",
       "      <td>Fell</td>\n",
       "      <td>1976-01-01T00:00:00.000</td>\n",
       "      <td>16.88333</td>\n",
       "      <td>-99.90000</td>\n",
       "      <td>{'type': 'Point', 'coordinates': [-99.9, 16.88...</td>\n",
       "      <td>NaN</td>\n",
       "      <td>NaN</td>\n",
       "    </tr>\n",
       "    <tr>\n",
       "      <th>4</th>\n",
       "      <td>Achiras</td>\n",
       "      <td>370</td>\n",
       "      <td>Valid</td>\n",
       "      <td>L6</td>\n",
       "      <td>780.0</td>\n",
       "      <td>Fell</td>\n",
       "      <td>1902-01-01T00:00:00.000</td>\n",
       "      <td>-33.16667</td>\n",
       "      <td>-64.95000</td>\n",
       "      <td>{'type': 'Point', 'coordinates': [-64.95, -33....</td>\n",
       "      <td>NaN</td>\n",
       "      <td>NaN</td>\n",
       "    </tr>\n",
       "  </tbody>\n",
       "</table>\n",
       "</div>"
      ],
      "text/plain": [
       "       name   id nametype     recclass      mass  fall  \\\n",
       "0    Aachen    1    Valid           L5      21.0  Fell   \n",
       "1    Aarhus    2    Valid           H6     720.0  Fell   \n",
       "2      Abee    6    Valid          EH4  107000.0  Fell   \n",
       "3  Acapulco   10    Valid  Acapulcoite    1914.0  Fell   \n",
       "4   Achiras  370    Valid           L6     780.0  Fell   \n",
       "\n",
       "                      year    reclat    reclong  \\\n",
       "0  1880-01-01T00:00:00.000  50.77500    6.08333   \n",
       "1  1951-01-01T00:00:00.000  56.18333   10.23333   \n",
       "2  1952-01-01T00:00:00.000  54.21667 -113.00000   \n",
       "3  1976-01-01T00:00:00.000  16.88333  -99.90000   \n",
       "4  1902-01-01T00:00:00.000 -33.16667  -64.95000   \n",
       "\n",
       "                                         geolocation  \\\n",
       "0  {'type': 'Point', 'coordinates': [6.08333, 50....   \n",
       "1  {'type': 'Point', 'coordinates': [10.23333, 56...   \n",
       "2  {'type': 'Point', 'coordinates': [-113, 54.216...   \n",
       "3  {'type': 'Point', 'coordinates': [-99.9, 16.88...   \n",
       "4  {'type': 'Point', 'coordinates': [-64.95, -33....   \n",
       "\n",
       "   :@computed_region_cbhk_fwbd  :@computed_region_nnqa_25f4  \n",
       "0                          NaN                          NaN  \n",
       "1                          NaN                          NaN  \n",
       "2                          NaN                          NaN  \n",
       "3                          NaN                          NaN  \n",
       "4                          NaN                          NaN  "
      ]
     },
     "execution_count": 22,
     "metadata": {},
     "output_type": "execute_result"
    }
   ],
   "source": [
    "nasa_df.head()"
   ]
  },
  {
   "cell_type": "code",
   "execution_count": 768,
   "id": "28809732",
   "metadata": {},
   "outputs": [
    {
     "data": {
      "text/plain": [
       "0          [6.08333, 50.775]\n",
       "1       [10.23333, 56.18333]\n",
       "2           [-113, 54.21667]\n",
       "4        [-64.95, -33.16667]\n",
       "5               [71.8, 32.1]\n",
       "               ...          \n",
       "994             [35.2, 54.5]\n",
       "995     [79.41667, 13.63333]\n",
       "997    [111.53333, -7.08333]\n",
       "998    [106.58333, -6.66667]\n",
       "999        [34.76667, 47.85]\n",
       "Name: coordinates, Length: 763, dtype: object"
      ]
     },
     "execution_count": 768,
     "metadata": {},
     "output_type": "execute_result"
    }
   ],
   "source": [
    "nasa_df[(nasa_df.year_YYYY<1970)&(nasa_df.fall=='Fell')].coordinates"
   ]
  },
  {
   "cell_type": "code",
   "execution_count": 782,
   "id": "e6069793",
   "metadata": {},
   "outputs": [
    {
     "data": {
      "text/plain": [
       "763"
      ]
     },
     "execution_count": 782,
     "metadata": {},
     "output_type": "execute_result"
    }
   ],
   "source": [
    "nasa_df[(nasa_df.year_YYYY<1970)&(nasa_df.fall=='Fell')].name.nunique()         #763 Earth meteors fell before 1970"
   ]
  },
  {
   "cell_type": "code",
   "execution_count": 775,
   "id": "11691f1b",
   "metadata": {
    "scrolled": true
   },
   "outputs": [
    {
     "name": "stderr",
     "output_type": "stream",
     "text": [
      "C:\\Users\\Upasana\\AppData\\Local\\Temp/ipykernel_21956/1571572888.py:2: SettingWithCopyWarning: \n",
      "A value is trying to be set on a copy of a slice from a DataFrame.\n",
      "Try using .loc[row_indexer,col_indexer] = value instead\n",
      "\n",
      "See the caveats in the documentation: https://pandas.pydata.org/pandas-docs/stable/user_guide/indexing.html#returning-a-view-versus-a-copy\n",
      "  temp['x_coordinates']=temp['coordinates'].apply(lambda x :x[0])\n",
      "C:\\Users\\Upasana\\AppData\\Local\\Temp/ipykernel_21956/1571572888.py:3: SettingWithCopyWarning: \n",
      "A value is trying to be set on a copy of a slice from a DataFrame.\n",
      "Try using .loc[row_indexer,col_indexer] = value instead\n",
      "\n",
      "See the caveats in the documentation: https://pandas.pydata.org/pandas-docs/stable/user_guide/indexing.html#returning-a-view-versus-a-copy\n",
      "  temp['y_coordinates']=temp['coordinates'].apply(lambda x :x[1])\n"
     ]
    }
   ],
   "source": [
    "#creating temporary data to plot the coordinates\n",
    "temp=nasa_df[(nasa_df.year_YYYY<1970)&(nasa_df.fall=='Fell')]\n",
    "temp['x_coordinates']=temp['coordinates'].apply(lambda x :x[0])\n",
    "temp['y_coordinates']=temp['coordinates'].apply(lambda x :x[1])"
   ]
  },
  {
   "cell_type": "code",
   "execution_count": 26,
   "id": "2c7e1567",
   "metadata": {},
   "outputs": [
    {
     "name": "stderr",
     "output_type": "stream",
     "text": [
      "C:\\Users\\Upasana\\anaconda3\\lib\\site-packages\\seaborn\\_decorators.py:36: FutureWarning: Pass the following variables as keyword args: x, y. From version 0.12, the only valid positional argument will be `data`, and passing other arguments without an explicit keyword will result in an error or misinterpretation.\n",
      "  warnings.warn(\n"
     ]
    },
    {
     "data": {
      "text/plain": [
       "Text(0.5, 1.0, 'Distribution of coordinates where meteors fell before 1970')"
      ]
     },
     "execution_count": 26,
     "metadata": {},
     "output_type": "execute_result"
    },
    {
     "data": {
      "image/png": "[encoded data removed]",
      "text/plain": [
       "<Figure size 864x576 with 1 Axes>"
      ]
     },
     "metadata": {
      "needs_background": "light"
     },
     "output_type": "display_data"
    }
   ],
   "source": [
    "plt.figure(figsize=(12,8))\n",
    "sns.scatterplot(temp['x_coordinates'],temp['y_coordinates'])\n",
    "plt.title('Distribution of coordinates where meteors fell before 1970')"
   ]
  },
  {
   "cell_type": "markdown",
   "id": "c613e0a5",
   "metadata": {},
   "source": [
    "**Assuming that the mass of the earth meteorites was in kg, get all those whose mass was more than 10000kg**"
   ]
  },
  {
   "cell_type": "code",
   "execution_count": 27,
   "id": "8bd83cae",
   "metadata": {},
   "outputs": [
    {
     "data": {
      "text/html": [
       "<div>\n",
       "<style scoped>\n",
       "    .dataframe tbody tr th:only-of-type {\n",
       "        vertical-align: middle;\n",
       "    }\n",
       "\n",
       "    .dataframe tbody tr th {\n",
       "        vertical-align: top;\n",
       "    }\n",
       "\n",
       "    .dataframe thead th {\n",
       "        text-align: right;\n",
       "    }\n",
       "</style>\n",
       "<table border=\"1\" class=\"dataframe\">\n",
       "  <thead>\n",
       "    <tr style=\"text-align: right;\">\n",
       "      <th></th>\n",
       "      <th>name</th>\n",
       "      <th>id</th>\n",
       "      <th>nametype</th>\n",
       "      <th>recclass</th>\n",
       "      <th>mass</th>\n",
       "      <th>fall</th>\n",
       "      <th>year</th>\n",
       "      <th>reclat</th>\n",
       "      <th>reclong</th>\n",
       "      <th>geolocation</th>\n",
       "      <th>:@computed_region_cbhk_fwbd</th>\n",
       "      <th>:@computed_region_nnqa_25f4</th>\n",
       "    </tr>\n",
       "  </thead>\n",
       "  <tbody>\n",
       "    <tr>\n",
       "      <th>2</th>\n",
       "      <td>Abee</td>\n",
       "      <td>6</td>\n",
       "      <td>Valid</td>\n",
       "      <td>EH4</td>\n",
       "      <td>107000.0</td>\n",
       "      <td>Fell</td>\n",
       "      <td>1952-01-01T00:00:00.000</td>\n",
       "      <td>54.21667</td>\n",
       "      <td>-113.00000</td>\n",
       "      <td>{'type': 'Point', 'coordinates': [-113, 54.216...</td>\n",
       "      <td>NaN</td>\n",
       "      <td>NaN</td>\n",
       "    </tr>\n",
       "    <tr>\n",
       "      <th>7</th>\n",
       "      <td>Agen</td>\n",
       "      <td>392</td>\n",
       "      <td>Valid</td>\n",
       "      <td>H5</td>\n",
       "      <td>30000.0</td>\n",
       "      <td>Fell</td>\n",
       "      <td>1814-01-01T00:00:00.000</td>\n",
       "      <td>44.21667</td>\n",
       "      <td>0.61667</td>\n",
       "      <td>{'type': 'Point', 'coordinates': [0.61667, 44....</td>\n",
       "      <td>NaN</td>\n",
       "      <td>NaN</td>\n",
       "    </tr>\n",
       "    <tr>\n",
       "      <th>11</th>\n",
       "      <td>Aïr</td>\n",
       "      <td>424</td>\n",
       "      <td>Valid</td>\n",
       "      <td>L6</td>\n",
       "      <td>24000.0</td>\n",
       "      <td>Fell</td>\n",
       "      <td>1925-01-01T00:00:00.000</td>\n",
       "      <td>19.08333</td>\n",
       "      <td>8.38333</td>\n",
       "      <td>{'type': 'Point', 'coordinates': [8.38333, 19....</td>\n",
       "      <td>NaN</td>\n",
       "      <td>NaN</td>\n",
       "    </tr>\n",
       "    <tr>\n",
       "      <th>16</th>\n",
       "      <td>Akyumak</td>\n",
       "      <td>433</td>\n",
       "      <td>Valid</td>\n",
       "      <td>Iron, IVA</td>\n",
       "      <td>50000.0</td>\n",
       "      <td>Fell</td>\n",
       "      <td>1981-01-01T00:00:00.000</td>\n",
       "      <td>39.91667</td>\n",
       "      <td>42.81667</td>\n",
       "      <td>{'type': 'Point', 'coordinates': [42.81667, 39...</td>\n",
       "      <td>NaN</td>\n",
       "      <td>NaN</td>\n",
       "    </tr>\n",
       "    <tr>\n",
       "      <th>27</th>\n",
       "      <td>Alfianello</td>\n",
       "      <td>466</td>\n",
       "      <td>Valid</td>\n",
       "      <td>L6</td>\n",
       "      <td>228000.0</td>\n",
       "      <td>Fell</td>\n",
       "      <td>1883-01-01T00:00:00.000</td>\n",
       "      <td>45.26667</td>\n",
       "      <td>10.15000</td>\n",
       "      <td>{'type': 'Point', 'coordinates': [10.15, 45.26...</td>\n",
       "      <td>NaN</td>\n",
       "      <td>NaN</td>\n",
       "    </tr>\n",
       "    <tr>\n",
       "      <th>...</th>\n",
       "      <td>...</td>\n",
       "      <td>...</td>\n",
       "      <td>...</td>\n",
       "      <td>...</td>\n",
       "      <td>...</td>\n",
       "      <td>...</td>\n",
       "      <td>...</td>\n",
       "      <td>...</td>\n",
       "      <td>...</td>\n",
       "      <td>...</td>\n",
       "      <td>...</td>\n",
       "      <td>...</td>\n",
       "    </tr>\n",
       "    <tr>\n",
       "      <th>991</th>\n",
       "      <td>Tieschitz</td>\n",
       "      <td>23989</td>\n",
       "      <td>Valid</td>\n",
       "      <td>H/L3.6</td>\n",
       "      <td>28000.0</td>\n",
       "      <td>Fell</td>\n",
       "      <td>1878-01-01T00:00:00.000</td>\n",
       "      <td>49.60000</td>\n",
       "      <td>17.11667</td>\n",
       "      <td>{'type': 'Point', 'coordinates': [17.11667, 49...</td>\n",
       "      <td>NaN</td>\n",
       "      <td>NaN</td>\n",
       "    </tr>\n",
       "    <tr>\n",
       "      <th>992</th>\n",
       "      <td>Tilden</td>\n",
       "      <td>23998</td>\n",
       "      <td>Valid</td>\n",
       "      <td>L6</td>\n",
       "      <td>74800.0</td>\n",
       "      <td>Fell</td>\n",
       "      <td>1927-01-01T00:00:00.000</td>\n",
       "      <td>38.20000</td>\n",
       "      <td>-89.68333</td>\n",
       "      <td>{'type': 'Point', 'coordinates': [-89.68333, 3...</td>\n",
       "      <td>34.0</td>\n",
       "      <td>1762.0</td>\n",
       "    </tr>\n",
       "    <tr>\n",
       "      <th>994</th>\n",
       "      <td>Timochin</td>\n",
       "      <td>24004</td>\n",
       "      <td>Valid</td>\n",
       "      <td>H5</td>\n",
       "      <td>65500.0</td>\n",
       "      <td>Fell</td>\n",
       "      <td>1807-01-01T00:00:00.000</td>\n",
       "      <td>54.50000</td>\n",
       "      <td>35.20000</td>\n",
       "      <td>{'type': 'Point', 'coordinates': [35.2, 54.5]}</td>\n",
       "      <td>NaN</td>\n",
       "      <td>NaN</td>\n",
       "    </tr>\n",
       "    <tr>\n",
       "      <th>997</th>\n",
       "      <td>Tjabe</td>\n",
       "      <td>24011</td>\n",
       "      <td>Valid</td>\n",
       "      <td>H6</td>\n",
       "      <td>20000.0</td>\n",
       "      <td>Fell</td>\n",
       "      <td>1869-01-01T00:00:00.000</td>\n",
       "      <td>-7.08333</td>\n",
       "      <td>111.53333</td>\n",
       "      <td>{'type': 'Point', 'coordinates': [111.53333, -...</td>\n",
       "      <td>NaN</td>\n",
       "      <td>NaN</td>\n",
       "    </tr>\n",
       "    <tr>\n",
       "      <th>998</th>\n",
       "      <td>Tjerebon</td>\n",
       "      <td>24012</td>\n",
       "      <td>Valid</td>\n",
       "      <td>L5</td>\n",
       "      <td>16500.0</td>\n",
       "      <td>Fell</td>\n",
       "      <td>1922-01-01T00:00:00.000</td>\n",
       "      <td>-6.66667</td>\n",
       "      <td>106.58333</td>\n",
       "      <td>{'type': 'Point', 'coordinates': [106.58333, -...</td>\n",
       "      <td>NaN</td>\n",
       "      <td>NaN</td>\n",
       "    </tr>\n",
       "  </tbody>\n",
       "</table>\n",
       "<p>243 rows × 12 columns</p>\n",
       "</div>"
      ],
      "text/plain": [
       "           name     id nametype   recclass      mass  fall  \\\n",
       "2          Abee      6    Valid        EH4  107000.0  Fell   \n",
       "7          Agen    392    Valid         H5   30000.0  Fell   \n",
       "11          Aïr    424    Valid         L6   24000.0  Fell   \n",
       "16      Akyumak    433    Valid  Iron, IVA   50000.0  Fell   \n",
       "27   Alfianello    466    Valid         L6  228000.0  Fell   \n",
       "..          ...    ...      ...        ...       ...   ...   \n",
       "991   Tieschitz  23989    Valid     H/L3.6   28000.0  Fell   \n",
       "992      Tilden  23998    Valid         L6   74800.0  Fell   \n",
       "994    Timochin  24004    Valid         H5   65500.0  Fell   \n",
       "997       Tjabe  24011    Valid         H6   20000.0  Fell   \n",
       "998    Tjerebon  24012    Valid         L5   16500.0  Fell   \n",
       "\n",
       "                        year    reclat    reclong  \\\n",
       "2    1952-01-01T00:00:00.000  54.21667 -113.00000   \n",
       "7    1814-01-01T00:00:00.000  44.21667    0.61667   \n",
       "11   1925-01-01T00:00:00.000  19.08333    8.38333   \n",
       "16   1981-01-01T00:00:00.000  39.91667   42.81667   \n",
       "27   1883-01-01T00:00:00.000  45.26667   10.15000   \n",
       "..                       ...       ...        ...   \n",
       "991  1878-01-01T00:00:00.000  49.60000   17.11667   \n",
       "992  1927-01-01T00:00:00.000  38.20000  -89.68333   \n",
       "994  1807-01-01T00:00:00.000  54.50000   35.20000   \n",
       "997  1869-01-01T00:00:00.000  -7.08333  111.53333   \n",
       "998  1922-01-01T00:00:00.000  -6.66667  106.58333   \n",
       "\n",
       "                                           geolocation  \\\n",
       "2    {'type': 'Point', 'coordinates': [-113, 54.216...   \n",
       "7    {'type': 'Point', 'coordinates': [0.61667, 44....   \n",
       "11   {'type': 'Point', 'coordinates': [8.38333, 19....   \n",
       "16   {'type': 'Point', 'coordinates': [42.81667, 39...   \n",
       "27   {'type': 'Point', 'coordinates': [10.15, 45.26...   \n",
       "..                                                 ...   \n",
       "991  {'type': 'Point', 'coordinates': [17.11667, 49...   \n",
       "992  {'type': 'Point', 'coordinates': [-89.68333, 3...   \n",
       "994     {'type': 'Point', 'coordinates': [35.2, 54.5]}   \n",
       "997  {'type': 'Point', 'coordinates': [111.53333, -...   \n",
       "998  {'type': 'Point', 'coordinates': [106.58333, -...   \n",
       "\n",
       "     :@computed_region_cbhk_fwbd  :@computed_region_nnqa_25f4  \n",
       "2                            NaN                          NaN  \n",
       "7                            NaN                          NaN  \n",
       "11                           NaN                          NaN  \n",
       "16                           NaN                          NaN  \n",
       "27                           NaN                          NaN  \n",
       "..                           ...                          ...  \n",
       "991                          NaN                          NaN  \n",
       "992                         34.0                       1762.0  \n",
       "994                          NaN                          NaN  \n",
       "997                          NaN                          NaN  \n",
       "998                          NaN                          NaN  \n",
       "\n",
       "[243 rows x 12 columns]"
      ]
     },
     "execution_count": 27,
     "metadata": {},
     "output_type": "execute_result"
    }
   ],
   "source": [
    "nasa_df[nasa_df.mass>10000]"
   ]
  },
  {
   "cell_type": "code",
   "execution_count": 28,
   "id": "b038e918",
   "metadata": {},
   "outputs": [
    {
     "data": {
      "text/plain": [
       "243"
      ]
     },
     "execution_count": 28,
     "metadata": {},
     "output_type": "execute_result"
    }
   ],
   "source": [
    "nasa_df[nasa_df.mass>10000].name.nunique() #there are 243 meteors which weigh more than 10000kg"
   ]
  }
 ],
 "metadata": {
  "kernelspec": {
   "display_name": "Python 3 (ipykernel)",
   "language": "python",
   "name": "python3"
  },
  "language_info": {
   "codemirror_mode": {
    "name": "ipython",
    "version": 3
   },
   "file_extension": ".py",
   "mimetype": "text/x-python",
   "name": "python",
   "nbconvert_exporter": "python",
   "pygments_lexer": "ipython3",
   "version": "3.8.11"
  }
 },
 "nbformat": 4,
 "nbformat_minor": 5
}
