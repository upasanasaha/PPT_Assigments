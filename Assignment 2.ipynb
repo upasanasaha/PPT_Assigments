{
 "cells": [
  {
   "cell_type": "markdown",
   "id": "65ca3841",
   "metadata": {},
   "source": [
    "**Question 1**\n",
    "Given an integer array nums of 2n integers, group these integers into n pairs (a1, b1), (a2, b2),..., (an, bn) such that the sum of min(ai, bi) for all i is maximized. Return the maximized sum.\n",
    "\n",
    "**Example 1**:\n",
    "Input: nums = [1,4,3,2]\n",
    "Output: 4"
   ]
  },
  {
   "cell_type": "code",
   "execution_count": 8,
   "id": "eb134377",
   "metadata": {},
   "outputs": [],
   "source": [
    "def minSum(nums):\n",
    "    nums.sort()\n",
    "    result=0\n",
    "    for i in range(0,len(nums),2):\n",
    "        result+=min(nums[i],nums[i+1])\n",
    "    return result"
   ]
  },
  {
   "cell_type": "code",
   "execution_count": 2,
   "id": "d336ccdb",
   "metadata": {},
   "outputs": [
    {
     "data": {
      "text/plain": [
       "4"
      ]
     },
     "execution_count": 2,
     "metadata": {},
     "output_type": "execute_result"
    }
   ],
   "source": [
    "minSum([1,4,3,2])"
   ]
  },
  {
   "cell_type": "code",
   "execution_count": 9,
   "id": "9168eddd",
   "metadata": {},
   "outputs": [
    {
     "data": {
      "text/plain": [
       "7"
      ]
     },
     "execution_count": 9,
     "metadata": {},
     "output_type": "execute_result"
    }
   ],
   "source": [
    "minSum([2,1,4,3,2,8])"
   ]
  },
  {
   "cell_type": "code",
   "execution_count": 10,
   "id": "60b1bb7d",
   "metadata": {},
   "outputs": [
    {
     "data": {
      "text/plain": [
       "0"
      ]
     },
     "execution_count": 10,
     "metadata": {},
     "output_type": "execute_result"
    }
   ],
   "source": [
    "minSum([])"
   ]
  },
  {
   "cell_type": "markdown",
   "id": "48caf7e9",
   "metadata": {},
   "source": [
    "**Question 2**\n",
    "Alice has n candies, where the ith candy is of type candyType[i]. Alice noticed that she started to gain weight, so she visited a doctor. \n",
    "\n",
    "The doctor advised Alice to only eat n / 2 of the candies she has (n is always even). Alice likes her candies very much, and she wants to eat the maximum number of different types of candies while still following the doctor's advice. \n",
    "\n",
    "Given the integer array candyType of length n, return the maximum number of different types of candies she can eat if she only eats n / 2 of them.\n",
    "\n",
    "**Example 1**:\n",
    "Input: candyType = [1,1,2,2,3,3]\n",
    "Output: 3"
   ]
  },
  {
   "cell_type": "code",
   "execution_count": 43,
   "id": "3c29058c",
   "metadata": {},
   "outputs": [],
   "source": [
    "def candies(candyType):\n",
    "    hset=set()\n",
    "    l=len(candyType)/2\n",
    "    for i in range(len(candyType)):\n",
    "        hset.add(candyType[i])\n",
    "    if len(hset)>l:\n",
    "        return int(l)\n",
    "    else:\n",
    "        return len(hset)  "
   ]
  },
  {
   "cell_type": "code",
   "execution_count": 44,
   "id": "436c0509",
   "metadata": {},
   "outputs": [
    {
     "data": {
      "text/plain": [
       "3"
      ]
     },
     "execution_count": 44,
     "metadata": {},
     "output_type": "execute_result"
    }
   ],
   "source": [
    "candies([1,3,1,2,3,2])"
   ]
  },
  {
   "cell_type": "code",
   "execution_count": 45,
   "id": "9de6b0f2",
   "metadata": {},
   "outputs": [
    {
     "data": {
      "text/plain": [
       "3"
      ]
     },
     "execution_count": 45,
     "metadata": {},
     "output_type": "execute_result"
    }
   ],
   "source": [
    "candies([1,3,1,5,3,6,4])"
   ]
  },
  {
   "cell_type": "markdown",
   "id": "84f754a4",
   "metadata": {},
   "source": [
    "**Question 3**\n",
    "We define a harmonious array as an array where the difference between its maximum value\n",
    "and its minimum value is exactly 1.\n",
    "\n",
    "Given an integer array nums, return the length of its longest harmonious subsequence\n",
    "among all its possible subsequences.\n",
    "\n",
    "A subsequence of an array is a sequence that can be derived from the array by deleting some or no elements without changing the order of the remaining elements.\n",
    "\n",
    "**Example 1**:\n",
    "Input: nums = [1,3,2,2,5,2,3,7]\n",
    "Output: 5"
   ]
  },
  {
   "cell_type": "code",
   "execution_count": 37,
   "id": "85545888",
   "metadata": {},
   "outputs": [],
   "source": [
    "def maxLength(nums):\n",
    "    hmap=dict()\n",
    "    maximum=0\n",
    "    for i in range(len(nums)):\n",
    "        if nums[i] in hmap.keys():\n",
    "            hmap[nums[i]]+=1\n",
    "        else:\n",
    "            hmap[nums[i]]=1\n",
    "    for k in hmap.keys():\n",
    "        if k+1 in hmap.keys():\n",
    "            maximum=max(maximum,hmap[k]+hmap[k+1])\n",
    "    return maximum"
   ]
  },
  {
   "cell_type": "code",
   "execution_count": 38,
   "id": "3f46a13b",
   "metadata": {},
   "outputs": [
    {
     "data": {
      "text/plain": [
       "5"
      ]
     },
     "execution_count": 38,
     "metadata": {},
     "output_type": "execute_result"
    }
   ],
   "source": [
    "maxLength([1,3,2,2,5,2,3,7])"
   ]
  },
  {
   "cell_type": "code",
   "execution_count": 39,
   "id": "13f29b80",
   "metadata": {},
   "outputs": [
    {
     "data": {
      "text/plain": [
       "7"
      ]
     },
     "execution_count": 39,
     "metadata": {},
     "output_type": "execute_result"
    }
   ],
   "source": [
    "maxLength([1,3,2,2,2,2,3,3])"
   ]
  },
  {
   "cell_type": "code",
   "execution_count": 40,
   "id": "6296614b",
   "metadata": {
    "scrolled": true
   },
   "outputs": [
    {
     "data": {
      "text/plain": [
       "2"
      ]
     },
     "execution_count": 40,
     "metadata": {},
     "output_type": "execute_result"
    }
   ],
   "source": [
    "maxLength([1,2,3,4,5,6])"
   ]
  },
  {
   "cell_type": "code",
   "execution_count": 41,
   "id": "521eaaac",
   "metadata": {},
   "outputs": [
    {
     "data": {
      "text/plain": [
       "0"
      ]
     },
     "execution_count": 41,
     "metadata": {},
     "output_type": "execute_result"
    }
   ],
   "source": [
    "maxLength([])"
   ]
  },
  {
   "cell_type": "markdown",
   "id": "ac1cdfb8",
   "metadata": {},
   "source": [
    "**Question 4**\n",
    "You have a long flowerbed in which some of the plots are planted, and some are not.\n",
    "However, flowers cannot be planted in adjacent plots.\n",
    "Given an integer array flowerbed containing 0's and 1's, where 0 means empty and 1 means not empty, and an integer n, return true if n new flowers can be planted in the flowerbed without violating the no-adjacent-flowers rule and false otherwise.\n",
    "\n",
    "**Example 1**:\n",
    "Input: flowerbed = [1,0,0,0,1], n = 1\n",
    "Output: true"
   ]
  },
  {
   "cell_type": "code",
   "execution_count": 152,
   "id": "0f957ca9",
   "metadata": {},
   "outputs": [],
   "source": [
    "def flower(flowerbed,n):\n",
    "    count=0\n",
    "    #Checking if there are consecutive \n",
    "    for i in range(1,len(flowerbed)-1):\n",
    "        if (flowerbed[i]==0) & (i==0 or flowerbed[i-1]==0) & (flowerbed[i+1]==0 or (i+1==len(flowerbed)-1)):\n",
    "            flowerbed[i+1]=1\n",
    "            count+=1\n",
    "    #checking if there's a possibility to add at the first index\n",
    "    if flowerbed[0]==0 & flowerbed[1]==0:\n",
    "        flowerbed[0]=1\n",
    "        count+=1\n",
    "    #checking if there's a possibility to add at the last index\n",
    "    if flowerbed[-1]==0 & flowerbed[-2]==0:\n",
    "        flowerbed[-1]=1\n",
    "        count+=1\n",
    "    if count>=n:\n",
    "        return True\n",
    "    else:\n",
    "        return False"
   ]
  },
  {
   "cell_type": "code",
   "execution_count": 153,
   "id": "feff6085",
   "metadata": {
    "scrolled": true
   },
   "outputs": [
    {
     "data": {
      "text/plain": [
       "True"
      ]
     },
     "execution_count": 153,
     "metadata": {},
     "output_type": "execute_result"
    }
   ],
   "source": [
    "flower([1,0,0,0,1],1)"
   ]
  },
  {
   "cell_type": "code",
   "execution_count": 154,
   "id": "a9945dcc",
   "metadata": {},
   "outputs": [
    {
     "data": {
      "text/plain": [
       "True"
      ]
     },
     "execution_count": 154,
     "metadata": {},
     "output_type": "execute_result"
    }
   ],
   "source": [
    "flower([0,0,1,0,1],1)"
   ]
  },
  {
   "cell_type": "code",
   "execution_count": 155,
   "id": "1866f866",
   "metadata": {},
   "outputs": [
    {
     "data": {
      "text/plain": [
       "True"
      ]
     },
     "execution_count": 155,
     "metadata": {},
     "output_type": "execute_result"
    }
   ],
   "source": [
    "flower([1,0,1,0,0],1)"
   ]
  },
  {
   "cell_type": "code",
   "execution_count": 156,
   "id": "51cb38c6",
   "metadata": {},
   "outputs": [
    {
     "data": {
      "text/plain": [
       "False"
      ]
     },
     "execution_count": 156,
     "metadata": {},
     "output_type": "execute_result"
    }
   ],
   "source": [
    "flower([1,0,1,0,1,1],1)"
   ]
  },
  {
   "cell_type": "markdown",
   "id": "44d0c593",
   "metadata": {},
   "source": [
    "**Question 5**\n",
    "Given an integer array nums, find three numbers whose product is maximum and return the maximum product.\n",
    "\n",
    "**Example 1**:\n",
    "Input: nums = [1,2,3]\n",
    "Output: 6"
   ]
  },
  {
   "cell_type": "code",
   "execution_count": 66,
   "id": "9dd9ffc2",
   "metadata": {},
   "outputs": [],
   "source": [
    "def maxProduct(nums):\n",
    "    #Finding 3 maximum numbers\n",
    "    m1,m2,m3=0,0,0\n",
    "    for i in range(len(nums)):\n",
    "        if nums[i]>=m1:\n",
    "            m3=m2\n",
    "            m2=m1\n",
    "            m1=nums[i]\n",
    "        elif nums[i]>=m2:\n",
    "            m3=m2\n",
    "            m2=nums[i]\n",
    "        elif nums[i]>=m3:\n",
    "            m3=nums[i]\n",
    "    #Finding 2 lowest -ve numbers\n",
    "    l1,l2=0,0\n",
    "    for i in range(len(nums)):\n",
    "        if nums[i]<l1:\n",
    "            l2=l1\n",
    "            l1=nums[i]\n",
    "        elif nums[i]<l2:\n",
    "            l2=nums[i]\n",
    "    return max(m1*m2*m3,m1*l1*l2)         "
   ]
  },
  {
   "cell_type": "code",
   "execution_count": 67,
   "id": "53966696",
   "metadata": {},
   "outputs": [
    {
     "data": {
      "text/plain": [
       "30"
      ]
     },
     "execution_count": 67,
     "metadata": {},
     "output_type": "execute_result"
    }
   ],
   "source": [
    "maxProduct([1,2,3,5])"
   ]
  },
  {
   "cell_type": "code",
   "execution_count": 68,
   "id": "6ce9c007",
   "metadata": {},
   "outputs": [
    {
     "data": {
      "text/plain": [
       "75"
      ]
     },
     "execution_count": 68,
     "metadata": {},
     "output_type": "execute_result"
    }
   ],
   "source": [
    "maxProduct([1,2,3,5,3,2,-3,-5])"
   ]
  },
  {
   "cell_type": "markdown",
   "id": "022ae3af",
   "metadata": {},
   "source": [
    "**Question 6**\n",
    "Given an array of integers nums which is sorted in ascending order, and an integer target,\n",
    "write a function to search target in nums. If target exists, then return its index. Otherwise,\n",
    "return -1.\n",
    "\n",
    "You must write an algorithm with O(log n) runtime complexity.\n",
    "\n",
    "Input: nums = [-1,0,3,5,9,12], target = 9\n",
    "Output: 4"
   ]
  },
  {
   "cell_type": "code",
   "execution_count": 34,
   "id": "74476b42",
   "metadata": {},
   "outputs": [],
   "source": [
    "def findNum(nums,target):\n",
    "    l=0\n",
    "    r=len(nums)-1\n",
    "    while l<r:\n",
    "        mid=(l+r)//2\n",
    "        if nums[mid]==target:\n",
    "            return mid\n",
    "        elif nums[mid]>target:\n",
    "            r-=1\n",
    "        else:\n",
    "            l+=1\n",
    "    return -1"
   ]
  },
  {
   "cell_type": "code",
   "execution_count": 35,
   "id": "b20af88f",
   "metadata": {},
   "outputs": [
    {
     "data": {
      "text/plain": [
       "4"
      ]
     },
     "execution_count": 35,
     "metadata": {},
     "output_type": "execute_result"
    }
   ],
   "source": [
    "findNum([-1,0,3,5,9,12],9)"
   ]
  },
  {
   "cell_type": "code",
   "execution_count": 36,
   "id": "c931ea4b",
   "metadata": {},
   "outputs": [
    {
     "data": {
      "text/plain": [
       "-1"
      ]
     },
     "execution_count": 36,
     "metadata": {},
     "output_type": "execute_result"
    }
   ],
   "source": [
    "findNum([-1,0,3,5,9,11,12],10)"
   ]
  },
  {
   "cell_type": "markdown",
   "id": "5322e0d7",
   "metadata": {},
   "source": [
    "**Question 7**\n",
    "An array is monotonic if it is either monotone increasing or monotone decreasing.\n",
    "\n",
    "An array nums is monotone increasing if for all i <= j, nums[i] <= nums[j]. An array nums is\n",
    "monotone decreasing if for all i <= j, nums[i] >= nums[j].\n",
    "\n",
    "Given an integer array nums, return true if the given array is monotonic, or false otherwise.\n",
    "\n",
    "**Example 1**:\n",
    "Input: nums = [1,2,2,3]\n",
    "Output: true"
   ]
  },
  {
   "cell_type": "code",
   "execution_count": 85,
   "id": "9d423f3f",
   "metadata": {},
   "outputs": [],
   "source": [
    "def monotonic(nums):\n",
    "    #Checking if at any instance it is not an increasing monotone\n",
    "    result=True\n",
    "    for i in range(1,len(nums)):\n",
    "        if nums[i]-nums[i-1]<0:\n",
    "            result=False\n",
    "    if result:\n",
    "        return result\n",
    "    #Checking if at any instance it is not a decreasing monotone\n",
    "    result=True\n",
    "    for i in range(1,len(nums)):\n",
    "        if nums[i]-nums[i-1]>0:\n",
    "            result=False\n",
    "    if result:\n",
    "        return result\n",
    "    return result"
   ]
  },
  {
   "cell_type": "code",
   "execution_count": 89,
   "id": "41df36a6",
   "metadata": {},
   "outputs": [
    {
     "data": {
      "text/plain": [
       "True"
      ]
     },
     "execution_count": 89,
     "metadata": {},
     "output_type": "execute_result"
    }
   ],
   "source": [
    "monotonic([1,3,4])"
   ]
  },
  {
   "cell_type": "code",
   "execution_count": 90,
   "id": "8cfe3098",
   "metadata": {},
   "outputs": [
    {
     "data": {
      "text/plain": [
       "True"
      ]
     },
     "execution_count": 90,
     "metadata": {},
     "output_type": "execute_result"
    }
   ],
   "source": [
    "monotonic([-1,-3,-4,-7])"
   ]
  },
  {
   "cell_type": "code",
   "execution_count": 91,
   "id": "e49ac4f7",
   "metadata": {},
   "outputs": [
    {
     "data": {
      "text/plain": [
       "False"
      ]
     },
     "execution_count": 91,
     "metadata": {},
     "output_type": "execute_result"
    }
   ],
   "source": [
    "monotonic([-1,-3,-4,0])"
   ]
  },
  {
   "cell_type": "markdown",
   "id": "d8bef6c6",
   "metadata": {},
   "source": [
    "**Question 8**\n",
    "You are given an integer array nums and an integer k.\n",
    "\n",
    "In one operation, you can choose any index i where 0 <= i < nums.length and change nums[i] to nums[i] + x where x is an integer from the range [-k, k]. You can apply this operation at most once for each index i.\n",
    "\n",
    "The score of nums is the difference between the maximum and minimum elements in nums.\n",
    "\n",
    "Return the minimum score of nums after applying the mentioned operation at most once for each index in it.\n",
    "\n",
    "**Example 1**:\n",
    "Input: nums = [1], k = 0\n",
    "Output: 0"
   ]
  },
  {
   "cell_type": "code",
   "execution_count": 134,
   "id": "3862a2f3",
   "metadata": {},
   "outputs": [],
   "source": [
    "def maxDiff(nums,k):\n",
    "    minimum,maximum=nums[0],nums[0]\n",
    "    for i in range(len(nums)):\n",
    "        maximum=max(maximum,nums[i])\n",
    "        minimum=min(minimum,nums[i])\n",
    "    return max(0, maximum - minimum - 2 *k)  "
   ]
  },
  {
   "cell_type": "code",
   "execution_count": 135,
   "id": "a2d28f8d",
   "metadata": {},
   "outputs": [
    {
     "data": {
      "text/plain": [
       "0"
      ]
     },
     "execution_count": 135,
     "metadata": {},
     "output_type": "execute_result"
    }
   ],
   "source": [
    "maxDiff([1],0)"
   ]
  },
  {
   "cell_type": "code",
   "execution_count": 136,
   "id": "6887549a",
   "metadata": {},
   "outputs": [
    {
     "data": {
      "text/plain": [
       "6"
      ]
     },
     "execution_count": 136,
     "metadata": {},
     "output_type": "execute_result"
    }
   ],
   "source": [
    "maxDiff([0,10],2)"
   ]
  },
  {
   "cell_type": "code",
   "execution_count": 137,
   "id": "08c98e2c",
   "metadata": {},
   "outputs": [
    {
     "data": {
      "text/plain": [
       "0"
      ]
     },
     "execution_count": 137,
     "metadata": {},
     "output_type": "execute_result"
    }
   ],
   "source": [
    "maxDiff([1,2,3],3)"
   ]
  },
  {
   "cell_type": "code",
   "execution_count": 138,
   "id": "0eb03e88",
   "metadata": {},
   "outputs": [
    {
     "data": {
      "text/plain": [
       "0"
      ]
     },
     "execution_count": 138,
     "metadata": {},
     "output_type": "execute_result"
    }
   ],
   "source": [
    "maxDiff([1,3,6],3)"
   ]
  },
  {
   "cell_type": "code",
   "execution_count": null,
   "id": "34e63840",
   "metadata": {},
   "outputs": [],
   "source": []
  }
 ],
 "metadata": {
  "kernelspec": {
   "display_name": "Python 3 (ipykernel)",
   "language": "python",
   "name": "python3"
  },
  "language_info": {
   "codemirror_mode": {
    "name": "ipython",
    "version": 3
   },
   "file_extension": ".py",
   "mimetype": "text/x-python",
   "name": "python",
   "nbconvert_exporter": "python",
   "pygments_lexer": "ipython3",
   "version": "3.8.11"
  }
 },
 "nbformat": 4,
 "nbformat_minor": 5
}
