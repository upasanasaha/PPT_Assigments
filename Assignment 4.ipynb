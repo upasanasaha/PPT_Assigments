{
 "cells": [
  {
   "cell_type": "markdown",
   "id": "c6112e91",
   "metadata": {},
   "source": [
    "**Question 1**\n",
    "Given three integer arrays arr1, arr2 and arr3 **sorted** in **strictly increasing** order, return a sorted array of **only** the integers that appeared in **all** three arrays.\n",
    "\n",
    "**Example 1:**\n",
    "\n",
    "Input: arr1 = [1,2,3,4,5], arr2 = [1,2,5,7,9], arr3 = [1,3,4,5,8]\n",
    "\n",
    "Output: [1,5]"
   ]
  },
  {
   "cell_type": "code",
   "execution_count": 9,
   "id": "d7c3c87c",
   "metadata": {},
   "outputs": [],
   "source": [
    "def findCommon(arr1,arr2,arr3):\n",
    "    n1=len(arr1)\n",
    "    n2=len(arr2)\n",
    "    n3=len(arr3)\n",
    "    i,j,k=0,0,0\n",
    "    result=[]\n",
    "    while (i<n1) & (j<n2) & (k<n3):\n",
    "        #Appending to result if the numbers in 3 arrays are equal\n",
    "        if (arr1[i]==arr2[j]) & (arr2[j]==arr3[k]):\n",
    "            result.append(arr1[i])\n",
    "            i+=1\n",
    "            j+=1\n",
    "            k+=1\n",
    "        #Increasing i if arr1[i]<arr2[j]\n",
    "        elif arr1[i]<arr2[j]:\n",
    "            i+=1\n",
    "        #Increasing j if arr2[j]<arr3[k]\n",
    "        elif arr2[j]<arr3[k]:\n",
    "            j+=1\n",
    "        #Increasing k in other cases\n",
    "        else:\n",
    "            k+=1\n",
    "    return result"
   ]
  },
  {
   "cell_type": "code",
   "execution_count": 10,
   "id": "21e4b1ed",
   "metadata": {},
   "outputs": [
    {
     "data": {
      "text/plain": [
       "[1, 5]"
      ]
     },
     "execution_count": 10,
     "metadata": {},
     "output_type": "execute_result"
    }
   ],
   "source": [
    "findCommon([1,2,3,4,5],[1,2,5,7,9],[1,3,4,5,8])"
   ]
  },
  {
   "cell_type": "code",
   "execution_count": 11,
   "id": "dc275508",
   "metadata": {},
   "outputs": [
    {
     "data": {
      "text/plain": [
       "[1, 5, 7]"
      ]
     },
     "execution_count": 11,
     "metadata": {},
     "output_type": "execute_result"
    }
   ],
   "source": [
    "findCommon([1,2,3,4,5,6,7],[1,2,5,7,9],[1,3,4,5,7,8,9])"
   ]
  },
  {
   "cell_type": "code",
   "execution_count": 12,
   "id": "24121ead",
   "metadata": {},
   "outputs": [
    {
     "data": {
      "text/plain": [
       "[]"
      ]
     },
     "execution_count": 12,
     "metadata": {},
     "output_type": "execute_result"
    }
   ],
   "source": [
    "findCommon([],[],[1,3,4,5,8])"
   ]
  },
  {
   "cell_type": "markdown",
   "id": "0c282473",
   "metadata": {},
   "source": [
    "**Question 2**\n",
    "\n",
    "Given two **0-indexed** integer arrays nums1 and nums2, return *a list* answer *of size* 2 *where:*\n",
    "\n",
    "- answer[0] *is a list of all **distinct** integers in* nums1 *which are **not** present in* nums2*.*\n",
    "- answer[1] *is a list of all **distinct** integers in* nums2 *which are **not** present in* nums1.\n",
    "\n",
    "**Note** that the integers in the lists may be returned in **any** order.\n",
    "\n",
    "**Example 1:**\n",
    "\n",
    "**Input:** nums1 = [1,2,3], nums2 = [2,4,6]\n",
    "\n",
    "**Output:** [[1,3],[4,6]]"
   ]
  },
  {
   "cell_type": "code",
   "execution_count": 21,
   "id": "90de6345",
   "metadata": {},
   "outputs": [],
   "source": [
    "def notCommon(nums1,nums2):\n",
    "    n1=len(nums1)\n",
    "    n2=len(nums2)\n",
    "    hset1=set()\n",
    "    hset2=set()\n",
    "    #creating hset1 with numbers in nums1\n",
    "    for i in range(n1):\n",
    "        hset1.add(nums1[i])\n",
    "    #creating hset2 with numbers in nums2\n",
    "    for j in range(n2):\n",
    "        hset2.add(nums2[j])\n",
    "    #result with hset1-hset2 and hset2-hset1\n",
    "    result=[list(hset1-hset2),list(hset2-hset1)]\n",
    "    return result"
   ]
  },
  {
   "cell_type": "code",
   "execution_count": 22,
   "id": "8527c329",
   "metadata": {},
   "outputs": [
    {
     "data": {
      "text/plain": [
       "[[1, 3], [4, 6]]"
      ]
     },
     "execution_count": 22,
     "metadata": {},
     "output_type": "execute_result"
    }
   ],
   "source": [
    "notCommon(nums1 = [1,2,3], nums2 = [2,4,6])"
   ]
  },
  {
   "cell_type": "code",
   "execution_count": 23,
   "id": "8bba6be2",
   "metadata": {},
   "outputs": [
    {
     "data": {
      "text/plain": [
       "[[], [1, 2, 4, 6]]"
      ]
     },
     "execution_count": 23,
     "metadata": {},
     "output_type": "execute_result"
    }
   ],
   "source": [
    "notCommon([],[1,2,4,6])"
   ]
  },
  {
   "cell_type": "code",
   "execution_count": 24,
   "id": "562c760a",
   "metadata": {},
   "outputs": [
    {
     "data": {
      "text/plain": [
       "[[1, 2, 4, 6], []]"
      ]
     },
     "execution_count": 24,
     "metadata": {},
     "output_type": "execute_result"
    }
   ],
   "source": [
    "notCommon([1,2,4,6],[])"
   ]
  },
  {
   "cell_type": "markdown",
   "id": "f5da3ebd",
   "metadata": {},
   "source": [
    "**Question 3**\n",
    "Given a 2D integer array matrix, return *the **transpose** of* matrix.\n",
    "\n",
    "The **transpose** of a matrix is the matrix flipped over its main diagonal, switching the matrix's row and column indices.\n",
    "\n",
    "**Example 1:**\n",
    "\n",
    "Input: matrix = [[1,2,3],[4,5,6],[7,8,9]]\n",
    "\n",
    "Output: [[1,4,7],[2,5,8],[3,6,9]]"
   ]
  },
  {
   "cell_type": "code",
   "execution_count": 44,
   "id": "41a47f89",
   "metadata": {},
   "outputs": [],
   "source": [
    "def transpose(matrix):\n",
    "    #transpose if just replacing [i,j]th element with [j,i]th element\n",
    "    columns=len(matrix)\n",
    "    rows=len(matrix[0])\n",
    "    result=[[0]*columns for i in range(rows)]\n",
    "    for i in range(columns):\n",
    "        for j in range(rows):\n",
    "            result[j][i]=matrix[i][j]\n",
    "    return result"
   ]
  },
  {
   "cell_type": "code",
   "execution_count": 45,
   "id": "d0bb524b",
   "metadata": {},
   "outputs": [
    {
     "data": {
      "text/plain": [
       "[[1, 4, 7], [2, 5, 8], [3, 6, 9]]"
      ]
     },
     "execution_count": 45,
     "metadata": {},
     "output_type": "execute_result"
    }
   ],
   "source": [
    "transpose([[1,2,3],[4,5,6],[7,8,9]])"
   ]
  },
  {
   "cell_type": "code",
   "execution_count": 46,
   "id": "40fa52f2",
   "metadata": {},
   "outputs": [
    {
     "data": {
      "text/plain": [
       "[[1, 4, 7], [2, 5, 8]]"
      ]
     },
     "execution_count": 46,
     "metadata": {},
     "output_type": "execute_result"
    }
   ],
   "source": [
    "transpose([[1,2],[4,5],[7,8]])"
   ]
  },
  {
   "cell_type": "markdown",
   "id": "d7f14e46",
   "metadata": {},
   "source": [
    " **Question 4**\n",
    "Given an integer array nums of 2n integers, group these integers into n pairs (a1, b1), (a2, b2), ..., (an, bn) such that the sum of min(ai, bi) for all i is **maximized**. Return *the maximized sum*.\n",
    "\n",
    "**Example 1:**\n",
    "\n",
    "Input: nums = [1,4,3,2]\n",
    "\n",
    "Output: 4"
   ]
  },
  {
   "cell_type": "code",
   "execution_count": 73,
   "id": "eb770e01",
   "metadata": {},
   "outputs": [],
   "source": [
    "def maxSum(nums):\n",
    "    #We'll get the maximized sum if we take the sum of every 2nd element after sorting the array nums\n",
    "    nums.sort()\n",
    "    result=0\n",
    "    for i in range(0,len(nums),2):\n",
    "        result+=min(nums[i],nums[i+1])\n",
    "    return result"
   ]
  },
  {
   "cell_type": "code",
   "execution_count": 74,
   "id": "306e0d49",
   "metadata": {},
   "outputs": [
    {
     "data": {
      "text/plain": [
       "4"
      ]
     },
     "execution_count": 74,
     "metadata": {},
     "output_type": "execute_result"
    }
   ],
   "source": [
    "maxSum([1,4,3,2])"
   ]
  },
  {
   "cell_type": "code",
   "execution_count": 75,
   "id": "5ac1f051",
   "metadata": {},
   "outputs": [
    {
     "data": {
      "text/plain": [
       "16"
      ]
     },
     "execution_count": 75,
     "metadata": {},
     "output_type": "execute_result"
    }
   ],
   "source": [
    "maxSum([1,2,3,4,5,6,7,8])"
   ]
  },
  {
   "cell_type": "markdown",
   "id": "0ddba3a5",
   "metadata": {},
   "source": [
    "**Question 5**\n",
    "You have n coins and you want to build a staircase with these coins. The staircase consists of k rows where the ith row has exactly i coins. The last row of the staircase **may be** incomplete.\n",
    "\n",
    "Given the integer n, return *the number of **complete rows** of the staircase you will build*.\n",
    "\n",
    "**Example 1:**\n",
    "\n",
    "**Input:** n = 5\n",
    "\n",
    "**Output:** 2"
   ]
  },
  {
   "cell_type": "code",
   "execution_count": 80,
   "id": "247fef82",
   "metadata": {},
   "outputs": [],
   "source": [
    "def coinstairs(n):\n",
    "    stairs = 0\n",
    "    #we know that k stairs need k(k+1)/2 coins to be made\n",
    "    start=1\n",
    "    end = n  // 2\n",
    "    #Using binary search to find the ideal value of k\n",
    "    while start <= end:\n",
    "        mid = start + (end - start) // 2\n",
    "        if (mid * ( mid + 1)) // 2 <= n:\n",
    "            stairs = mid\n",
    "            start = mid + 1\n",
    "        else:\n",
    "            end = mid - 1\n",
    "    return stairs"
   ]
  },
  {
   "cell_type": "code",
   "execution_count": 77,
   "id": "887f07ca",
   "metadata": {},
   "outputs": [
    {
     "data": {
      "text/plain": [
       "2"
      ]
     },
     "execution_count": 77,
     "metadata": {},
     "output_type": "execute_result"
    }
   ],
   "source": [
    "coinstairs(5)"
   ]
  },
  {
   "cell_type": "code",
   "execution_count": 78,
   "id": "392041ff",
   "metadata": {},
   "outputs": [
    {
     "data": {
      "text/plain": [
       "0"
      ]
     },
     "execution_count": 78,
     "metadata": {},
     "output_type": "execute_result"
    }
   ],
   "source": [
    "coinstairs(0)"
   ]
  },
  {
   "cell_type": "code",
   "execution_count": 79,
   "id": "67a195f8",
   "metadata": {},
   "outputs": [
    {
     "data": {
      "text/plain": [
       "6"
      ]
     },
     "execution_count": 79,
     "metadata": {},
     "output_type": "execute_result"
    }
   ],
   "source": [
    "coinstairs(25)"
   ]
  },
  {
   "cell_type": "markdown",
   "id": "a4827f52",
   "metadata": {},
   "source": [
    "**Question 6**\n",
    "Given an integer array nums sorted in **non-decreasing** order, return *an array of **the squares of each number** sorted in non-decreasing order*.\n",
    "\n",
    "**Example 1:**\n",
    "\n",
    "Input: nums = [-4,-1,0,3,10]\n",
    "\n",
    "Output: [0,1,9,16,100]"
   ]
  },
  {
   "cell_type": "code",
   "execution_count": 51,
   "id": "a0c30a18",
   "metadata": {},
   "outputs": [],
   "source": [
    "def squares(nums):\n",
    "    #using 2 pointer approach to compare absolute values of positive and negative numbers\n",
    "    l=0\n",
    "    r=len(nums)-1\n",
    "    result=[]\n",
    "    while l<=r:\n",
    "        if abs(nums[l])>abs(nums[r]):\n",
    "            result.insert(0,nums[l]**2)\n",
    "            l+=1\n",
    "        else:\n",
    "            result.insert(0,nums[r]**2)\n",
    "            r-=1\n",
    "    return result"
   ]
  },
  {
   "cell_type": "code",
   "execution_count": 52,
   "id": "075a5c3a",
   "metadata": {},
   "outputs": [
    {
     "data": {
      "text/plain": [
       "[0, 1, 9, 16, 100]"
      ]
     },
     "execution_count": 52,
     "metadata": {},
     "output_type": "execute_result"
    }
   ],
   "source": [
    "squares([-4,-1,0,3,10])"
   ]
  },
  {
   "cell_type": "code",
   "execution_count": 54,
   "id": "945d7d7b",
   "metadata": {},
   "outputs": [
    {
     "data": {
      "text/plain": [
       "[1, 16, 36, 49]"
      ]
     },
     "execution_count": 54,
     "metadata": {},
     "output_type": "execute_result"
    }
   ],
   "source": [
    "squares([-7,-6,-4,-1])"
   ]
  },
  {
   "cell_type": "markdown",
   "id": "29ca9393",
   "metadata": {},
   "source": [
    "**Question 7**\n",
    "You are given an m x n matrix M initialized with all 0's and an array of operations ops, where ops[i] = [ai, bi] means M[x][y] should be incremented by one for all 0 <= x < ai and 0 <= y < bi.\n",
    "\n",
    "Count and return *the number of maximum integers in the matrix after performing all the operations*\n",
    "\n",
    "**Example 1:**\n",
    "\n",
    "**Input:** m = 3, n = 3, ops = [[2,2],[3,3]]\n",
    "\n",
    "**Output:** 4"
   ]
  },
  {
   "cell_type": "code",
   "execution_count": 65,
   "id": "30a75b89",
   "metadata": {},
   "outputs": [],
   "source": [
    "def maxInt(m,n,ops):\n",
    "    #the maximum interger will be at the matrix with the least dimensions. As all the operations will take place on it\n",
    "    for i,j in ops:\n",
    "        m=min(i,m)\n",
    "        n=min(j,n)\n",
    "    return m*n"
   ]
  },
  {
   "cell_type": "code",
   "execution_count": 66,
   "id": "361bad04",
   "metadata": {},
   "outputs": [
    {
     "data": {
      "text/plain": [
       "4"
      ]
     },
     "execution_count": 66,
     "metadata": {},
     "output_type": "execute_result"
    }
   ],
   "source": [
    "maxInt(m = 3, n = 3, ops = [[2,2],[3,3]])"
   ]
  },
  {
   "cell_type": "code",
   "execution_count": 70,
   "id": "0909d886",
   "metadata": {},
   "outputs": [
    {
     "data": {
      "text/plain": [
       "6"
      ]
     },
     "execution_count": 70,
     "metadata": {},
     "output_type": "execute_result"
    }
   ],
   "source": [
    "maxInt(4,5,[[3,2],[4,3],[3,4]])"
   ]
  },
  {
   "cell_type": "markdown",
   "id": "a51c9b7e",
   "metadata": {},
   "source": [
    "**Question 8**\n",
    "\n",
    "Given the array nums consisting of 2n elements in the form [x1,x2,...,xn,y1,y2,...,yn].\n",
    "\n",
    "*Return the array in the form* [x1,y1,x2,y2,...,xn,yn].\n",
    "\n",
    "**Example 1:**\n",
    "\n",
    "**Input:** nums = [2,5,1,3,4,7], n = 3\n",
    "\n",
    "**Output:** [2,3,5,4,1,7]"
   ]
  },
  {
   "cell_type": "code",
   "execution_count": 62,
   "id": "7e714f49",
   "metadata": {},
   "outputs": [],
   "source": [
    "def pattern(nums,n):\n",
    "    i=0\n",
    "    result=[]\n",
    "    while i<n:\n",
    "        #adding ith and (i+n)th element to the result\n",
    "        result.append(nums[i])\n",
    "        result.append(nums[n+i])\n",
    "        i+=1\n",
    "    return result"
   ]
  },
  {
   "cell_type": "code",
   "execution_count": 63,
   "id": "8aff5e74",
   "metadata": {},
   "outputs": [
    {
     "data": {
      "text/plain": [
       "[2, 3, 5, 4, 1, 7]"
      ]
     },
     "execution_count": 63,
     "metadata": {},
     "output_type": "execute_result"
    }
   ],
   "source": [
    "pattern(nums = [2,5,1,3,4,7], n = 3)"
   ]
  },
  {
   "cell_type": "code",
   "execution_count": 64,
   "id": "cff0dcf1",
   "metadata": {},
   "outputs": [
    {
     "data": {
      "text/plain": [
       "[1, 5, 2, 6, 3, 7, 4, 8]"
      ]
     },
     "execution_count": 64,
     "metadata": {},
     "output_type": "execute_result"
    }
   ],
   "source": [
    "pattern([1,2,3,4,5,6,7,8],4)"
   ]
  },
  {
   "cell_type": "code",
   "execution_count": null,
   "id": "340be6cb",
   "metadata": {},
   "outputs": [],
   "source": []
  }
 ],
 "metadata": {
  "kernelspec": {
   "display_name": "Python 3 (ipykernel)",
   "language": "python",
   "name": "python3"
  },
  "language_info": {
   "codemirror_mode": {
    "name": "ipython",
    "version": 3
   },
   "file_extension": ".py",
   "mimetype": "text/x-python",
   "name": "python",
   "nbconvert_exporter": "python",
   "pygments_lexer": "ipython3",
   "version": "3.8.11"
  }
 },
 "nbformat": 4,
 "nbformat_minor": 5
}
