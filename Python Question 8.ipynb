{
 "cells": [
  {
   "cell_type": "markdown",
   "id": "059afe31",
   "metadata": {},
   "source": [
    "**Question 8** -\n",
    "Using the data from Question 5, write code the analyze the data and answer the following questions Note -\n",
    "\n",
    "1. Draw plots to demonstrate the analysis for the following questions and better visualizations\n",
    "\n",
    "2. Write code comments wherever required for code understanding\n",
    "\n",
    "**Insights to be drawn** -\n",
    "\n",
    "● Get all the overall ratings for each season and using plots compare the ratings for all the\n",
    "seasons, like season 1 ratings, season 2, and so on.\n",
    "\n",
    "● Get all the episode names, whose average rating is more than 8 for every season\n",
    "\n",
    "● Get all the episode names that aired before May 2019\n",
    "\n",
    "● Get the episode name from each season with the highest and lowest rating\n",
    "\n",
    "● Get the summary for the most popular ( ratings ) episode in every season"
   ]
  },
  {
   "cell_type": "code",
   "execution_count": 12,
   "id": "ecb5205b",
   "metadata": {},
   "outputs": [],
   "source": [
    "from urllib.request import urlopen\n",
    "import json \n",
    "import pandas as pd\n",
    "import numpy as np\n",
    "import matplotlib.pyplot as plt\n",
    "import seaborn as sns"
   ]
  },
  {
   "cell_type": "code",
   "execution_count": 2,
   "id": "30421b0d",
   "metadata": {},
   "outputs": [],
   "source": [
    "# store the response of URL\n",
    "response = urlopen('http://api.tvmaze.com/singlesearch/shows?q=westworld&embed=episodes')"
   ]
  },
  {
   "cell_type": "code",
   "execution_count": 3,
   "id": "6eff8e65",
   "metadata": {},
   "outputs": [],
   "source": [
    "url_data=json.loads(response.read())"
   ]
  },
  {
   "cell_type": "code",
   "execution_count": 4,
   "id": "599a75be",
   "metadata": {},
   "outputs": [],
   "source": [
    "#Extracting required data from _embedded column from url_data\n",
    "url_data = pd.DataFrame.from_records(url_data['_embedded']['episodes'])"
   ]
  },
  {
   "cell_type": "code",
   "execution_count": 5,
   "id": "37fa7dd5",
   "metadata": {},
   "outputs": [],
   "source": [
    "#Changing all the columns in required format\n",
    "url_data['airdate']=url_data['airdate'].astype('datetime64[ns]')\n",
    "url_data['airtime']=pd.to_datetime(url_data['airtime']).dt.strftime(\"%I:%M %p\")\n",
    "url_data['runtime']=url_data['runtime'].astype('float')\n",
    "url_data['rating']=url_data['rating'].apply(lambda x: x['average'])\n",
    "url_data['medium_image_link']=url_data['image'].apply(lambda x: x['medium'])\n",
    "url_data['original_image_link']=url_data['image'].apply(lambda x: x['original'])"
   ]
  },
  {
   "cell_type": "code",
   "execution_count": 6,
   "id": "dd78d4cd",
   "metadata": {},
   "outputs": [],
   "source": [
    "#Extrating summary without html tag\n",
    "from bs4 import BeautifulSoup as bs\n",
    "url_data['summary']=url_data['summary'].apply(lambda x: bs(x,'html.parser').find('p').getText())"
   ]
  },
  {
   "cell_type": "code",
   "execution_count": 7,
   "id": "0b82fbaa",
   "metadata": {},
   "outputs": [],
   "source": [
    "#Dropping columns that are not required in output extract\n",
    "url_data.drop(['airstamp','image','_links'],axis=1,inplace=True)"
   ]
  },
  {
   "cell_type": "code",
   "execution_count": 8,
   "id": "402e4af9",
   "metadata": {},
   "outputs": [
    {
     "data": {
      "text/html": [
       "<div>\n",
       "<style scoped>\n",
       "    .dataframe tbody tr th:only-of-type {\n",
       "        vertical-align: middle;\n",
       "    }\n",
       "\n",
       "    .dataframe tbody tr th {\n",
       "        vertical-align: top;\n",
       "    }\n",
       "\n",
       "    .dataframe thead th {\n",
       "        text-align: right;\n",
       "    }\n",
       "</style>\n",
       "<table border=\"1\" class=\"dataframe\">\n",
       "  <thead>\n",
       "    <tr style=\"text-align: right;\">\n",
       "      <th></th>\n",
       "      <th>id</th>\n",
       "      <th>url</th>\n",
       "      <th>name</th>\n",
       "      <th>season</th>\n",
       "      <th>number</th>\n",
       "      <th>type</th>\n",
       "      <th>airdate</th>\n",
       "      <th>airtime</th>\n",
       "      <th>runtime</th>\n",
       "      <th>rating</th>\n",
       "      <th>summary</th>\n",
       "      <th>medium_image_link</th>\n",
       "      <th>original_image_link</th>\n",
       "    </tr>\n",
       "  </thead>\n",
       "  <tbody>\n",
       "    <tr>\n",
       "      <th>0</th>\n",
       "      <td>869671</td>\n",
       "      <td>https://www.tvmaze.com/episodes/869671/westwor...</td>\n",
       "      <td>The Original</td>\n",
       "      <td>1</td>\n",
       "      <td>1</td>\n",
       "      <td>regular</td>\n",
       "      <td>2016-10-02</td>\n",
       "      <td>09:00 PM</td>\n",
       "      <td>68.0</td>\n",
       "      <td>8.0</td>\n",
       "      <td>A woman named Dolores is a free spirit in the ...</td>\n",
       "      <td>https://static.tvmaze.com/uploads/images/mediu...</td>\n",
       "      <td>https://static.tvmaze.com/uploads/images/origi...</td>\n",
       "    </tr>\n",
       "    <tr>\n",
       "      <th>1</th>\n",
       "      <td>911201</td>\n",
       "      <td>https://www.tvmaze.com/episodes/911201/westwor...</td>\n",
       "      <td>Chestnut</td>\n",
       "      <td>1</td>\n",
       "      <td>2</td>\n",
       "      <td>regular</td>\n",
       "      <td>2016-10-09</td>\n",
       "      <td>09:00 PM</td>\n",
       "      <td>60.0</td>\n",
       "      <td>7.7</td>\n",
       "      <td>Bernard suspects that someone is sabotaging th...</td>\n",
       "      <td>https://static.tvmaze.com/uploads/images/mediu...</td>\n",
       "      <td>https://static.tvmaze.com/uploads/images/origi...</td>\n",
       "    </tr>\n",
       "    <tr>\n",
       "      <th>2</th>\n",
       "      <td>911204</td>\n",
       "      <td>https://www.tvmaze.com/episodes/911204/westwor...</td>\n",
       "      <td>The Stray</td>\n",
       "      <td>1</td>\n",
       "      <td>3</td>\n",
       "      <td>regular</td>\n",
       "      <td>2016-10-16</td>\n",
       "      <td>09:00 PM</td>\n",
       "      <td>60.0</td>\n",
       "      <td>7.6</td>\n",
       "      <td>Bernard continues to investigate Dolores' supp...</td>\n",
       "      <td>https://static.tvmaze.com/uploads/images/mediu...</td>\n",
       "      <td>https://static.tvmaze.com/uploads/images/origi...</td>\n",
       "    </tr>\n",
       "    <tr>\n",
       "      <th>3</th>\n",
       "      <td>911205</td>\n",
       "      <td>https://www.tvmaze.com/episodes/911205/westwor...</td>\n",
       "      <td>Dissonance Theory</td>\n",
       "      <td>1</td>\n",
       "      <td>4</td>\n",
       "      <td>regular</td>\n",
       "      <td>2016-10-23</td>\n",
       "      <td>09:00 PM</td>\n",
       "      <td>60.0</td>\n",
       "      <td>7.9</td>\n",
       "      <td>While Dolores joins William and Logan on their...</td>\n",
       "      <td>https://static.tvmaze.com/uploads/images/mediu...</td>\n",
       "      <td>https://static.tvmaze.com/uploads/images/origi...</td>\n",
       "    </tr>\n",
       "    <tr>\n",
       "      <th>4</th>\n",
       "      <td>927174</td>\n",
       "      <td>https://www.tvmaze.com/episodes/927174/westwor...</td>\n",
       "      <td>Contrapasso</td>\n",
       "      <td>1</td>\n",
       "      <td>5</td>\n",
       "      <td>regular</td>\n",
       "      <td>2016-10-30</td>\n",
       "      <td>09:00 PM</td>\n",
       "      <td>60.0</td>\n",
       "      <td>8.0</td>\n",
       "      <td>Dolores takes the first step on her path of di...</td>\n",
       "      <td>https://static.tvmaze.com/uploads/images/mediu...</td>\n",
       "      <td>https://static.tvmaze.com/uploads/images/origi...</td>\n",
       "    </tr>\n",
       "  </tbody>\n",
       "</table>\n",
       "</div>"
      ],
      "text/plain": [
       "       id                                                url  \\\n",
       "0  869671  https://www.tvmaze.com/episodes/869671/westwor...   \n",
       "1  911201  https://www.tvmaze.com/episodes/911201/westwor...   \n",
       "2  911204  https://www.tvmaze.com/episodes/911204/westwor...   \n",
       "3  911205  https://www.tvmaze.com/episodes/911205/westwor...   \n",
       "4  927174  https://www.tvmaze.com/episodes/927174/westwor...   \n",
       "\n",
       "                name  season  number     type    airdate   airtime  runtime  \\\n",
       "0       The Original       1       1  regular 2016-10-02  09:00 PM     68.0   \n",
       "1           Chestnut       1       2  regular 2016-10-09  09:00 PM     60.0   \n",
       "2          The Stray       1       3  regular 2016-10-16  09:00 PM     60.0   \n",
       "3  Dissonance Theory       1       4  regular 2016-10-23  09:00 PM     60.0   \n",
       "4        Contrapasso       1       5  regular 2016-10-30  09:00 PM     60.0   \n",
       "\n",
       "   rating                                            summary  \\\n",
       "0     8.0  A woman named Dolores is a free spirit in the ...   \n",
       "1     7.7  Bernard suspects that someone is sabotaging th...   \n",
       "2     7.6  Bernard continues to investigate Dolores' supp...   \n",
       "3     7.9  While Dolores joins William and Logan on their...   \n",
       "4     8.0  Dolores takes the first step on her path of di...   \n",
       "\n",
       "                                   medium_image_link  \\\n",
       "0  https://static.tvmaze.com/uploads/images/mediu...   \n",
       "1  https://static.tvmaze.com/uploads/images/mediu...   \n",
       "2  https://static.tvmaze.com/uploads/images/mediu...   \n",
       "3  https://static.tvmaze.com/uploads/images/mediu...   \n",
       "4  https://static.tvmaze.com/uploads/images/mediu...   \n",
       "\n",
       "                                 original_image_link  \n",
       "0  https://static.tvmaze.com/uploads/images/origi...  \n",
       "1  https://static.tvmaze.com/uploads/images/origi...  \n",
       "2  https://static.tvmaze.com/uploads/images/origi...  \n",
       "3  https://static.tvmaze.com/uploads/images/origi...  \n",
       "4  https://static.tvmaze.com/uploads/images/origi...  "
      ]
     },
     "execution_count": 8,
     "metadata": {},
     "output_type": "execute_result"
    }
   ],
   "source": [
    "url_data.head()"
   ]
  },
  {
   "cell_type": "markdown",
   "id": "b3572a9e",
   "metadata": {},
   "source": [
    "**Get all the overall ratings for each season and using plots compare the ratings for all the seasons, like season 1 ratings, season 2, and so on.**"
   ]
  },
  {
   "cell_type": "code",
   "execution_count": 9,
   "id": "dc770f95",
   "metadata": {},
   "outputs": [
    {
     "data": {
      "text/html": [
       "<div>\n",
       "<style scoped>\n",
       "    .dataframe tbody tr th:only-of-type {\n",
       "        vertical-align: middle;\n",
       "    }\n",
       "\n",
       "    .dataframe tbody tr th {\n",
       "        vertical-align: top;\n",
       "    }\n",
       "\n",
       "    .dataframe thead th {\n",
       "        text-align: right;\n",
       "    }\n",
       "</style>\n",
       "<table border=\"1\" class=\"dataframe\">\n",
       "  <thead>\n",
       "    <tr style=\"text-align: right;\">\n",
       "      <th></th>\n",
       "      <th>rating</th>\n",
       "    </tr>\n",
       "    <tr>\n",
       "      <th>season</th>\n",
       "      <th></th>\n",
       "    </tr>\n",
       "  </thead>\n",
       "  <tbody>\n",
       "    <tr>\n",
       "      <th>1</th>\n",
       "      <td>8.0900</td>\n",
       "    </tr>\n",
       "    <tr>\n",
       "      <th>2</th>\n",
       "      <td>8.0000</td>\n",
       "    </tr>\n",
       "    <tr>\n",
       "      <th>3</th>\n",
       "      <td>7.7750</td>\n",
       "    </tr>\n",
       "    <tr>\n",
       "      <th>4</th>\n",
       "      <td>7.5375</td>\n",
       "    </tr>\n",
       "  </tbody>\n",
       "</table>\n",
       "</div>"
      ],
      "text/plain": [
       "        rating\n",
       "season        \n",
       "1       8.0900\n",
       "2       8.0000\n",
       "3       7.7750\n",
       "4       7.5375"
      ]
     },
     "execution_count": 9,
     "metadata": {},
     "output_type": "execute_result"
    }
   ],
   "source": [
    "url_data.groupby('season').agg({'rating':'mean'})"
   ]
  },
  {
   "cell_type": "code",
   "execution_count": 10,
   "id": "9a933ac7",
   "metadata": {},
   "outputs": [],
   "source": [
    "temp_df=url_data.groupby('season').agg({'rating':'mean'}).reset_index()"
   ]
  },
  {
   "cell_type": "code",
   "execution_count": 13,
   "id": "5ba9184b",
   "metadata": {},
   "outputs": [
    {
     "name": "stderr",
     "output_type": "stream",
     "text": [
      "C:\\Users\\Upasana\\anaconda3\\lib\\site-packages\\seaborn\\_decorators.py:36: FutureWarning: Pass the following variables as keyword args: x, y. From version 0.12, the only valid positional argument will be `data`, and passing other arguments without an explicit keyword will result in an error or misinterpretation.\n",
      "  warnings.warn(\n"
     ]
    },
    {
     "data": {
      "text/plain": [
       "Text(0, 0.5, 'Average rating')"
      ]
     },
     "execution_count": 13,
     "metadata": {},
     "output_type": "execute_result"
    },
    {
     "data": {
      "image/png": "[encoded data removed]",
      "text/plain": [
       "<Figure size 864x576 with 1 Axes>"
      ]
     },
     "metadata": {
      "needs_background": "light"
     },
     "output_type": "display_data"
    }
   ],
   "source": [
    "plt.figure(figsize=(12,8))\n",
    "sns.barplot('season', 'rating', data=temp_df)\n",
    "plt.title('Average rating of different season')\n",
    "plt.xlabel('Seasons')\n",
    "plt.ylabel('Average rating')"
   ]
  },
  {
   "cell_type": "markdown",
   "id": "81599395",
   "metadata": {},
   "source": [
    "**Get all the episode names, whose average rating is more than 8 for every season**"
   ]
  },
  {
   "cell_type": "code",
   "execution_count": 14,
   "id": "e535d2b1",
   "metadata": {},
   "outputs": [
    {
     "data": {
      "text/plain": [
       "array([\"Trompe L'Oeil\", 'The Well-Tempered Clavier', 'The Bicameral Mind',\n",
       "       'Kiksuya', 'Vanishing Point', 'The Passenger'], dtype=object)"
      ]
     },
     "execution_count": 14,
     "metadata": {},
     "output_type": "execute_result"
    }
   ],
   "source": [
    "url_data[url_data.rating>8].name.unique()"
   ]
  },
  {
   "cell_type": "code",
   "execution_count": 15,
   "id": "8fb416c2",
   "metadata": {},
   "outputs": [
    {
     "data": {
      "text/plain": [
       "6"
      ]
     },
     "execution_count": 15,
     "metadata": {},
     "output_type": "execute_result"
    }
   ],
   "source": [
    "url_data[url_data.rating>8].name.nunique()    #There are 6 episodes with rating more than 8"
   ]
  },
  {
   "cell_type": "markdown",
   "id": "510e15b2",
   "metadata": {},
   "source": [
    "**Get all the episode names that aired before May 2019**"
   ]
  },
  {
   "cell_type": "code",
   "execution_count": 16,
   "id": "3b8cb990",
   "metadata": {},
   "outputs": [],
   "source": [
    "url_data['airdate_YYYYMM']=url_data['airdate'].dt.strftime('%Y-%m')"
   ]
  },
  {
   "cell_type": "code",
   "execution_count": 17,
   "id": "8b50382f",
   "metadata": {},
   "outputs": [
    {
     "data": {
      "text/plain": [
       "array(['The Original', 'Chestnut', 'The Stray', 'Dissonance Theory',\n",
       "       'Contrapasso', 'The Adversary', \"Trompe L'Oeil\", 'Trace Decay',\n",
       "       'The Well-Tempered Clavier', 'The Bicameral Mind',\n",
       "       'Journey Into Night', 'Reunion', 'Virtù e Fortuna',\n",
       "       'The Riddle of the Sphinx', 'Akane No Mai', 'Phase Space',\n",
       "       'Les Écorchés', 'Kiksuya', 'Vanishing Point', 'The Passenger'],\n",
       "      dtype=object)"
      ]
     },
     "execution_count": 17,
     "metadata": {},
     "output_type": "execute_result"
    }
   ],
   "source": [
    "url_data[url_data.airdate_YYYYMM<'2019-05'].name.unique()"
   ]
  },
  {
   "cell_type": "code",
   "execution_count": 18,
   "id": "73af46c5",
   "metadata": {},
   "outputs": [
    {
     "data": {
      "text/plain": [
       "20"
      ]
     },
     "execution_count": 18,
     "metadata": {},
     "output_type": "execute_result"
    }
   ],
   "source": [
    "url_data[url_data.airdate_YYYYMM<'2019-05'].name.nunique()      #There are 20 episodes that aired before May 2019"
   ]
  },
  {
   "cell_type": "markdown",
   "id": "3516f8e5",
   "metadata": {},
   "source": [
    "**Get the episode name from each season with the highest and lowest rating.**"
   ]
  },
  {
   "cell_type": "code",
   "execution_count": 19,
   "id": "b8927bba",
   "metadata": {},
   "outputs": [
    {
     "name": "stdout",
     "output_type": "stream",
     "text": [
      "Episode of Season 1 with highest rating is The Bicameral Mind.\n",
      "\n",
      "Episode of Season 1 with lowest rating is The Stray.\n",
      "\n",
      "Episode of Season 2 with highest rating is Kiksuya.\n",
      "\n",
      "Episode of Season 2 with lowest rating is Akane No Mai.\n",
      "\n",
      "Episode of Season 3 with highest rating is Parce Domine.\n",
      "\n",
      "Episode of Season 3 with lowest rating is Decoherence.\n",
      "\n",
      "Episode of Season 4 with highest rating is Zhuangzi.\n",
      "\n",
      "Episode of Season 4 with lowest rating is The Auguries.\n",
      "\n"
     ]
    }
   ],
   "source": [
    "for i in range(1,5):\n",
    "    max_rating=url_data[(url_data.season==i)].rating.max()\n",
    "    min_rating=url_data[(url_data.season==i)].rating.min()\n",
    "    max_epi=url_data[(url_data.season==i)&(url_data.rating==max_rating)].index[0]\n",
    "    min_epi=url_data[(url_data.season==i)&(url_data.rating==min_rating)].index[0]\n",
    "    max_epi_name=url_data.iloc[max_epi]['name']\n",
    "    min_epi_name=url_data.iloc[min_epi]['name']\n",
    "    print(f'Episode of Season {i} with highest rating is {max_epi_name}.\\n')\n",
    "    print(f'Episode of Season {i} with lowest rating is {min_epi_name}.\\n')"
   ]
  },
  {
   "cell_type": "markdown",
   "id": "fed81936",
   "metadata": {},
   "source": [
    "**Get the summary for the most popular ( ratings ) episode in every season.**"
   ]
  },
  {
   "cell_type": "code",
   "execution_count": 20,
   "id": "93353ab5",
   "metadata": {
    "scrolled": true
   },
   "outputs": [
    {
     "name": "stdout",
     "output_type": "stream",
     "text": [
      "Summary of most popular episode of Season 1:\n",
      "\n",
      "Delores finds out the truth about William's fate. Meanwhile, Maeve organizes an escape plan, only to discover that someone else is pulling the strings. And Robert plays the final piece in his grand narrative. \n",
      "\n",
      "Summary of most popular episode of Season 2:\n",
      "\n",
      "Another of Westworld's Host revolutionaries is revealed. Meanwhile, Emily finds the Man and convinces the Ghost Nation to hand him over to her to ensure his suffering. \n",
      "\n",
      "Summary of most popular episode of Season 3:\n",
      "\n",
      "If you're stuck in a loop, try walking in a straight line. \n",
      "\n",
      "Summary of most popular episode of Season 4:\n",
      "\n",
      "God is bored. \n",
      "\n"
     ]
    }
   ],
   "source": [
    "for i in range(1,5):\n",
    "    max_rating=url_data[(url_data.season==i)].rating.max()\n",
    "    popular_epi=url_data[(url_data.season==i)&(url_data.rating==max_rating)].index[0]\n",
    "    print(f'Summary of most popular episode of Season {i}:\\n')\n",
    "    print(str(url_data.iloc[popular_epi].summary),'\\n')"
   ]
  },
  {
   "cell_type": "code",
   "execution_count": null,
   "id": "dd4bf7ad",
   "metadata": {},
   "outputs": [],
   "source": []
  },
  {
   "cell_type": "code",
   "execution_count": null,
   "id": "273efcef",
   "metadata": {},
   "outputs": [],
   "source": []
  }
 ],
 "metadata": {
  "kernelspec": {
   "display_name": "Python 3 (ipykernel)",
   "language": "python",
   "name": "python3"
  },
  "language_info": {
   "codemirror_mode": {
    "name": "ipython",
    "version": 3
   },
   "file_extension": ".py",
   "mimetype": "text/x-python",
   "name": "python",
   "nbconvert_exporter": "python",
   "pygments_lexer": "ipython3",
   "version": "3.8.11"
  }
 },
 "nbformat": 4,
 "nbformat_minor": 5
}
