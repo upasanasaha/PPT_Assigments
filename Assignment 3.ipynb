{
 "cells": [
  {
   "cell_type": "markdown",
   "id": "170cd2c4",
   "metadata": {},
   "source": [
    "**Question 1**\n",
    "\n",
    "Given an integer array nums of length n and an integer target, find three integers\n",
    "in nums such that the sum is closest to the target.\n",
    "Return the sum of the three integers.\n",
    "\n",
    "You may assume that each input would have exactly one solution.\n",
    "\n",
    "**Example 1:**\n",
    "\n",
    "Input: nums = [-1,2,1,-4], target = 1\n",
    "\n",
    "Output: 2"
   ]
  },
  {
   "cell_type": "code",
   "execution_count": 122,
   "id": "832656b8",
   "metadata": {},
   "outputs": [],
   "source": [
    "def closestTarget(nums,target):\n",
    "    nums.sort()\n",
    "    if len(nums)==0:\n",
    "        return 0\n",
    "    if len(nums)==1:\n",
    "        return nums[0]\n",
    "    if len(nums)==2:\n",
    "        return nums[0]+nums[1]\n",
    "    closestSum=nums[0]+nums[1]+nums[2]\n",
    "    curSum=nums[0]+nums[1]+nums[2] \n",
    "    for i in range(len(nums)-2):\n",
    "        l=i+1\n",
    "        r=len(nums)-1\n",
    "        while l<r:\n",
    "            curSum=nums[i]+nums[l]+nums[r]\n",
    "            if curSum==target:\n",
    "                return curSum\n",
    "            elif (target-curSum)<(target-closestSum):\n",
    "                closestSum=curSum\n",
    "            if curSum <= target:\n",
    "                l+= 1\n",
    "                while (nums[l] == nums[l - 1] & l < r):\n",
    "                    l += 1\n",
    "            else:\n",
    "                 r-= 1\n",
    "    return closestSum                "
   ]
  },
  {
   "cell_type": "code",
   "execution_count": 123,
   "id": "cf854650",
   "metadata": {},
   "outputs": [
    {
     "data": {
      "text/plain": [
       "2"
      ]
     },
     "execution_count": 123,
     "metadata": {},
     "output_type": "execute_result"
    }
   ],
   "source": [
    "closestTarget([-1,2,1,-4],1)"
   ]
  },
  {
   "cell_type": "code",
   "execution_count": 124,
   "id": "33f91a6c",
   "metadata": {},
   "outputs": [
    {
     "data": {
      "text/plain": [
       "9"
      ]
     },
     "execution_count": 124,
     "metadata": {},
     "output_type": "execute_result"
    }
   ],
   "source": [
    "closestTarget([1,4,-3,2,1,6],9)"
   ]
  },
  {
   "cell_type": "code",
   "execution_count": 125,
   "id": "4aba6b02",
   "metadata": {},
   "outputs": [
    {
     "data": {
      "text/plain": [
       "7"
      ]
     },
     "execution_count": 125,
     "metadata": {},
     "output_type": "execute_result"
    }
   ],
   "source": [
    "closestTarget([7],8)"
   ]
  },
  {
   "cell_type": "markdown",
   "id": "9274a10b",
   "metadata": {},
   "source": [
    "**Question 2**\n",
    "\n",
    "Given an array nums of n integers, return an array of all the unique quadruplets\n",
    "[nums[a], nums[b], nums[c], nums[d]] such that:\n",
    "\n",
    "           ● 0 <= a, b, c, d < n\n",
    "           \n",
    "           ● a, b, c, and d are distinct.\n",
    "           \n",
    "           ● nums[a] + nums[b] + nums[c] + nums[d] == target\n",
    "\n",
    "You may return the answer in any order.\n",
    "\n",
    "**Example 1:**\n",
    "\n",
    "Input: nums = [1,0,-1,0,-2,2], target = 0\n",
    "\n",
    "Output: [[-2,-1,1,2],[-2,0,0,2],[-1,0,0,1]]"
   ]
  },
  {
   "cell_type": "code",
   "execution_count": 148,
   "id": "26c1c22d",
   "metadata": {},
   "outputs": [],
   "source": [
    "def fourSum(nums,target):\n",
    "    nums.sort()\n",
    "    n=len(nums)\n",
    "    result=[]\n",
    "    for i in range(len(nums)-3):\n",
    "        for j in range(i+1,len(nums)-2):\n",
    "            newTarget = target-nums[i]-nums[j]\n",
    "            l=j+1\n",
    "            r=n-1\n",
    "            while l<r:\n",
    "                if nums[l]+nums[r]==newTarget:\n",
    "                    result.append([nums[i],nums[j],nums[l],nums[r]])\n",
    "                    r-=1\n",
    "                    l+=1\n",
    "                elif nums[l]+nums[r]<newTarget:\n",
    "                    l+=1\n",
    "                else:\n",
    "                    r-=1\n",
    "    return result"
   ]
  },
  {
   "cell_type": "code",
   "execution_count": 149,
   "id": "bebc9fac",
   "metadata": {},
   "outputs": [
    {
     "data": {
      "text/plain": [
       "[[-2, -1, 1, 2], [-2, 0, 0, 2], [-1, 0, 0, 1]]"
      ]
     },
     "execution_count": 149,
     "metadata": {},
     "output_type": "execute_result"
    }
   ],
   "source": [
    "fourSum([1,0,-1,0,-2,2],0)"
   ]
  },
  {
   "cell_type": "code",
   "execution_count": 150,
   "id": "6172de68",
   "metadata": {},
   "outputs": [
    {
     "data": {
      "text/plain": [
       "[[-1, 0, 1, 2], [-1, 0, 1, 2]]"
      ]
     },
     "execution_count": 150,
     "metadata": {},
     "output_type": "execute_result"
    }
   ],
   "source": [
    "fourSum([1,0,-1,0,-2,2],2)"
   ]
  },
  {
   "cell_type": "markdown",
   "id": "7fd79994",
   "metadata": {},
   "source": [
    "**Question 3**\n",
    "\n",
    "A permutation of an array of integers is an arrangement of its members into a\n",
    "sequence or linear order.\n",
    "\n",
    "For example, for arr = [1,2,3], the following are all the permutations of arr:\n",
    "[1,2,3], [1,3,2], [2, 1, 3], [2, 3, 1], [3,1,2], [3,2,1].\n",
    "\n",
    "The next permutation of an array of integers is the next lexicographically greater\n",
    "permutation of its integer. More formally, if all the permutations of the array are\n",
    "sorted in one container according to their lexicographical order, then the next\n",
    "permutation of that array is the permutation that follows it in the sorted container.\n",
    "\n",
    "If such an arrangement is not possible, the array must be rearranged as the\n",
    "lowest possible order (i.e., sorted in ascending order).\n",
    "\n",
    "● For example, the next permutation of arr = [1,2,3] is [1,3,2].\n",
    "\n",
    "● Similarly, the next permutation of arr = [2,3,1] is [3,1,2].\n",
    "\n",
    "● While the next permutation of arr = [3,2,1] is [1,2,3] because [3,2,1] does not\n",
    "have a lexicographical larger rearrangement.\n",
    "\n",
    "Given an array of integers nums, find the next permutation of nums.\n",
    "The replacement must be in place and use only constant extra memory.\n",
    "\n",
    "**Example 1:**\n",
    "\n",
    "Input: nums = [1,2,3]\n",
    "\n",
    "Output: [1,3,2]"
   ]
  },
  {
   "cell_type": "code",
   "execution_count": 1,
   "id": "e8cdc896",
   "metadata": {},
   "outputs": [],
   "source": [
    "def nextSeq(nums):\n",
    "    point=-1\n",
    "    next_high=-1\n",
    "    #Finding the pivotpoint from right the first occurance where ith element is smaller than (i+1)th element\n",
    "    for i in range(len(nums)-2,0,-1):\n",
    "        if nums[i]<nums[i+1]:\n",
    "            point=i\n",
    "            break\n",
    "    #If there's no such pivot point then the array is in decsending order and the next permutation is the reverse\n",
    "    if point==-1:\n",
    "        nums.reverse()\n",
    "        return nums\n",
    "    #If there is a pivot oint, then have to swap the next highest number on the right with that number and swap\n",
    "    #everything on the right of the pivot ith element is smaller than (i+1)th element\n",
    "    for i in range(point+1,len(nums)-1):\n",
    "        if nums[i]>nums[point]:\n",
    "            next_high=i\n",
    "    nums[next_high],nums[point]=nums[point],nums[next_high]\n",
    "    result=nums[0:point+1]+nums[:point:-1]\n",
    "    return result"
   ]
  },
  {
   "cell_type": "code",
   "execution_count": 4,
   "id": "c708dc2a",
   "metadata": {},
   "outputs": [
    {
     "data": {
      "text/plain": [
       "[1, 3, 2]"
      ]
     },
     "execution_count": 4,
     "metadata": {},
     "output_type": "execute_result"
    }
   ],
   "source": [
    "nextSeq([1,2,3])"
   ]
  },
  {
   "cell_type": "code",
   "execution_count": 5,
   "id": "ecca70ba",
   "metadata": {},
   "outputs": [
    {
     "data": {
      "text/plain": [
       "[1, 2, 3]"
      ]
     },
     "execution_count": 5,
     "metadata": {},
     "output_type": "execute_result"
    }
   ],
   "source": [
    "nextSeq([3,2,1])"
   ]
  },
  {
   "cell_type": "code",
   "execution_count": 2,
   "id": "5ee83879",
   "metadata": {},
   "outputs": [
    {
     "data": {
      "text/plain": [
       "[1, 5, 8, 4, 5, 6, 4, 1, 3, 7]"
      ]
     },
     "execution_count": 2,
     "metadata": {},
     "output_type": "execute_result"
    }
   ],
   "source": [
    "nextSeq([1,5,8,4,5,6,3,7,4,1])"
   ]
  },
  {
   "cell_type": "code",
   "execution_count": 6,
   "id": "e389c843",
   "metadata": {},
   "outputs": [
    {
     "data": {
      "text/plain": [
       "[1, 5, 8, 4, 5, 6, 3, 7, 4, 1]"
      ]
     },
     "execution_count": 6,
     "metadata": {},
     "output_type": "execute_result"
    }
   ],
   "source": [
    "nextSeq([1,5,8,4,5,6,3,7,1,4])"
   ]
  },
  {
   "cell_type": "markdown",
   "id": "4dde3552",
   "metadata": {},
   "source": [
    "**Question 4**\n",
    "\n",
    "Given a sorted array of distinct integers and a target value, return the index if the\n",
    "target is found. If not, return the index where it would be if it were inserted in\n",
    "order.\n",
    "\n",
    "You must write an algorithm with O(log n) runtime complexity.\n",
    "\n",
    "**Example 1:**\n",
    "\n",
    "Input: nums = [1,3,5,6], target = 5\n",
    "\n",
    "Output: 2"
   ]
  },
  {
   "cell_type": "code",
   "execution_count": 17,
   "id": "c80f5356",
   "metadata": {},
   "outputs": [],
   "source": [
    "def findTarget(nums,target):\n",
    "    #Using binary search with O(logn) time complexity\n",
    "    l=0\n",
    "    r=len(nums)-1\n",
    "    while l<r:\n",
    "        mid=(l+r)//2\n",
    "        if nums[mid]==target:\n",
    "            return True\n",
    "        elif nums[mid]>target:\n",
    "            r=mid-1\n",
    "        else:\n",
    "            l=mid+1\n",
    "    return False"
   ]
  },
  {
   "cell_type": "code",
   "execution_count": 18,
   "id": "7a4328a1",
   "metadata": {},
   "outputs": [
    {
     "data": {
      "text/plain": [
       "True"
      ]
     },
     "execution_count": 18,
     "metadata": {},
     "output_type": "execute_result"
    }
   ],
   "source": [
    "findTarget([1,3,5,7],5)"
   ]
  },
  {
   "cell_type": "code",
   "execution_count": 19,
   "id": "d44b0757",
   "metadata": {
    "scrolled": true
   },
   "outputs": [
    {
     "data": {
      "text/plain": [
       "False"
      ]
     },
     "execution_count": 19,
     "metadata": {},
     "output_type": "execute_result"
    }
   ],
   "source": [
    "findTarget([1,3,6,7],5)"
   ]
  },
  {
   "cell_type": "code",
   "execution_count": 20,
   "id": "763f2109",
   "metadata": {},
   "outputs": [
    {
     "data": {
      "text/plain": [
       "False"
      ]
     },
     "execution_count": 20,
     "metadata": {},
     "output_type": "execute_result"
    }
   ],
   "source": [
    "findTarget([],5)"
   ]
  },
  {
   "cell_type": "markdown",
   "id": "21a4d1d4",
   "metadata": {},
   "source": [
    "**Question 5**\n",
    "\n",
    "You are given a large integer represented as an integer array digits, where each\n",
    "digits[i] is the ith digit of the integer. The digits are ordered from most significant\n",
    "to least significant in left-to-right order. The large integer does not contain any\n",
    "leading 0's.\n",
    "\n",
    "Increment the large integer by one and return the resulting array of digits.\n",
    "\n",
    "**Example 1:**\n",
    "\n",
    "Input: digits = [1,2,3]\n",
    "\n",
    "Output: [1,2,4]"
   ]
  },
  {
   "cell_type": "code",
   "execution_count": 48,
   "id": "88af8a79",
   "metadata": {},
   "outputs": [],
   "source": [
    "def addOne(nums):\n",
    "    for i in range(len(nums)-1,-1,-1):\n",
    "        if i==len(nums)-1:\n",
    "            nums[i]+=1\n",
    "        if nums[i]==10:\n",
    "            nums[i]=0\n",
    "            if i!=0:\n",
    "                nums[i-1]+=1\n",
    "            elif i==0:\n",
    "                nums.insert(0,1)\n",
    "    return nums           "
   ]
  },
  {
   "cell_type": "code",
   "execution_count": 49,
   "id": "34e06209",
   "metadata": {},
   "outputs": [
    {
     "data": {
      "text/plain": [
       "[1, 2, 4]"
      ]
     },
     "execution_count": 49,
     "metadata": {},
     "output_type": "execute_result"
    }
   ],
   "source": [
    "addOne([1,2,3])"
   ]
  },
  {
   "cell_type": "code",
   "execution_count": 50,
   "id": "9520c13b",
   "metadata": {},
   "outputs": [
    {
     "data": {
      "text/plain": [
       "[1, 0, 0, 0]"
      ]
     },
     "execution_count": 50,
     "metadata": {},
     "output_type": "execute_result"
    }
   ],
   "source": [
    "addOne([9,9,9])"
   ]
  },
  {
   "cell_type": "markdown",
   "id": "f9ff1389",
   "metadata": {},
   "source": [
    "**Question 6**\n",
    "\n",
    "Given a non-empty array of integers nums, every element appears twice except\n",
    "for one. Find that single one.\n",
    "\n",
    "You must implement a solution with a linear runtime complexity and use only\n",
    "constant extra space.\n",
    "\n",
    "**Example 1:**\n",
    "\n",
    "Input: nums = [2,2,1]\n",
    "\n",
    "Output: 1"
   ]
  },
  {
   "cell_type": "code",
   "execution_count": 72,
   "id": "864e8a5c",
   "metadata": {},
   "outputs": [],
   "source": [
    "def singleNum(nums):\n",
    "    result=0\n",
    "    for i in range(len(nums)):\n",
    "        result=result^nums[i]\n",
    "    return result"
   ]
  },
  {
   "cell_type": "code",
   "execution_count": 73,
   "id": "1e30c6a9",
   "metadata": {},
   "outputs": [
    {
     "data": {
      "text/plain": [
       "1"
      ]
     },
     "execution_count": 73,
     "metadata": {},
     "output_type": "execute_result"
    }
   ],
   "source": [
    "singleNum([2,2,1])"
   ]
  },
  {
   "cell_type": "code",
   "execution_count": 74,
   "id": "932eb68e",
   "metadata": {},
   "outputs": [
    {
     "data": {
      "text/plain": [
       "4"
      ]
     },
     "execution_count": 74,
     "metadata": {},
     "output_type": "execute_result"
    }
   ],
   "source": [
    "singleNum([1,2,3,4,5,6,1,2,3,5,6])"
   ]
  },
  {
   "cell_type": "code",
   "execution_count": 75,
   "id": "409062c2",
   "metadata": {},
   "outputs": [
    {
     "data": {
      "text/plain": [
       "0"
      ]
     },
     "execution_count": 75,
     "metadata": {},
     "output_type": "execute_result"
    }
   ],
   "source": [
    "singleNum([])"
   ]
  },
  {
   "cell_type": "markdown",
   "id": "e5e5006b",
   "metadata": {},
   "source": [
    "**Question 7**\n",
    "\n",
    "You are given an inclusive range [lower, upper] and a sorted unique integer array\n",
    "nums, where all elements are within the inclusive range.\n",
    "\n",
    "A number x is considered missing if x is in the range [lower, upper] and x is not in\n",
    "nums.\n",
    "\n",
    "Return the shortest sorted list of ranges that exactly covers all the missing\n",
    "numbers. That is, no element of nums is included in any of the ranges, and each\n",
    "missing number is covered by one of the ranges.\n",
    "\n",
    "**Example 1:**\n",
    "\n",
    "Input: nums = [0,1,3,50,75], lower = 0, upper = 99\n",
    "\n",
    "Output: [[2,2],[4,49],[51,74],[76,99]]\n"
   ]
  },
  {
   "cell_type": "code",
   "execution_count": 94,
   "id": "3afb3e38",
   "metadata": {},
   "outputs": [],
   "source": [
    "def ranges(nums,lower,upper):\n",
    "    result=[]\n",
    "    l=nums[0]\n",
    "    if nums[0]!=lower:\n",
    "        l=lower\n",
    "    else:\n",
    "        for i in range(1,len(nums)-1):\n",
    "            if nums[i]+1!=nums[i+1]:\n",
    "                l=nums[i]+1\n",
    "                r=nums[i+1]-1\n",
    "                result.append([l,r])\n",
    "    if nums[-1]!=upper:\n",
    "        l=nums[-1]+1\n",
    "        r=upper\n",
    "        result.append([l,r])\n",
    "    return result                "
   ]
  },
  {
   "cell_type": "code",
   "execution_count": 95,
   "id": "f7501cb7",
   "metadata": {},
   "outputs": [
    {
     "data": {
      "text/plain": [
       "[[2, 2], [4, 49], [51, 74], [76, 99]]"
      ]
     },
     "execution_count": 95,
     "metadata": {},
     "output_type": "execute_result"
    }
   ],
   "source": [
    "ranges([0,1,3,50,75],0,99)"
   ]
  },
  {
   "cell_type": "code",
   "execution_count": 96,
   "id": "4852b2de",
   "metadata": {},
   "outputs": [
    {
     "data": {
      "text/plain": [
       "[[2, 4], [6, 49], [51, 74], [76, 79]]"
      ]
     },
     "execution_count": 96,
     "metadata": {},
     "output_type": "execute_result"
    }
   ],
   "source": [
    "ranges([0,1,5,50,75],0,79)"
   ]
  },
  {
   "cell_type": "markdown",
   "id": "487da7f4",
   "metadata": {},
   "source": [
    "**Question 8**\n",
    "\n",
    "Given an array of meeting time intervals where intervals[i] = [starti, endi],\n",
    "determine if a person could attend all meetings.\n",
    "\n",
    "**Example 1:**\n",
    "\n",
    "Input: intervals = [[0,30],[5,10],[15,20]]\n",
    "\n",
    "Output: false"
   ]
  },
  {
   "cell_type": "code",
   "execution_count": 69,
   "id": "63a7ce6c",
   "metadata": {},
   "outputs": [],
   "source": [
    "def interval(intervals):\n",
    "    #Sorting the arrays by the start time of each inetrval\n",
    "    intervals.sort(key=lambda intervals: intervals[0])\n",
    "    #Checking if there is a overlap of intervals based on end time\n",
    "    for i in range(len(intervals)-1):\n",
    "        if intervals[i][1]>intervals[i+1][i]:\n",
    "            return False\n",
    "    return True"
   ]
  },
  {
   "cell_type": "code",
   "execution_count": 70,
   "id": "ce80d440",
   "metadata": {},
   "outputs": [
    {
     "data": {
      "text/plain": [
       "False"
      ]
     },
     "execution_count": 70,
     "metadata": {},
     "output_type": "execute_result"
    }
   ],
   "source": [
    "interval([[0,30],[5,10],[15,20]])"
   ]
  },
  {
   "cell_type": "code",
   "execution_count": 71,
   "id": "b427b92b",
   "metadata": {},
   "outputs": [
    {
     "data": {
      "text/plain": [
       "True"
      ]
     },
     "execution_count": 71,
     "metadata": {},
     "output_type": "execute_result"
    }
   ],
   "source": [
    "interval([[0,3],[5,10],[15,20]])"
   ]
  },
  {
   "cell_type": "code",
   "execution_count": null,
   "id": "51d4e394",
   "metadata": {},
   "outputs": [],
   "source": []
  }
 ],
 "metadata": {
  "kernelspec": {
   "display_name": "Python 3 (ipykernel)",
   "language": "python",
   "name": "python3"
  },
  "language_info": {
   "codemirror_mode": {
    "name": "ipython",
    "version": 3
   },
   "file_extension": ".py",
   "mimetype": "text/x-python",
   "name": "python",
   "nbconvert_exporter": "python",
   "pygments_lexer": "ipython3",
   "version": "3.8.11"
  }
 },
 "nbformat": 4,
 "nbformat_minor": 5
}
