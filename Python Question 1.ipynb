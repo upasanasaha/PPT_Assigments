{
 "cells": [
  {
   "cell_type": "markdown",
   "id": "a32a81c7",
   "metadata": {},
   "source": [
    "**Question 1**: -\n",
    "Write a program that takes a string as input, and counts the frequency of each word in the string, there might\n",
    "be repeated characters in the string. Your task is to find the highest frequency and returns the length of the\n",
    "highest-frequency word.\n",
    "\n",
    "**Note** - You have to write at least 2 additional test cases in which your program will run successfully and provide\n",
    "an explanation for the same.\n",
    "\n",
    "Example input - string = “write write write all the number from from from 1 to 100”\n",
    "\n",
    "Example output - 5\n",
    "\n",
    "Explanation - From the given string we can note that the most frequent words are"
   ]
  },
  {
   "cell_type": "code",
   "execution_count": 1,
   "id": "b49cd0e5",
   "metadata": {},
   "outputs": [],
   "source": [
    "def wordCount(string):\n",
    "    #splitting different words of the string into a list\n",
    "    words=string.split(' ')\n",
    "    count=dict()\n",
    "    #counting the occurance of each word and storing it in a dictionary\n",
    "    for word in words:\n",
    "        if word in count.keys():\n",
    "            count[word]+=1\n",
    "        else:\n",
    "            count[word]=1\n",
    "    #Getting the most occurance of a word\n",
    "    max_count=max(count.values())\n",
    "    #getting the length of the longest word with the most occurance\n",
    "    max_word=[k for k,v in count.items() if v == max_count]\n",
    "    res = max(max_word, key = len)\n",
    "    return len(res)"
   ]
  },
  {
   "cell_type": "code",
   "execution_count": 2,
   "id": "c18730bb",
   "metadata": {},
   "outputs": [
    {
     "data": {
      "text/plain": [
       "5"
      ]
     },
     "execution_count": 2,
     "metadata": {},
     "output_type": "execute_result"
    }
   ],
   "source": [
    "wordCount(\"write write write all the number from from from 1 to 100\")"
   ]
  },
  {
   "cell_type": "code",
   "execution_count": 3,
   "id": "228f1d27",
   "metadata": {},
   "outputs": [
    {
     "data": {
      "text/plain": [
       "7"
      ]
     },
     "execution_count": 3,
     "metadata": {},
     "output_type": "execute_result"
    }
   ],
   "source": [
    "wordCount('The cat is running after the rat which is running after the cheese')"
   ]
  },
  {
   "cell_type": "code",
   "execution_count": 4,
   "id": "52fbbb6f",
   "metadata": {},
   "outputs": [
    {
     "data": {
      "text/plain": [
       "7"
      ]
     },
     "execution_count": 4,
     "metadata": {},
     "output_type": "execute_result"
    }
   ],
   "source": [
    "wordCount(\"write the program program program program with the optimized optimized optimized time complexity\")"
   ]
  },
  {
   "cell_type": "code",
   "execution_count": 5,
   "id": "caeaf73b",
   "metadata": {},
   "outputs": [
    {
     "data": {
      "text/plain": [
       "0"
      ]
     },
     "execution_count": 5,
     "metadata": {},
     "output_type": "execute_result"
    }
   ],
   "source": [
    "wordCount('')"
   ]
  },
  {
   "cell_type": "code",
   "execution_count": 6,
   "id": "de23a947",
   "metadata": {
    "scrolled": true
   },
   "outputs": [
    {
     "data": {
      "text/plain": [
       "3"
      ]
     },
     "execution_count": 6,
     "metadata": {},
     "output_type": "execute_result"
    }
   ],
   "source": [
    "wordCount('hey')"
   ]
  },
  {
   "cell_type": "code",
   "execution_count": null,
   "id": "7aa80a77",
   "metadata": {},
   "outputs": [],
   "source": []
  }
 ],
 "metadata": {
  "kernelspec": {
   "display_name": "Python 3 (ipykernel)",
   "language": "python",
   "name": "python3"
  },
  "language_info": {
   "codemirror_mode": {
    "name": "ipython",
    "version": 3
   },
   "file_extension": ".py",
   "mimetype": "text/x-python",
   "name": "python",
   "nbconvert_exporter": "python",
   "pygments_lexer": "ipython3",
   "version": "3.8.11"
  }
 },
 "nbformat": 4,
 "nbformat_minor": 5
}
